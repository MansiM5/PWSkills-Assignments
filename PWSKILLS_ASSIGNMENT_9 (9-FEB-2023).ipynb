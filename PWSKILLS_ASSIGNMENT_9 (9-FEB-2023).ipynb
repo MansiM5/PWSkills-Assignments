{
 "cells": [
  {
   "cell_type": "markdown",
   "id": "87c007b2",
   "metadata": {},
   "source": [
    "* Q1, Create a vehicle class with an init method having instance variables as name_of_vehicle, max_speed and average_of_vehicle."
   ]
  },
  {
   "cell_type": "code",
   "execution_count": 18,
   "id": "8506f69a",
   "metadata": {},
   "outputs": [
    {
     "name": "stdout",
     "output_type": "stream",
     "text": [
      "Vehicle name is: Slavia, maximum speed: 186 and average is: 18-20\n",
      "Vehicle name is: Honda city, maximum speed: 170 and average is: 18-27\n"
     ]
    }
   ],
   "source": [
    "class vehicle:\n",
    "    \n",
    "    def __init__(self, name_of_vehicle, max_speed, average_of_vehicle):\n",
    "        self.name_of_vehicle = name_of_vehicle\n",
    "        self.max_speed = max_speed\n",
    "        self.average_of_vehicle = average_of_vehicle\n",
    "        \n",
    "        print(f\"Vehicle name is: {name_of_vehicle}, maximum speed: {max_speed} and average is: {average_of_vehicle}\")\n",
    "   \n",
    "skoda= vehicle(\"Slavia\", 186, \"18-20\")\n",
    "honda= vehicle(\"Honda city\", 170, \"18-27\")"
   ]
  },
  {
   "cell_type": "markdown",
   "id": "95034fb2",
   "metadata": {},
   "source": [
    "* Q2. Create a child class car from the vehicle class created in Que 1, which will inherit the vehicle class.Create a method named seating_capacity which takes capacity as an argument and returns the name of the vehicle and its seating capacity."
   ]
  },
  {
   "cell_type": "code",
   "execution_count": 26,
   "id": "ef5412db",
   "metadata": {},
   "outputs": [
    {
     "name": "stdout",
     "output_type": "stream",
     "text": [
      "Vehicle name is: Slavia, maximum speed: 186 and average is: 18-20\n"
     ]
    },
    {
     "data": {
      "text/plain": [
       "('Slavia', 5)"
      ]
     },
     "execution_count": 26,
     "metadata": {},
     "output_type": "execute_result"
    }
   ],
   "source": [
    "class car(vehicle):\n",
    "    \n",
    "    def seating_capacity(self, capacity):\n",
    "        return self.name_of_vehicle, capacity\n",
    "    \n",
    "skoda= car(\"Slavia\", 186, \"18-20\")\n",
    "skoda.seating_capacity(5)"
   ]
  },
  {
   "cell_type": "markdown",
   "id": "6b5e5878",
   "metadata": {},
   "source": [
    "Q3. What is multiple inheritance? Write a python code to demonstrate multiple inheritance.\n",
    "* Ans- Multiple inheritance is a process wherein a class can inherit properties from more than one class."
   ]
  },
  {
   "cell_type": "code",
   "execution_count": 41,
   "id": "d061955a",
   "metadata": {},
   "outputs": [
    {
     "name": "stdout",
     "output_type": "stream",
     "text": [
      "This is data_science masters course section\n",
      "This is full stack web developement course section\n"
     ]
    }
   ],
   "source": [
    "class data_science:\n",
    "    def data_science_masters(self):\n",
    "        print(\"This is data_science masters course section\")\n",
    "        \n",
    "class web_dev:\n",
    "    def fs_web_dev(self):\n",
    "        print(\"This is full stack web developement course section\")\n",
    "        \n",
    "class courses(data_science, web_dev): \n",
    "    pass\n",
    "\n",
    "c=courses() #here from a class courses you can access both data_science & web_dev classes methods.\n",
    "c.data_science_masters()\n",
    "c.fs_web_dev()"
   ]
  },
  {
   "cell_type": "markdown",
   "id": "6b03e37d",
   "metadata": {},
   "source": [
    "Q4. What are getter and setter in python? Create a class and create a getter and a setter method in this class.\n",
    "* Getter- These are methods used in OOP's which helps to access the private attributes from a class.\n",
    "* Setter- These are methods used in OOP's which helps to set the value to private attributes in a class."
   ]
  },
  {
   "cell_type": "code",
   "execution_count": 90,
   "id": "46c6f9f8",
   "metadata": {},
   "outputs": [
    {
     "name": "stdout",
     "output_type": "stream",
     "text": [
      "100\n",
      "50\n"
     ]
    }
   ],
   "source": [
    "class students:\n",
    "    def student_enrolled(self, total_enrolment):\n",
    "        self.__total= total_enrolment\n",
    "        \n",
    "    def get_total(self): #getter method\n",
    "        return self.__total\n",
    "    \n",
    "    def set_total(self, total_enrolment): #setter method\n",
    "        self.__total= total_enrolment\n",
    "        \n",
    "s=students()\n",
    "s.student_enrolled(100)\n",
    "print(s.get_total()) #output will be 100\n",
    "s.set_total(50)\n",
    "print(s.get_total()) #output is 50"
   ]
  },
  {
   "cell_type": "markdown",
   "id": "2b0c45e4",
   "metadata": {},
   "source": [
    "Q5.What is method overriding in python? Write a python code to demonstrate method overriding.\n",
    "\n",
    "Ans- Method overriding is when you have two methods with the same name but perform different tasks. It allows us to change the implementation of a function in child class that is defined in parent class.\n",
    "Conditions to be met:\n",
    "* Inheritance should be there\n",
    "* Function that is redefined in child class should have same number of parameters"
   ]
  },
  {
   "cell_type": "code",
   "execution_count": 116,
   "id": "5d532ead",
   "metadata": {},
   "outputs": [
    {
     "name": "stdout",
     "output_type": "stream",
     "text": [
      "My color is red. Rose class\n",
      "You define the color for me. Flower class\n",
      "My color is yellow. Sunflower class\n"
     ]
    }
   ],
   "source": [
    "class flower:\n",
    "    def flower_color(self): #parent class\n",
    "        print(\"You define the color for me. Flower class\")\n",
    "        \n",
    "    def flower_type(self):\n",
    "        print(\"I am a wild flower\")\n",
    "        \n",
    "class rose(flower): #child class1\n",
    "    def flower_color(self):\n",
    "        print(\"My color is red. Rose class\")\n",
    "        \n",
    "class sunflower(flower): #child class2\n",
    "    def flower_color(self):\n",
    "        print(\"My color is yellow. Sunflower class\")\n",
    "    \n",
    "        \n",
    "#here we see method name is same, but the implementation is changed in child class\n",
    "r=rose()\n",
    "r.flower_color() \n",
    "f=flower()\n",
    "f.flower_color()\n",
    "s=sunflower()\n",
    "s.flower_color()"
   ]
  },
  {
   "cell_type": "code",
   "execution_count": null,
   "id": "62e3b180",
   "metadata": {},
   "outputs": [],
   "source": []
  }
 ],
 "metadata": {
  "kernelspec": {
   "display_name": "Python 3 (ipykernel)",
   "language": "python",
   "name": "python3"
  },
  "language_info": {
   "codemirror_mode": {
    "name": "ipython",
    "version": 3
   },
   "file_extension": ".py",
   "mimetype": "text/x-python",
   "name": "python",
   "nbconvert_exporter": "python",
   "pygments_lexer": "ipython3",
   "version": "3.9.12"
  }
 },
 "nbformat": 4,
 "nbformat_minor": 5
}
