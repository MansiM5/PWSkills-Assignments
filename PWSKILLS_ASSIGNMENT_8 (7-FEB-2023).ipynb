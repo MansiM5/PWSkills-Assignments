{
 "cells": [
  {
   "cell_type": "markdown",
   "id": "03e6e058",
   "metadata": {},
   "source": [
    "Q1. You are writing code for a company. The requirement of the company is that you create a python\n",
    "function that will check whether the password entered by the user is correct or not. The function should\n",
    "take the password as input and return the string “Valid Password” if the entered password follows the\n",
    "below-given password guidelines else it should return “Invalid Password”.\n",
    "Note: 1. The Password should contain at least two uppercase letters and at least two lowercase letters.\n",
    "2. The Password should contain at least a number and three special characters.\n",
    "3. The length of the password should be 10 characters long."
   ]
  },
  {
   "cell_type": "code",
   "execution_count": 82,
   "id": "697d3a72",
   "metadata": {},
   "outputs": [
    {
     "name": "stdout",
     "output_type": "stream",
     "text": [
      "Valid Password\n"
     ]
    }
   ],
   "source": [
    "a,b,c,d = 0, 0, 0, 0\n",
    "s = \"MMaa1@#$ty\"\n",
    "if (len(s) == 10):\n",
    "    for i in s:\n",
    "        if (i.islower()):\n",
    "            a=a+1           \n",
    "        if (i.isupper()):\n",
    "            b=b+1          \n",
    "        if (i.isdigit()):\n",
    "            c=c+1          \n",
    "        if(i=='@'or i=='#'or i=='%' or i=='$' or i=='_' or i=='&'):\n",
    "            d=d+1          \n",
    "if (a>=2 and b>=2 and c>=1 and d==3 and a+b+c+d==len(s)):\n",
    "    print(\"Valid Password\")\n",
    "else:\n",
    "    print(\"Invalid Password\")"
   ]
  },
  {
   "cell_type": "markdown",
   "id": "4a9070ed",
   "metadata": {},
   "source": [
    "Q2. Solve the below-given questions using at least one of the following:\n",
    "1. Lambda functioJ\n",
    "2. Filter functioJ\n",
    "3. map functioJ\n",
    "4. List ComprehensioI\n",
    "\n",
    "B Check if the string starts with a particular letter\n",
    "B Check if the string is numericY\n",
    "B Sort a list of tuples having fruit names and their quantity. [(\"mango\",99),(\"orange\",80), (\"grapes\", 1000)-\n",
    "B Find the squares of numbers from 1 to 10Y\n",
    "B Find the cube root of numbers from 1 to 10Y\n",
    "B Check if a given number is evenY\n",
    "B Filter odd numbers from the given list.\n",
    "[1,2,3,4,5,6,7,8,9,10-\n",
    "B Sort a list of integers into positive and negative integers lists.\n",
    "[1,2,3,4,5,6,-1,-2,-3,-4,-5,0]"
   ]
  },
  {
   "cell_type": "code",
   "execution_count": 44,
   "id": "95fa774e",
   "metadata": {},
   "outputs": [
    {
     "name": "stdout",
     "output_type": "stream",
     "text": [
      "True\n"
     ]
    }
   ],
   "source": [
    "#1.\n",
    "s=\"mansi\"\n",
    "particular_letter=lambda i: True if s[0]==\"m\" else False\n",
    "print(particular_letter(s))"
   ]
  },
  {
   "cell_type": "code",
   "execution_count": 52,
   "id": "dc94ce84",
   "metadata": {},
   "outputs": [
    {
     "name": "stdout",
     "output_type": "stream",
     "text": [
      "True\n"
     ]
    }
   ],
   "source": [
    "#2.\n",
    "m= \"12344\"\n",
    "num_string= lambda i: True if m.isnumeric() else False\n",
    "print(num_string(s))"
   ]
  },
  {
   "cell_type": "code",
   "execution_count": 58,
   "id": "225ded4f",
   "metadata": {},
   "outputs": [
    {
     "data": {
      "text/plain": [
       "[('orange', 80), ('mango', 99), ('grapes', 1000)]"
      ]
     },
     "execution_count": 58,
     "metadata": {},
     "output_type": "execute_result"
    }
   ],
   "source": [
    "#3.\n",
    "t=[(\"mango\",99),(\"orange\",80), (\"grapes\", 1000)]\n",
    "sorted(t, key=lambda t:t[1])                                                          "
   ]
  },
  {
   "cell_type": "code",
   "execution_count": 62,
   "id": "7ebc0844",
   "metadata": {},
   "outputs": [
    {
     "data": {
      "text/plain": [
       "[1, 4, 9, 16, 25, 36, 49, 64, 81, 100]"
      ]
     },
     "execution_count": 62,
     "metadata": {},
     "output_type": "execute_result"
    }
   ],
   "source": [
    "#4.\n",
    "list(map(lambda x: x**2,list(range(1,11))))"
   ]
  },
  {
   "cell_type": "code",
   "execution_count": 63,
   "id": "e1a1ddf7",
   "metadata": {},
   "outputs": [
    {
     "data": {
      "text/plain": [
       "[1, 8, 27, 64, 125, 216, 343, 512, 729, 1000]"
      ]
     },
     "execution_count": 63,
     "metadata": {},
     "output_type": "execute_result"
    }
   ],
   "source": [
    "#5.\n",
    "list(map(lambda x: x**3,list(range(1,11))))"
   ]
  },
  {
   "cell_type": "code",
   "execution_count": 66,
   "id": "edebfa8a",
   "metadata": {},
   "outputs": [
    {
     "name": "stdout",
     "output_type": "stream",
     "text": [
      "False\n"
     ]
    }
   ],
   "source": [
    "#6.\n",
    "even_num= lambda x: True if x%2==0 else False\n",
    "print(even_num(33))"
   ]
  },
  {
   "cell_type": "code",
   "execution_count": 68,
   "id": "27332074",
   "metadata": {},
   "outputs": [
    {
     "data": {
      "text/plain": [
       "[1, 3, 5, 7, 9]"
      ]
     },
     "execution_count": 68,
     "metadata": {},
     "output_type": "execute_result"
    }
   ],
   "source": [
    "#7.\n",
    "l=[1,2,3,4,5,6,7,8,9,10]\n",
    "list(filter(lambda x: x%2!=0, l))"
   ]
  },
  {
   "cell_type": "code",
   "execution_count": 73,
   "id": "899d9968",
   "metadata": {},
   "outputs": [
    {
     "data": {
      "text/plain": [
       "([-1, -2, -3, -4, -5], [1, 2, 3, 4, 5, 6, 0])"
      ]
     },
     "execution_count": 73,
     "metadata": {},
     "output_type": "execute_result"
    }
   ],
   "source": [
    "#8.\n",
    "l1=[1,2,3,4,5,6,-1,-2,-3,-4,-5,0]\n",
    "[x for x in l1 if x<0] , [x for x in l1 if x>=0]"
   ]
  }
 ],
 "metadata": {
  "kernelspec": {
   "display_name": "Python 3 (ipykernel)",
   "language": "python",
   "name": "python3"
  },
  "language_info": {
   "codemirror_mode": {
    "name": "ipython",
    "version": 3
   },
   "file_extension": ".py",
   "mimetype": "text/x-python",
   "name": "python",
   "nbconvert_exporter": "python",
   "pygments_lexer": "ipython3",
   "version": "3.9.12"
  }
 },
 "nbformat": 4,
 "nbformat_minor": 5
}
