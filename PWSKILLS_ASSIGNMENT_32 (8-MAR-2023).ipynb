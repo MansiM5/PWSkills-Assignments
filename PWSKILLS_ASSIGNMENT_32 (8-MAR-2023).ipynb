{
 "cells": [
  {
   "cell_type": "code",
   "execution_count": null,
   "id": "b83f8c19",
   "metadata": {},
   "outputs": [],
   "source": [
    "Q1. What is the Probability density function?"
   ]
  },
  {
   "cell_type": "markdown",
   "id": "33cdf7e3",
   "metadata": {},
   "source": [
    "The probability density function is a function that describes the probability distribution of a continuous random variable. "
   ]
  },
  {
   "cell_type": "code",
   "execution_count": null,
   "id": "c7d3044a",
   "metadata": {},
   "outputs": [],
   "source": [
    "Q2. What are the types of Probability distribution?"
   ]
  },
  {
   "cell_type": "markdown",
   "id": "e16eaf26",
   "metadata": {},
   "source": [
    "* Normal Distribution\n",
    "* Bernaulli Distriution\n",
    "* Uniform Distriution\n",
    "* Log Normal Distriution\n",
    "* Poisson Distriution\n",
    "* Power law Distriution\n",
    "* Binomial Distriution"
   ]
  },
  {
   "cell_type": "code",
   "execution_count": null,
   "id": "15522e84",
   "metadata": {},
   "outputs": [],
   "source": [
    "Q3. Write a Python function to calculate the probability density function of a normal distribution with\n",
    "given mean and standard deviation at a given point."
   ]
  },
  {
   "cell_type": "code",
   "execution_count": 11,
   "id": "656d4ba6",
   "metadata": {},
   "outputs": [
    {
     "name": "stdout",
     "output_type": "stream",
     "text": [
      "Mean & std is:  50.36269755940783 and 4.738051634482582\n"
     ]
    },
    {
     "data": {
      "image/png": "[encoded data removed]",
      "text/plain": [
       "<Figure size 432x288 with 1 Axes>"
      ]
     },
     "metadata": {
      "needs_background": "light"
     },
     "output_type": "display_data"
    }
   ],
   "source": [
    "import numpy as np\n",
    "from matplotlib import pyplot\n",
    "from numpy.random import normal\n",
    "from numpy import mean\n",
    "from numpy import std\n",
    "from scipy.stats import norm\n",
    "\n",
    "sample = normal(loc=50, scale=5, size=100)\n",
    "sample_mean = np.mean(sample)\n",
    "sample_std = np.std(sample)\n",
    "print(\"Mean & std is: \", sample_mean, \"and\", sample_std)\n",
    "\n",
    "dist = norm(sample_mean, sample_std)\n",
    "values = [value for value in range(30, 70)]\n",
    "probabilities = [dist.pdf(value) for value in values]\n",
    "\n",
    "pyplot.hist(sample, bins=10, density=True)\n",
    "pyplot.plot(values, probabilities)\n",
    "\n",
    "pyplot.show()\n"
   ]
  },
  {
   "cell_type": "code",
   "execution_count": null,
   "id": "ece89010",
   "metadata": {},
   "outputs": [],
   "source": [
    "Q4. What are the properties of Binomial distribution? Give two examples of events where binomial\n",
    "distribution can be applied."
   ]
  },
  {
   "cell_type": "markdown",
   "id": "ba34a56d",
   "metadata": {},
   "source": [
    "* Properties:\n",
    " * Independent trials, Fixed number of trials, Two possible outcomes, Discrete probability distribution, PMF, Mean= np, Variance= npq\n",
    "* Examples: Medical Tests, Tossing a coin n number of times"
   ]
  },
  {
   "cell_type": "code",
   "execution_count": null,
   "id": "980daa2b",
   "metadata": {},
   "outputs": [],
   "source": [
    "Q5. Generate a random sample of size 1000 from a binomial distribution with probability of success 0.4\n",
    "and plot a histogram of the results using matplotlib."
   ]
  },
  {
   "cell_type": "code",
   "execution_count": 12,
   "id": "a25bcdfa",
   "metadata": {},
   "outputs": [
    {
     "data": {
      "image/png": "[encoded data removed]",
      "text/plain": [
       "<Figure size 432x288 with 1 Axes>"
      ]
     },
     "metadata": {
      "needs_background": "light"
     },
     "output_type": "display_data"
    }
   ],
   "source": [
    "import numpy as np\n",
    "import matplotlib.pyplot as plt\n",
    "\n",
    "n = 1000\n",
    "p = 0.4\n",
    "sample = np.random.binomial(n, p, size=1000)\n",
    "\n",
    "plt.hist(sample, bins=20, density=True, alpha=0.5)\n",
    "plt.xlabel('Number of successes')\n",
    "plt.ylabel('Probability density')\n",
    "plt.title('Histogram of Binomial Distribution with n=1000, p=0.4')\n",
    "plt.show()\n",
    "\n"
   ]
  },
  {
   "cell_type": "code",
   "execution_count": null,
   "id": "04d9318f",
   "metadata": {},
   "outputs": [],
   "source": [
    "Q6. Write a Python function to calculate the cumulative distribution function of a Poisson distribution\n",
    "with given mean at a given point."
   ]
  },
  {
   "cell_type": "code",
   "execution_count": 14,
   "id": "63d98f4b",
   "metadata": {},
   "outputs": [
    {
     "name": "stdout",
     "output_type": "stream",
     "text": [
      "The cumulative distribution function of Poisson distribution with mean 3.5 at k=2 is 0.3208\n"
     ]
    }
   ],
   "source": [
    "import math\n",
    "\n",
    "def poisson_cdf(mu, k):\n",
    "    cdf = 0\n",
    "    for i in range(k + 1):\n",
    "        cdf += (mu ** i / math.factorial(i)) * math.exp(-mu)\n",
    "    return cdf\n",
    "\n",
    "mu = 3.5\n",
    "k = 2\n",
    "cdf = poisson_cdf(mu, k)\n",
    "print(\"The cumulative distribution function of Poisson distribution with mean {} at k={} is {:.4f}\".format(mu, k, cdf))\n"
   ]
  },
  {
   "cell_type": "code",
   "execution_count": null,
   "id": "14ba50c6",
   "metadata": {},
   "outputs": [],
   "source": [
    "Q7. How Binomial distribution different from Poisson distribution?"
   ]
  },
  {
   "cell_type": "markdown",
   "id": "49815c0b",
   "metadata": {},
   "source": [
    "A Binomial distribution is used when we have a fixed number of independent trials, each with a fixed probability of success. A Poisson distribution is used when we are interested in the number of occurrences of a certain event in a fixed interval of time or space"
   ]
  },
  {
   "cell_type": "code",
   "execution_count": null,
   "id": "6cf0eb5e",
   "metadata": {},
   "outputs": [],
   "source": [
    "Q8. Generate a random sample of size 1000 from a Poisson distribution with mean 5 and calculate the\n",
    "sample mean and variance."
   ]
  },
  {
   "cell_type": "code",
   "execution_count": 15,
   "id": "e35d3826",
   "metadata": {},
   "outputs": [
    {
     "name": "stdout",
     "output_type": "stream",
     "text": [
      "Sample mean: 4.957\n",
      "Sample variance: 4.964115115115115\n"
     ]
    }
   ],
   "source": [
    "import numpy as np\n",
    "\n",
    "n = 1000\n",
    "mu = 5\n",
    "\n",
    "sample = np.random.poisson(mu, size=n)\n",
    "\n",
    "sample_mean = np.mean(sample)\n",
    "sample_var = np.var(sample, ddof=1)\n",
    "\n",
    "print(\"Sample mean:\", sample_mean)\n",
    "print(\"Sample variance:\", sample_var)\n"
   ]
  },
  {
   "cell_type": "code",
   "execution_count": null,
   "id": "c9f0e2fc",
   "metadata": {},
   "outputs": [],
   "source": [
    "Q9. How mean and variance are related in Binomial distribution and Poisson distribution?"
   ]
  },
  {
   "cell_type": "markdown",
   "id": "18ce48fe",
   "metadata": {},
   "source": [
    "* In binomial distribution, variance = Mean * q, where Mean = np\n",
    "* In Poisson distribution, Mean = Variance"
   ]
  },
  {
   "cell_type": "code",
   "execution_count": null,
   "id": "ab2faea2",
   "metadata": {},
   "outputs": [],
   "source": [
    "Q10. In normal distribution with respect to mean position, where does the least frequent data appear?"
   ]
  },
  {
   "cell_type": "markdown",
   "id": "4c9751b7",
   "metadata": {},
   "source": [
    "In a normal distribution, the least frequent data appears at the tails of the distribution"
   ]
  },
  {
   "cell_type": "code",
   "execution_count": null,
   "id": "d28e4ccf",
   "metadata": {},
   "outputs": [],
   "source": []
  }
 ],
 "metadata": {
  "kernelspec": {
   "display_name": "Python 3 (ipykernel)",
   "language": "python",
   "name": "python3"
  },
  "language_info": {
   "codemirror_mode": {
    "name": "ipython",
    "version": 3
   },
   "file_extension": ".py",
   "mimetype": "text/x-python",
   "name": "python",
   "nbconvert_exporter": "python",
   "pygments_lexer": "ipython3",
   "version": "3.9.12"
  }
 },
 "nbformat": 4,
 "nbformat_minor": 5
}
