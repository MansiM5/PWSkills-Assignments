{
 "cells": [
  {
   "cell_type": "code",
   "execution_count": null,
   "id": "e3863cf9",
   "metadata": {},
   "outputs": [],
   "source": [
    "Q1. What are the three measures of central tendency?"
   ]
  },
  {
   "cell_type": "markdown",
   "id": "8ad504b0",
   "metadata": {},
   "source": [
    "Mean, Median, Mode"
   ]
  },
  {
   "cell_type": "code",
   "execution_count": null,
   "id": "588df110",
   "metadata": {},
   "outputs": [],
   "source": [
    "Q2. What is the difference between the mean, median, and mode? How are they used to measure the\n",
    "central tendency of a dataset?"
   ]
  },
  {
   "cell_type": "markdown",
   "id": "d4f5fc3a",
   "metadata": {},
   "source": [
    "* Mean is the average, Median is the middle element and Mode is the most occuring element. Mean is appropriate for normally distributed data, while the median is appropriate for skewed data. The mode is useful for identifying the most common category or value in a dataset.\n",
    " * To caculate mean, add all values & divide by total number of values\n",
    " * To calculate median, arrange values in ascending order. For even counts, take average of two middle values. For odd counts, the moddle value is median\n",
    " * To calculate mode, check the most occuring value"
   ]
  },
  {
   "cell_type": "code",
   "execution_count": null,
   "id": "88a8c18c",
   "metadata": {},
   "outputs": [],
   "source": [
    "Q3. Measure the three measures of central tendency for the given height data:\n",
    "[178,177,176,177,178.2,178,175,179,180,175,178.9,176.2,177,172.5,178,176.5]"
   ]
  },
  {
   "cell_type": "code",
   "execution_count": 4,
   "id": "8bc78ec6",
   "metadata": {},
   "outputs": [
    {
     "name": "stdout",
     "output_type": "stream",
     "text": [
      "Mean is:  177.01875\n",
      "Median is:  177.0\n",
      "Mode is:  178\n"
     ]
    }
   ],
   "source": [
    "l=[178,177,176,177,178.2,178,175,179,180,175,178.9,176.2,177,172.5,178,176.5]\n",
    "import numpy as np\n",
    "print(\"Mean is: \", np.mean(l))\n",
    "print(\"Median is: \", np.median(l))\n",
    "import statistics\n",
    "print(\"Mode is: \", statistics.mode(l))"
   ]
  },
  {
   "cell_type": "code",
   "execution_count": null,
   "id": "006882f0",
   "metadata": {},
   "outputs": [],
   "source": [
    "Q4. Find the standard deviation for the given data:\n",
    "[178,177,176,177,178.2,178,175,179,180,175,178.9,176.2,177,172.5,178,176.5]"
   ]
  },
  {
   "cell_type": "code",
   "execution_count": 6,
   "id": "c47df6d1",
   "metadata": {},
   "outputs": [
    {
     "name": "stdout",
     "output_type": "stream",
     "text": [
      "Standard Deviation is:  1.7885814036548633\n"
     ]
    }
   ],
   "source": [
    "l= [178,177,176,177,178.2,178,175,179,180,175,178.9,176.2,177,172.5,178,176.5]\n",
    "print(\"Standard Deviation is: \", np.std(l))"
   ]
  },
  {
   "cell_type": "code",
   "execution_count": null,
   "id": "cafe838f",
   "metadata": {},
   "outputs": [],
   "source": [
    "Q5. How are measures of dispersion such as range, variance, and standard deviation used to describe\n",
    "the spread of a dataset? Provide an example."
   ]
  },
  {
   "cell_type": "markdown",
   "id": "9b685db2",
   "metadata": {},
   "source": [
    "* The range is the measure of dispersion and is calculated by subtracting the minimum value from the maximum value in a dataset. Ex: [1,2,3,4], Range= 4-1=3\n",
    "* The variance is a measure of how spread out the data are from the mean. Ex: [1, 2, 3, 4,5], Variance= ((1-3)^2 + (2-3)^2 + (3-3)^2 + (4-3)^2 + (5-3)^2) / 5 = 2\n",
    "* The standard deviation is the square root of the variance and represents the average amount by which the values in the dataset deviate from the mean. Ex: Std= 1.414"
   ]
  },
  {
   "cell_type": "code",
   "execution_count": null,
   "id": "beac5f77",
   "metadata": {},
   "outputs": [],
   "source": [
    "Q6. What is a Venn diagram?"
   ]
  },
  {
   "cell_type": "markdown",
   "id": "d9b6cb7a",
   "metadata": {},
   "source": [
    "A Venn diagram is a type of diagram used to represent logical relationships between sets of things. "
   ]
  },
  {
   "cell_type": "code",
   "execution_count": null,
   "id": "367f3299",
   "metadata": {},
   "outputs": [],
   "source": [
    "Q7. For the two given sets A = (2,3,4,5,6,7) & B = (0,2,6,8,10). Find:\n",
    "(i) A intersection B\n",
    "(ii) A ⋃ B"
   ]
  },
  {
   "cell_type": "code",
   "execution_count": 10,
   "id": "d5411e6c",
   "metadata": {},
   "outputs": [
    {
     "name": "stdout",
     "output_type": "stream",
     "text": [
      "{2, 6}\n",
      "{0, 2, 3, 4, 5, 6, 7, 8, 10}\n"
     ]
    }
   ],
   "source": [
    "A = (2,3,4,5,6,7)\n",
    "B = (0,2,6,8,10)\n",
    "#(i) \n",
    "A= set(A)\n",
    "B= set(B)\n",
    "print(A.intersection(B))\n",
    "print(A.union(B))"
   ]
  },
  {
   "cell_type": "code",
   "execution_count": null,
   "id": "296bd796",
   "metadata": {},
   "outputs": [],
   "source": [
    "Q8. What do you understand about skewness in data?"
   ]
  },
  {
   "cell_type": "markdown",
   "id": "82652322",
   "metadata": {},
   "source": [
    "It is a measure of assymetry of data distribution"
   ]
  },
  {
   "cell_type": "code",
   "execution_count": null,
   "id": "8a709b54",
   "metadata": {},
   "outputs": [],
   "source": [
    "Q9. If a data is right skewed then what will be the position of median with respect to mean?"
   ]
  },
  {
   "cell_type": "markdown",
   "id": "6c822461",
   "metadata": {},
   "source": [
    "In right skewed, Median < Mean"
   ]
  },
  {
   "cell_type": "code",
   "execution_count": null,
   "id": "8330d79f",
   "metadata": {},
   "outputs": [],
   "source": [
    "Q10. Explain the difference between covariance and correlation. How are these measures used in\n",
    "statistical analysis?"
   ]
  },
  {
   "cell_type": "markdown",
   "id": "13ad6f20",
   "metadata": {},
   "source": [
    "Covariance and correlation are measures that represents the relationship between two datasets. Covariance measures how much two variables vary together, while correlation measures the degree to which two variables are linearly related to each other."
   ]
  },
  {
   "cell_type": "code",
   "execution_count": null,
   "id": "5e32a653",
   "metadata": {},
   "outputs": [],
   "source": [
    "Q11. What is the formula for calculating the sample mean? Provide an example calculation for a\n",
    "dataset."
   ]
  },
  {
   "cell_type": "markdown",
   "id": "3155ae05",
   "metadata": {},
   "source": [
    "Formula is:Sample mean= ((xi-x)**2)/(n-1)\n",
    "where, xi= values\n",
    "x= mean\n",
    "n= count of values"
   ]
  },
  {
   "cell_type": "code",
   "execution_count": 14,
   "id": "0a886186",
   "metadata": {},
   "outputs": [
    {
     "name": "stdout",
     "output_type": "stream",
     "text": [
      "2.5\n"
     ]
    }
   ],
   "source": [
    "#l=[1,2,3,4,5]\n",
    "Sample_mean= ((1-3)**2 + (2-3)**2 + (3-3)**2 + (4-3)**2 + (5-3)**2) / (5-1)\n",
    "print(Sample_mean)"
   ]
  },
  {
   "cell_type": "code",
   "execution_count": null,
   "id": "0a5d98e0",
   "metadata": {},
   "outputs": [],
   "source": [
    "Q12. For a normal distribution data what is the relationship between its measure of central tendency?"
   ]
  },
  {
   "cell_type": "markdown",
   "id": "fcbff297",
   "metadata": {},
   "source": [
    "For a normal distribution data, Mean = Median = Mode"
   ]
  },
  {
   "cell_type": "code",
   "execution_count": null,
   "id": "55010002",
   "metadata": {},
   "outputs": [],
   "source": [
    "Q13. How is covariance different from correlation?"
   ]
  },
  {
   "cell_type": "markdown",
   "id": "a3ba2096",
   "metadata": {},
   "source": [
    "Covariance measures how much two variables vary together, while correlation measures the degree to which two variables are linearly related to each other(-1 to +1)"
   ]
  },
  {
   "cell_type": "code",
   "execution_count": null,
   "id": "e425e695",
   "metadata": {},
   "outputs": [],
   "source": [
    "Q14. How do outliers affect measures of central tendency and dispersion? Provide an example."
   ]
  },
  {
   "cell_type": "markdown",
   "id": "37df45a3",
   "metadata": {},
   "source": [
    "* Mean: An outlier can pull the mean in the direction of the outlier.\n",
    "\n",
    "* Median: Outliers have little or zero effect on the median.\n",
    "\n",
    "* Mode: Outliers may or may not affect the mode.\n",
    "\n",
    "* Range: An outlier that is significantly larger or smaller than the other values can increase or decrease the range.\n",
    "\n",
    "* Variance and standard deviation: These measures are calculated based on the distance of each data point from the mean, an outlier that is significantly larger or smaller than the other values can increase or decrease the variance and standard deviation."
   ]
  },
  {
   "cell_type": "code",
   "execution_count": 16,
   "id": "1aee1e5c",
   "metadata": {},
   "outputs": [
    {
     "name": "stdout",
     "output_type": "stream",
     "text": [
      "Mean:  19.166666666666668\n",
      "Median:  3.5\n",
      "Mode:  1\n",
      "Range:  99\n",
      "Variance:  1308.4722222222222\n",
      "Standard deviation:  36.17281053805775\n"
     ]
    }
   ],
   "source": [
    "#Example\n",
    "l=[1,2,3,4,5,100]\n",
    "print(\"Mean: \", np.mean(l))\n",
    "print(\"Median: \", np.median(l))\n",
    "print(\"Mode: \", statistics.mode(l))\n",
    "print(\"Range: \", np.ptp(l))\n",
    "print(\"Variance: \", np.var(l))\n",
    "print(\"Standard deviation: \", np.std(l))"
   ]
  },
  {
   "cell_type": "code",
   "execution_count": null,
   "id": "0f907492",
   "metadata": {},
   "outputs": [],
   "source": []
  }
 ],
 "metadata": {
  "kernelspec": {
   "display_name": "Python 3 (ipykernel)",
   "language": "python",
   "name": "python3"
  },
  "language_info": {
   "codemirror_mode": {
    "name": "ipython",
    "version": 3
   },
   "file_extension": ".py",
   "mimetype": "text/x-python",
   "name": "python",
   "nbconvert_exporter": "python",
   "pygments_lexer": "ipython3",
   "version": "3.9.12"
  }
 },
 "nbformat": 4,
 "nbformat_minor": 5
}
