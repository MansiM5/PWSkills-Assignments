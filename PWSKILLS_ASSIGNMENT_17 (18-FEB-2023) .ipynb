{
 "cells": [
  {
   "cell_type": "code",
   "execution_count": null,
   "id": "a884a7d3",
   "metadata": {},
   "outputs": [],
   "source": [
    "Q1. What is an API? Give an example, where an API is used in real life."
   ]
  },
  {
   "cell_type": "markdown",
   "id": "0f76a621",
   "metadata": {},
   "source": [
    "API is application programming interface which helps to communicate between two homogeneous or heteregenous system.\n",
    "Example- API is used for Gpay communication with bank to put up a transaction."
   ]
  },
  {
   "cell_type": "code",
   "execution_count": null,
   "id": "41c0b664",
   "metadata": {},
   "outputs": [],
   "source": [
    "Q2. Give advantages and disadvantages of using API."
   ]
  },
  {
   "cell_type": "markdown",
   "id": "e4889d95",
   "metadata": {},
   "source": [
    "* Advantages-\n",
    " - Improve Efficiency, automate process, reduce manual efforts\n",
    " - Flexibility- Flexibility to develop new applications that integrate with existing systems\n",
    " - Scalibility\n",
    "\n",
    "* Disadvantages-\n",
    " - Security: API can become a hacker's primary target\n",
    " - Complexity: APIs can be complex to develop, maintain & use\n",
    " - Dependency: APIs relies on external systems & services, which can affect dependency\n",
    " - Cost"
   ]
  },
  {
   "cell_type": "code",
   "execution_count": null,
   "id": "1fbab2d8",
   "metadata": {},
   "outputs": [],
   "source": [
    "Q3. What is a Web API? Differentiate between API and Web API."
   ]
  },
  {
   "cell_type": "markdown",
   "id": "4c8bc104",
   "metadata": {},
   "source": [
    "* Web API is a set of rules, protocols and tools for building web-based software applications. It provides a way for different software system to communicate with each other over the internet. It uses HTTP as their communication protocol\n",
    " - Web API are specifically designed to be used in web-based software applications whereas APIs can be used in any type of software application \n",
    " - Web API uses HTTP as communication protocol whereas API can use HTTP, TCP, SMTP as communication protocol"
   ]
  },
  {
   "cell_type": "code",
   "execution_count": null,
   "id": "fd6026ec",
   "metadata": {},
   "outputs": [],
   "source": [
    "Q4. Explain REST and SOAP Architecture. Mention shortcomings of SOAP."
   ]
  },
  {
   "cell_type": "markdown",
   "id": "dfa59362",
   "metadata": {},
   "source": [
    "* REST- Representational State Transfer, uses http as communication protocol, known for simplicity, scability, flexibility and is less secure. REST APIs uses a stateless client-server architecture. Uses a variety of data formats, including JSON & XML.\n",
    "* SOAP- Simple Object Access Protocol is an XML based messaging protocol that uses complex and structured approach to web services. SOAP APIs uses XML format to exchange messages between applications over the internet.\n",
    " - Shortcomings of SOAP- Complexity, Poor performance, less flexibility"
   ]
  },
  {
   "cell_type": "code",
   "execution_count": null,
   "id": "662178d8",
   "metadata": {},
   "outputs": [],
   "source": [
    "Q5. Differentiate between REST and SOAP."
   ]
  },
  {
   "cell_type": "markdown",
   "id": "0ba998f9",
   "metadata": {},
   "source": [
    "REST:\n",
    "* Approach- Data driven\n",
    "* Stateless\n",
    "* Caching- API calls can be cached\n",
    "* Message format- Plain test, JSON, XML, HTML, etc\n",
    "* Transfer protocol- HTTP\n",
    "* Advantages- Scalibility, better performance, flexibility\n",
    "* Disadvantages- Less security\n",
    "\n",
    "SOAP:\n",
    "* Approach- Function driven\n",
    "* Stateless by default but poosible to make stateful\n",
    "* Caching- API calls cannot be cached\n",
    "* Message format- XML\n",
    "* Transfer protocol- HTTP, SMTP, TCP, etc\n",
    "* Advantages- High security\n",
    "* Disadvantages- Complexity, Poor performance, less flexibility"
   ]
  },
  {
   "cell_type": "code",
   "execution_count": null,
   "id": "7d24e8d0",
   "metadata": {},
   "outputs": [],
   "source": []
  }
 ],
 "metadata": {
  "kernelspec": {
   "display_name": "Python 3 (ipykernel)",
   "language": "python",
   "name": "python3"
  },
  "language_info": {
   "codemirror_mode": {
    "name": "ipython",
    "version": 3
   },
   "file_extension": ".py",
   "mimetype": "text/x-python",
   "name": "python",
   "nbconvert_exporter": "python",
   "pygments_lexer": "ipython3",
   "version": "3.9.12"
  }
 },
 "nbformat": 4,
 "nbformat_minor": 5
}
