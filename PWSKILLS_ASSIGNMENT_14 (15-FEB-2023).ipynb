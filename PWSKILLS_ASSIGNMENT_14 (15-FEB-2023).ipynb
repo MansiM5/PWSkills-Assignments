{
 "cells": [
  {
   "cell_type": "markdown",
   "id": "2426382e-cd9a-4b51-85b8-f70999feb460",
   "metadata": {},
   "source": [
    "Q1. What is multiprocessing in python? Why is it useful?"
   ]
  },
  {
   "cell_type": "markdown",
   "id": "a4b69b16-7114-44e5-b620-d76210772366",
   "metadata": {},
   "source": [
    "Multiprocessing in python is the ability to run different program simultaneously in different processor/ ability of system to support more than one processor at same time. It is useful as it increases the latency of the program, multiple instances cab be run in an easisest way."
   ]
  },
  {
   "cell_type": "code",
   "execution_count": null,
   "id": "f6b384cb-9b0e-4645-a3cc-721bb1be3d72",
   "metadata": {},
   "outputs": [],
   "source": [
    "Q2. What are the differences between multiprocessing and multithreading?"
   ]
  },
  {
   "cell_type": "markdown",
   "id": "77cb98ed-51dc-4166-ba08-bdfba049af3e",
   "metadata": {},
   "source": [
    "* In multiprocessing processors are added to increase computing speed whereas in multithreading, threads are created of a single process\n",
    "* In multiprocessing, several processes are executed simultaneously, whereas in multithreading many threads of a process are executed\n",
    "* In multiprocessing, every process own a seperate address space, whereas in multithreading a common address space is shared by all threads"
   ]
  },
  {
   "cell_type": "code",
   "execution_count": null,
   "id": "28254c0b-1c50-44da-aeca-0a23569b9ba3",
   "metadata": {},
   "outputs": [],
   "source": [
    "Q3. Write a python code to create a process using the multiprocessing module."
   ]
  },
  {
   "cell_type": "code",
   "execution_count": null,
   "id": "5edbbbfe-2890-4895-8983-3634414400f7",
   "metadata": {},
   "outputs": [],
   "source": [
    "import multiprocessing\n",
    "\n",
    "def cube(n):\n",
    "    print(\"Cube is: \", n**3)\n",
    "    \n",
    "def square(n):\n",
    "    print(\"Square is: \", n**2)\n",
    "    \n",
    "if __name__ == '__main__':\n",
    "    p1= multiprocessing.Process(target= cube, args= (10,))\n",
    "    p2= multiprocessing.Process(target= square, args= (20,))\n",
    "    p1.start()\n",
    "    p2.start()\n",
    "    p1.join()\n",
    "    p2.join()"
   ]
  },
  {
   "cell_type": "code",
   "execution_count": null,
   "id": "c7a1bd6d-9de7-4fd0-9b8c-48676a89845f",
   "metadata": {},
   "outputs": [],
   "source": [
    "Q4. What is a multiprocessing pool in python? Why is it used?"
   ]
  },
  {
   "cell_type": "markdown",
   "id": "9117f320-2b52-4641-b155-3779fbad2051",
   "metadata": {},
   "source": [
    "Multiprocessing module provides a Pool class which helps to utilize all the cores. It is used so that user does not need to worry about creating processes explicitly."
   ]
  },
  {
   "cell_type": "code",
   "execution_count": null,
   "id": "4f2e51e2-d1c7-4386-8d97-40c71b59ea79",
   "metadata": {},
   "outputs": [],
   "source": [
    "Q5. How can we create a pool of worker processes in python using the multiprocessing module?"
   ]
  },
  {
   "cell_type": "markdown",
   "id": "6f4b23d1-b5e6-41e0-8e01-3dd4dca44553",
   "metadata": {},
   "source": [
    "Multiprocessing module provides a Pool class that represents a pool of worker processes, hence allows to create a fixed size pool of worker processes that can execute tasks in parallel"
   ]
  },
  {
   "cell_type": "code",
   "execution_count": null,
   "id": "1356616c-1e65-4c6a-a541-caae11feb6c9",
   "metadata": {},
   "outputs": [],
   "source": [
    "Q6. Write a python program to create 4 processes, each process should print a different number using the\n",
    "multiprocessing module in python."
   ]
  },
  {
   "cell_type": "code",
   "execution_count": 8,
   "id": "30bc6605-8c41-41ba-bfc6-516b52d5fb9a",
   "metadata": {},
   "outputs": [
    {
     "name": "stdout",
     "output_type": "stream",
     "text": [
      "1\n",
      "2\n",
      "3\n",
      "4\n"
     ]
    }
   ],
   "source": [
    "import multiprocessing\n",
    "import os\n",
    "\n",
    "def print_num(n):\n",
    "    print(n)\n",
    "    \n",
    "    \n",
    "if __name__ == '__main__':\n",
    "    num= [1,2,3,4]\n",
    "    processes= [multiprocessing.Process(target= print_num, args= (n,)) for n in num]\n",
    "    \n",
    "    for i in processes:\n",
    "        i.start()\n",
    "        \n",
    "    for i in processes:\n",
    "        i.join()"
   ]
  },
  {
   "cell_type": "code",
   "execution_count": null,
   "id": "dba0b580-efae-4c04-addf-7a9afb269146",
   "metadata": {},
   "outputs": [],
   "source": []
  }
 ],
 "metadata": {
  "kernelspec": {
   "display_name": "Python 3 (ipykernel)",
   "language": "python",
   "name": "python3"
  },
  "language_info": {
   "codemirror_mode": {
    "name": "ipython",
    "version": 3
   },
   "file_extension": ".py",
   "mimetype": "text/x-python",
   "name": "python",
   "nbconvert_exporter": "python",
   "pygments_lexer": "ipython3",
   "version": "3.10.8"
  }
 },
 "nbformat": 4,
 "nbformat_minor": 5
}
