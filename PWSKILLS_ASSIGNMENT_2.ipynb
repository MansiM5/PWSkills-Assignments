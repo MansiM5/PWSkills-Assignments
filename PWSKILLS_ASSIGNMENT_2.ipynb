{
 "cells": [
  {
   "cell_type": "code",
   "execution_count": 12,
   "id": "a6b77614",
   "metadata": {},
   "outputs": [
    {
     "name": "stdout",
     "output_type": "stream",
     "text": [
      "Enter the marks in percentage: 67\n",
      "C\n"
     ]
    }
   ],
   "source": [
    "#1.\n",
    "per= int(input(\"Enter the marks in percentage: \"))\n",
    "\n",
    "if per >90:\n",
    "    print(\"A\")\n",
    "    \n",
    "elif per >80 and per <=90:\n",
    "    print(\"B\")\n",
    "    \n",
    "elif per>=60 and per<=80:\n",
    "    print(\"C\")\n",
    "\n",
    "else:\n",
    "    print(\"D\")"
   ]
  },
  {
   "cell_type": "code",
   "execution_count": 13,
   "id": "3aa1de87",
   "metadata": {},
   "outputs": [
    {
     "name": "stdout",
     "output_type": "stream",
     "text": [
      "Enter the cost price of bike: 110000\n",
      "Road tax will be 15%\n"
     ]
    }
   ],
   "source": [
    "#2.\n",
    "cost_price= int(input(\"Enter the cost price of bike: \"))\n",
    "if cost_price > 100000:\n",
    "    print(\"Road tax will be 15%\")\n",
    "elif cost_price > 50000 and cost_price <= 100000:\n",
    "    print(\"Road tax will be 10%\")\n",
    "else:\n",
    "    print(\"Road tax will be 5%\")"
   ]
  },
  {
   "cell_type": "code",
   "execution_count": 17,
   "id": "ac327812",
   "metadata": {},
   "outputs": [
    {
     "name": "stdout",
     "output_type": "stream",
     "text": [
      "Enter city name: AGRA\n",
      "Taj Mahal\n"
     ]
    }
   ],
   "source": [
    "#3.\n",
    "city= input(\"Enter city name: \")\n",
    "city=city.lower()\n",
    "if city== 'delhi':\n",
    "    print(\"Red Fort\")\n",
    "elif city== 'agra':\n",
    "    print(\"Taj Mahal\")\n",
    "elif city == \"jaipur\":\n",
    "    print(\"Jal Mahal\")"
   ]
  },
  {
   "cell_type": "code",
   "execution_count": 124,
   "id": "ec05be24",
   "metadata": {},
   "outputs": [
    {
     "name": "stdout",
     "output_type": "stream",
     "text": [
      "1\n"
     ]
    }
   ],
   "source": [
    "#4.\n",
    "n=27\n",
    "count=0\n",
    "while 10<=n<=k:\n",
    "    n=n/3\n",
    "    if n!=0:\n",
    "        count=count+1\n",
    "print(count)\n",
    "    \n",
    "    \n"
   ]
  },
  {
   "cell_type": "code",
   "execution_count": 169,
   "id": "0ef8f15c",
   "metadata": {},
   "outputs": [
    {
     "name": "stdout",
     "output_type": "stream",
     "text": [
      "Enter atm pin: 7675\n",
      "Please enter correct atm_pin\n",
      "Enter atm pin: 87675\n",
      "Please enter correct atm_pin\n",
      "Enter atm pin: 1234\n",
      "Hurray! You have entered the Bank transaction page\n"
     ]
    }
   ],
   "source": [
    "#5.\n",
    "* While loop are used to execute a block of statements repeatedly until the condition is False.\n",
    "* While loop is used when the number of iterations are unknown.\n",
    "\n",
    "#Example-\n",
    "while atm_pin: #this loop will keep on running until the user enters the correct atm_pin\n",
    "    atm_pin= int(input(\"Enter atm pin: \")) #user to enter her/his atm pin\n",
    "    if atm_pin!=1234:\n",
    "        print(\"Please enter correct atm_pin\")\n",
    "    else:\n",
    "        print(\"Hurray! You have entered the Bank transaction page\")\n",
    "        break\n",
    "    \n",
    "    "
   ]
  },
  {
   "cell_type": "code",
   "execution_count": 175,
   "id": "b05be681",
   "metadata": {},
   "outputs": [
    {
     "name": "stdout",
     "output_type": "stream",
     "text": [
      "Enter number: 4\n",
      "* \n",
      "* * \n",
      "* * * \n",
      "* * * * \n"
     ]
    }
   ],
   "source": [
    "#6A.\n",
    "n= int(input(\"Enter number: \"))\n",
    "i=1\n",
    "while i<=n:\n",
    "    j=1\n",
    "    while j<=i:\n",
    "        print(\"*\", end=\" \")\n",
    "        j=j+1\n",
    "    print()\n",
    "    i=i+1"
   ]
  },
  {
   "cell_type": "code",
   "execution_count": 183,
   "id": "416c4d8b",
   "metadata": {},
   "outputs": [
    {
     "name": "stdout",
     "output_type": "stream",
     "text": [
      "Enter number: 3\n",
      "* * * \n",
      "* * \n",
      "* \n"
     ]
    }
   ],
   "source": [
    "#6B.\n",
    "n= int(input(\"Enter number: \"))\n",
    "i=1\n",
    "while i<=n:\n",
    "    j=n\n",
    "    while i<=j:\n",
    "        print(\"*\", end=\" \")\n",
    "        j=j-1\n",
    "    print()\n",
    "    i=i+1"
   ]
  },
  {
   "cell_type": "code",
   "execution_count": 226,
   "id": "c011da1c",
   "metadata": {},
   "outputs": [
    {
     "name": "stdout",
     "output_type": "stream",
     "text": [
      "Enter number: 4\n",
      "   *\n",
      "  **\n",
      " ***\n",
      "****\n"
     ]
    }
   ],
   "source": [
    "#6C.\n",
    "n= int(input(\"Enter number: \"))\n",
    "i=1\n",
    "while i<=n:\n",
    "    j=n\n",
    "    while i<=j:\n",
    "        print(\" \"*(n-i) + \"*\"*i, end=\"\")\n",
    "        j=j-1\n",
    "        break\n",
    "    print()\n",
    "    i=i+1\n"
   ]
  },
  {
   "cell_type": "code",
   "execution_count": 202,
   "id": "d99cc031",
   "metadata": {},
   "outputs": [
    {
     "name": "stdout",
     "output_type": "stream",
     "text": [
      "10 9 8 7 6 5 4 3 2 1 "
     ]
    }
   ],
   "source": [
    "#7.\n",
    "i=10\n",
    "while 0<i<11:\n",
    "    print(i, end=\" \")\n",
    "    i=i-1\n",
    "    "
   ]
  },
  {
   "cell_type": "code",
   "execution_count": 227,
   "id": "779f7cae",
   "metadata": {},
   "outputs": [
    {
     "name": "stdout",
     "output_type": "stream",
     "text": [
      "10 9 8 7 6 5 4 3 2 1 "
     ]
    }
   ],
   "source": [
    "#8.\n",
    "i=10\n",
    "while 0<i<11:\n",
    "    print(i, end=\" \")\n",
    "    i=i-1"
   ]
  },
  {
   "cell_type": "code",
   "execution_count": null,
   "id": "2d617af2",
   "metadata": {},
   "outputs": [],
   "source": []
  }
 ],
 "metadata": {
  "kernelspec": {
   "display_name": "Python 3 (ipykernel)",
   "language": "python",
   "name": "python3"
  },
  "language_info": {
   "codemirror_mode": {
    "name": "ipython",
    "version": 3
   },
   "file_extension": ".py",
   "mimetype": "text/x-python",
   "name": "python",
   "nbconvert_exporter": "python",
   "pygments_lexer": "ipython3",
   "version": "3.9.12"
  }
 },
 "nbformat": 4,
 "nbformat_minor": 5
}
