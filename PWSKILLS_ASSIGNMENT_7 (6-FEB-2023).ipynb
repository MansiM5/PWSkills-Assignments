{
 "cells": [
  {
   "cell_type": "code",
   "execution_count": null,
   "id": "5f06faf1",
   "metadata": {},
   "outputs": [],
   "source": [
    "Q1. Create a function which will take a list as an argument and return the product of all the numbers\n",
    "after creating a flat list.\n",
    "Use the below-given list as an argument for your function.\n",
    "list1 = [1,2,3,4, [44,55,66, True], False, (34,56,78,89,34), {1,2,3,3,2,1}, {1:34, \"key2\": [55, 67, 78, 89], 4: (45,\n",
    "22, 61, 34)}, [56, 'data science'], 'Machine Learning']\n",
    "Note: you must extract numeric keys and values of the dictionary also."
   ]
  },
  {
   "cell_type": "code",
   "execution_count": 78,
   "id": "198810fc",
   "metadata": {},
   "outputs": [
    {
     "name": "stdout",
     "output_type": "stream",
     "text": [
      "4134711838987085478833841242112000\n"
     ]
    }
   ],
   "source": [
    "l1 = [1,2,3,4, [44,55,66, True], False, (34,56,78,89,34), {1,2,3,3,2,1}, {1:34, \"key2\": [55, 67, 78, 89], 4: (45,\n",
    "22, 61, 34)}, [56, 'data science'], 'Machine Learning']\n",
    "def list_product(l1):\n",
    "    l=[]\n",
    "    mul=1\n",
    "    for i in l1:\n",
    "        if type(i)==int:\n",
    "            l.append(i)\n",
    "        if type(i)==list or type(i)==tuple or type(i)==set:\n",
    "                for j in i:\n",
    "                    if type(j)==int:\n",
    "                        l.append(j)\n",
    "        if type(i)==dict:\n",
    "            for m in i.keys():\n",
    "                if type(m)==int:\n",
    "                    l.append(m)\n",
    "            for n in i.values():\n",
    "                if type(n)==int:\n",
    "                    l.append(n)\n",
    "                if type(n)==list or type(n)==tuple or type(n)==set:\n",
    "                    for k in n:\n",
    "                        if type(k)==int:\n",
    "                            l.append(k)\n",
    "    else:\n",
    "        for v in l:\n",
    "            mul=mul*v\n",
    "        print(mul)\n",
    "        \n",
    "list_product(l1)     "
   ]
  },
  {
   "cell_type": "code",
   "execution_count": 75,
   "id": "2289e0a4",
   "metadata": {},
   "outputs": [
    {
     "name": "stdout",
     "output_type": "stream",
     "text": [
      "4134711838987085478833841242112000\n"
     ]
    }
   ],
   "source": [
    "#using lambda & reduce\n",
    "def list_product(l1):\n",
    "    l=[]\n",
    "    mul=1\n",
    "    for i in l1:\n",
    "        if type(i)==int:\n",
    "            l.append(i)\n",
    "        if type(i)==list or type(i)==tuple or type(i)==set:\n",
    "                for j in i:\n",
    "                    if type(j)==int:\n",
    "                        l.append(j)\n",
    "        if type(i)==dict:\n",
    "            for m in i.keys():\n",
    "                if type(m)==int:\n",
    "                    l.append(m)\n",
    "            for n in i.values():\n",
    "                if type(n)==int:\n",
    "                    l.append(n)\n",
    "                if type(n)==list or type(n)==tuple or type(n)==set:\n",
    "                    for k in n:\n",
    "                        if type(k)==int:\n",
    "                            l.append(k)\n",
    "    return(reduce(lambda x,y: x*y, l))\n",
    "\n",
    "print(list_product(l1))"
   ]
  },
  {
   "cell_type": "code",
   "execution_count": null,
   "id": "0770c62d",
   "metadata": {},
   "outputs": [],
   "source": [
    "Q2. Write a python program for encrypting a message sent to you by your friend. The logic of encryption\n",
    "should be such that, for a the output should be z. For b, the output should be y. For c, the output should\n",
    "be x respectively. Also, the whitespace should be replaced with a dollar sign. Keep the punctuation\n",
    "marks unchanged.\n",
    "Input Sentence: I want to become a Data Scientist.\n",
    "Encrypt the above input sentence using the program you just created.\n",
    "Note: Convert the given input sentence into lowercase before encrypting. The final output should be\n",
    "lowercase."
   ]
  },
  {
   "cell_type": "code",
   "execution_count": 91,
   "id": "092ee943",
   "metadata": {},
   "outputs": [
    {
     "name": "stdout",
     "output_type": "stream",
     "text": [
      "The desired output after encypting is i$wznt$to$yexome$z$dztz$sxientist\n"
     ]
    }
   ],
   "source": [
    "n= \"I want to become a Data Scientist\"\n",
    "n=n.lower()\n",
    "n=n.replace(\"a\", \"z\")\n",
    "n=n.replace(\"b\", \"y\")\n",
    "n=n.replace(\"c\", \"x\")\n",
    "n=\"$\".join(n.split())\n",
    "print(\"The desired output after encypting is\", n)"
   ]
  },
  {
   "cell_type": "code",
   "execution_count": null,
   "id": "4a92a155",
   "metadata": {},
   "outputs": [],
   "source": []
  }
 ],
 "metadata": {
  "kernelspec": {
   "display_name": "Python 3 (ipykernel)",
   "language": "python",
   "name": "python3"
  },
  "language_info": {
   "codemirror_mode": {
    "name": "ipython",
    "version": 3
   },
   "file_extension": ".py",
   "mimetype": "text/x-python",
   "name": "python",
   "nbconvert_exporter": "python",
   "pygments_lexer": "ipython3",
   "version": "3.9.12"
  }
 },
 "nbformat": 4,
 "nbformat_minor": 5
}
