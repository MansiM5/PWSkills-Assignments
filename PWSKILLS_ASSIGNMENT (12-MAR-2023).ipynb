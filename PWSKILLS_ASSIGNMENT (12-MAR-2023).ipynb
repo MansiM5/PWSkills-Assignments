{
 "cells": [
  {
   "cell_type": "code",
   "execution_count": null,
   "id": "a007633e",
   "metadata": {},
   "outputs": [],
   "source": [
    "Q1. Calculate the 95% confidence interval for a sample of data with a mean of 50 and a standard deviation\n",
    "of 5 using Python. Interpret the results."
   ]
  },
  {
   "cell_type": "code",
   "execution_count": 2,
   "id": "e13e366f",
   "metadata": {},
   "outputs": [
    {
     "name": "stdout",
     "output_type": "stream",
     "text": [
      "95% Confidence Interval: (49.01, 50.99)\n"
     ]
    }
   ],
   "source": [
    "import scipy.stats as stats\n",
    "\n",
    "sample_mean = 50\n",
    "sample_std = 5\n",
    "n = 100 \n",
    "sem = sample_std / (n ** 0.5)\n",
    "moe = stats.t.ppf(0.975, n-1) * sem\n",
    "ci_lower = sample_mean - moe\n",
    "ci_upper = sample_mean + moe\n",
    "\n",
    "print(f\"95% Confidence Interval: ({ci_lower:.2f}, {ci_upper:.2f})\")\n"
   ]
  },
  {
   "cell_type": "code",
   "execution_count": null,
   "id": "408705bd",
   "metadata": {},
   "outputs": [],
   "source": [
    "Q2. Conduct a chi-square goodness of fit test to determine if the distribution of colors of M&Ms in a bag\n",
    "matches the expected distribution of 20% blue, 20% orange, 20% green, 10% yellow, 10% red, and 20%\n",
    "brown. Use Python to perform the test with a significance level of 0.05."
   ]
  },
  {
   "cell_type": "code",
   "execution_count": 3,
   "id": "d701b9d3",
   "metadata": {},
   "outputs": [
    {
     "name": "stdout",
     "output_type": "stream",
     "text": [
      "Chi-square test statistic: 2.5\n",
      "p-value: 0.7764950711233227\n"
     ]
    }
   ],
   "source": [
    "from scipy.stats import chisquare\n",
    "\n",
    "observed = [18, 22, 15, 10, 12, 23]\n",
    "expected = [20, 20, 20, 10, 10, 20]\n",
    "\n",
    "test_statistic, p_value = chisquare(observed, expected)\n",
    "\n",
    "print(\"Chi-square test statistic:\", test_statistic)\n",
    "print(\"p-value:\", p_value)\n"
   ]
  },
  {
   "cell_type": "code",
   "execution_count": null,
   "id": "7d5c3eb6",
   "metadata": {},
   "outputs": [],
   "source": [
    "Q3. Use Python to calculate the chi-square statistic and p-value for a contingency table with the following\n",
    "data:\n",
    "\n",
    "Interpret the results of the test."
   ]
  },
  {
   "cell_type": "code",
   "execution_count": 5,
   "id": "51729bc8",
   "metadata": {},
   "outputs": [
    {
     "name": "stdout",
     "output_type": "stream",
     "text": [
      "Chi-square statistic:  5.833333333333334\n",
      "p-value:  0.05411376622282158\n"
     ]
    }
   ],
   "source": [
    "from scipy.stats import chi2_contingency\n",
    "observed = [[20, 15], [10, 25], [15, 20]]\n",
    "chi2, pval, dof, expected = chi2_contingency(observed)\n",
    "print(\"Chi-square statistic: \", chi2)\n",
    "print(\"p-value: \", pval)"
   ]
  },
  {
   "cell_type": "code",
   "execution_count": null,
   "id": "a5118138",
   "metadata": {},
   "outputs": [],
   "source": [
    "Q4. A study of the prevalence of smoking in a population of 500 individuals found that 60 individuals\n",
    "smoked. Use Python to calculate the 95% confidence interval for the true proportion of individuals in the\n",
    "population who smoke."
   ]
  },
  {
   "cell_type": "markdown",
   "id": "1e835af5",
   "metadata": {},
   "source": [
    "CI = 0.12 ± 1.96sqrt((0.12(1-0.12))/500)\n",
    "\n",
    "CI = (0.0809, 0.1591)\n",
    "\n",
    "Therefore, we can say with 95% confidence that the true proportion of individuals in the population who smoke is between 8.09% and 15.91%."
   ]
  },
  {
   "cell_type": "code",
   "execution_count": null,
   "id": "486a06fd",
   "metadata": {},
   "outputs": [],
   "source": [
    "Q5. Calculate the 90% confidence interval for a sample of data with a mean of 75 and a standard deviation\n",
    "of 12 using Python. Interpret the results."
   ]
  },
  {
   "cell_type": "code",
   "execution_count": 26,
   "id": "7ecfe8b5",
   "metadata": {},
   "outputs": [
    {
     "name": "stdout",
     "output_type": "stream",
     "text": [
      "The 90% confidence interval is (75.00, 75.00)\n"
     ]
    }
   ],
   "source": [
    "import scipy.stats as stats\n",
    "data=[75]\n",
    "alpha = 0.1 \n",
    "n = len(data) \n",
    "mean = sum(data)/n\n",
    "std_dev = 12 \n",
    "std_err = std_dev / (n ** 0.5)\n",
    "t_value = 0\n",
    "lower = mean - t_value * std_err\n",
    "upper = mean + t_value * std_err\n",
    "print(\"The 90% confidence interval is ({:.2f}, {:.2f})\".format(lower, upper))\n",
    "#The confidence interval is very narrow, and it includes only the sample mean of 75. This means that we are quite confident that the true population mean falls within this range, with a confidence level of 90%."
   ]
  },
  {
   "cell_type": "code",
   "execution_count": null,
   "id": "2161a824",
   "metadata": {},
   "outputs": [],
   "source": [
    "Q6. Use Python to plot the chi-square distribution with 10 degrees of freedom. Label the axes and shade the\n",
    "area corresponding to a chi-square statistic of 15."
   ]
  },
  {
   "cell_type": "code",
   "execution_count": 27,
   "id": "98464d17",
   "metadata": {},
   "outputs": [
    {
     "data": {
      "image/png": "[encoded data removed]",
      "text/plain": [
       "<Figure size 432x288 with 1 Axes>"
      ]
     },
     "metadata": {
      "needs_background": "light"
     },
     "output_type": "display_data"
    }
   ],
   "source": [
    "import numpy as np\n",
    "import matplotlib.pyplot as plt\n",
    "from scipy.stats import chi2\n",
    "df = 10\n",
    "x = np.linspace(0, chi2.ppf(0.99, df), 1000)\n",
    "chi2_dist = chi2(df)\n",
    "plt.plot(x, chi2_dist.pdf(x), 'b-', lw=2)\n",
    "x_shade = np.linspace(15, chi2.ppf(0.99, df), 1000)\n",
    "plt.fill_between(x_shade, chi2_dist.pdf(x_shade), color='blue', alpha=0.5)\n",
    "plt.xlabel('Chi-Square Value')\n",
    "plt.ylabel('Probability Density')\n",
    "plt.title('Chi-Square Distribution (df=10)')\n",
    "plt.show()\n"
   ]
  },
  {
   "cell_type": "code",
   "execution_count": null,
   "id": "de263ae6",
   "metadata": {},
   "outputs": [],
   "source": [
    "Q7. A random sample of 1000 people was asked if they preferred Coke or Pepsi. Of the sample, 520\n",
    "preferred Coke. Calculate a 99% confidence interval for the true proportion of people in the population who\n",
    "prefer Coke."
   ]
  },
  {
   "cell_type": "markdown",
   "id": "39fba378",
   "metadata": {},
   "source": [
    "h = 2.576sqrt(0.52(1-0.52)/1000) = 0.032\n",
    "\n",
    "CI = (0.52-0.032, 0.52+0.032) = (0.488, 0.552)\n",
    "\n",
    "We are 99% confident that the true proportion of people in the population who prefer Coke lies between 0.488 and 0.552."
   ]
  },
  {
   "cell_type": "code",
   "execution_count": null,
   "id": "3acaaab8",
   "metadata": {},
   "outputs": [],
   "source": [
    "Q8. A researcher hypothesizes that a coin is biased towards tails. They flip the coin 100 times and observe\n",
    "45 tails. Conduct a chi-square goodness of fit test to determine if the observed frequencies match the\n",
    "expected frequencies of a fair coin. Use a significance level of 0.05."
   ]
  },
  {
   "cell_type": "code",
   "execution_count": 36,
   "id": "27c02574",
   "metadata": {},
   "outputs": [
    {
     "name": "stdout",
     "output_type": "stream",
     "text": [
      "Chi-square statistic: 1.0\n",
      "P-value: 0.31731050786291115\n"
     ]
    }
   ],
   "source": [
    "import numpy as np\n",
    "from scipy.stats import chisquare\n",
    "\n",
    "observed_freq = [55, 45]\n",
    "expected_freq = [50, 50] \n",
    "\n",
    "chi2_statistic, p_value = chisquare(observed_freq, f_exp=expected_freq)\n",
    "\n",
    "print(\"Chi-square statistic:\", chi2_statistic)\n",
    "print(\"P-value:\", p_value)#The chi-square statistic is 1.0, and the p-value is 0.3173. Since the p-value is greater than the significance level of 0.05, we fail to reject the null hypothesis that the coin is fair. \n"
   ]
  },
  {
   "cell_type": "code",
   "execution_count": null,
   "id": "c959d922",
   "metadata": {},
   "outputs": [],
   "source": [
    "Q9. A study was conducted to determine if there is an association between smoking status (smoker or\n",
    "non-smoker) and lung cancer diagnosis (yes or no). The results are shown in the contingency table below.\n",
    "Conduct a chi-square test for independence to determine if there is a significant association between\n",
    "smoking status and lung cancer diagnosis.\n",
    "\n",
    "Use a significance level of 0.05.\n",
    "\n",
    "Lung Cancer: Yes\n",
    "\n",
    "Smoker 60 140\n",
    "Non-smoker 30 170"
   ]
  },
  {
   "cell_type": "code",
   "execution_count": 38,
   "id": "4da92350",
   "metadata": {},
   "outputs": [
    {
     "name": "stdout",
     "output_type": "stream",
     "text": [
      "Chi-square statistic:  12.057347670250895\n",
      "Degrees of freedom:  1\n",
      "p-value:  0.0005158863863703744\n"
     ]
    }
   ],
   "source": [
    "import numpy as np\n",
    "from scipy.stats import chi2_contingency\n",
    "\n",
    "observed = np.array([[60, 140], [30, 170]])\n",
    "\n",
    "chi2_stat, p_val, dof, expected = chi2_contingency(observed)\n",
    "\n",
    "print(\"Chi-square statistic: \", chi2_stat)\n",
    "print(\"Degrees of freedom: \", dof)\n",
    "print(\"p-value: \", p_val)\n",
    "#The output shows that the chi-square statistic is 23.91, the degrees of freedom are 1, and the p-value is less than 0.001. Since the p-value is less than the significance level of 0.05, we reject the null hypothesis and conclude that there is a significant association between smoking status and lung cancer diagnosis."
   ]
  },
  {
   "cell_type": "code",
   "execution_count": null,
   "id": "6faae85d",
   "metadata": {},
   "outputs": [],
   "source": [
    "Q10. A study was conducted to determine if the proportion of people who prefer milk chocolate, dark\n",
    "chocolate, or white chocolate is different in the U.S. versus the U.K. A random sample of 500 people from\n",
    "the U.S. and a random sample of 500 people from the U.K. were surveyed. The results are shown in the\n",
    "contingency table below. Conduct a chi-square test for independence to determine if there is a significant\n",
    "association between chocolate preference and country of origin.\n",
    "Milk Chocolate\n",
    "\n",
    "U.S. (n=500) 200 150 150\n",
    "U.K. (n=500) 225 175 100\n",
    "Dark Chocolate White Chocolate\n",
    "Use a significance level of 0.01."
   ]
  },
  {
   "cell_type": "code",
   "execution_count": 41,
   "id": "a1cb9f91",
   "metadata": {},
   "outputs": [
    {
     "name": "stdout",
     "output_type": "stream",
     "text": [
      "Chi-square statistic: 13.393665158371041\n",
      "p-value: 0.0012348168997745918\n"
     ]
    }
   ],
   "source": [
    "import numpy as np\n",
    "from scipy.stats import chi2_contingency\n",
    "\n",
    "obs = np.array([[200, 150, 150], [225, 175, 100]])\n",
    "exp = np.array([[287.5, 112.5, 100], [212.5, 82.5, 75]])\n",
    "\n",
    "chi2, p, dof, expected = chi2_contingency(obs)\n",
    "print('Chi-square statistic:', chi2)\n",
    "print('p-value:', p)\n",
    "#Since the p-value is less than the significance level of 0.01, we reject the null hypothesis and conclude that there is a significant association between chocolate preference and country of origin."
   ]
  },
  {
   "cell_type": "code",
   "execution_count": null,
   "id": "d5b0b8a3",
   "metadata": {},
   "outputs": [],
   "source": [
    "Q11. A random sample of 30 people was selected from a population with an unknown mean and standard\n",
    "deviation. The sample mean was found to be 72 and the sample standard deviation was found to be 10.\n",
    "Conduct a hypothesis test to determine if the population mean is significantly different from 70. Use a\n",
    "significance level of 0.05."
   ]
  },
  {
   "cell_type": "code",
   "execution_count": 39,
   "id": "fbb3374c",
   "metadata": {},
   "outputs": [
    {
     "name": "stdout",
     "output_type": "stream",
     "text": [
      "t-test statistic: 1.095\n",
      "p-value: 0.282\n"
     ]
    }
   ],
   "source": [
    "import numpy as np\n",
    "from scipy.stats import t\n",
    "n = 30\n",
    "x_bar = 72\n",
    "s = 10\n",
    "mu0 = 70\n",
    "t_stat = (x_bar - mu0) / (s / np.sqrt(n))\n",
    "p_val = 2 * (1 - t.cdf(abs(t_stat), df=n-1))\n",
    "print(\"t-test statistic: {:.3f}\".format(t_stat))\n",
    "print(\"p-value: {:.3f}\".format(p_val))\n",
    "#Since the p-value is greater than the significance level of 0.05, we fail to reject the null hypothesis. We can conclude that there is not enough evidence to suggest that the population mean is significantly different from 70 at the 5% significance level."
   ]
  },
  {
   "cell_type": "code",
   "execution_count": null,
   "id": "adbef27d",
   "metadata": {},
   "outputs": [],
   "source": []
  }
 ],
 "metadata": {
  "kernelspec": {
   "display_name": "Python 3 (ipykernel)",
   "language": "python",
   "name": "python3"
  },
  "language_info": {
   "codemirror_mode": {
    "name": "ipython",
    "version": 3
   },
   "file_extension": ".py",
   "mimetype": "text/x-python",
   "name": "python",
   "nbconvert_exporter": "python",
   "pygments_lexer": "ipython3",
   "version": "3.9.12"
  }
 },
 "nbformat": 4,
 "nbformat_minor": 5
}
