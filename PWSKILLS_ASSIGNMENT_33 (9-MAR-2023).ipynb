{
 "cells": [
  {
   "cell_type": "code",
   "execution_count": null,
   "id": "2287a938",
   "metadata": {},
   "outputs": [],
   "source": [
    "Q1: What are the Probability Mass Function (PMF) and Probability Density Function (PDF)? Explain with\n",
    "an example."
   ]
  },
  {
   "cell_type": "markdown",
   "id": "3df51af8",
   "metadata": {},
   "source": [
    "* PMF is used to find probability for discrete random variables, maps each possible value of a discrete random variable to its probability. \n",
    "\n",
    "Ex: Consider a fair dice, PMF=1/6, where values= [1,2,3,4,5,6] and hence probability of obtaining each number is 1/6\n",
    "\n",
    "* PDF defines probability distribution for continuous random variables.\n",
    "\n",
    "Ex: The probability that a mango weighs between 140 grams and 160 grams is given by:\n",
    "\n",
    "P(140 ≤ X ≤ 160) = ∫140^160 f(x) dx"
   ]
  },
  {
   "cell_type": "code",
   "execution_count": null,
   "id": "53babc15",
   "metadata": {},
   "outputs": [],
   "source": [
    "Q2: What is Cumulative Density Function (CDF)? Explain with an example. Why CDF is used?"
   ]
  },
  {
   "cell_type": "markdown",
   "id": "24a24ca0",
   "metadata": {},
   "source": [
    "* The cumulative distribution function is used to describe the probability distribution of random variables. \n",
    "* To find the probability that a randomly selected person from this population will have a height less than or equal to 160 cm, we can use the CDF of X as follows:\n",
    "\n",
    "F(160) = P(X ≤ 160) = ∫_{-∞}^160 f(x) dx\n",
    "\n",
    "* The CDF is used to describe the probability for a discrete, continuous or mixed variable."
   ]
  },
  {
   "cell_type": "code",
   "execution_count": null,
   "id": "711b9ad4",
   "metadata": {},
   "outputs": [],
   "source": [
    "Q3: What are some examples of situations where the normal distribution might be used as a model?\n",
    "Explain how the parameters of the normal distribution relate to the shape of the distribution."
   ]
  },
  {
   "cell_type": "markdown",
   "id": "1d7e4134",
   "metadata": {},
   "source": [
    "Example- Annual salary of individuals\n",
    "\n",
    "* The mean of the normal distribution is a measure of the central tendency of the distribution. The mean is located at the center of the curve, and the curve is symmetric around the mean. Therefore, as the value of the mean changes, the entire curve shifts left or right.\n",
    "* The standard deviation of the normal distribution is a measure of the spread or variability of the distribution. It determines how much the individual values of the random variable deviate from the mean. The larger the value of std, the more spread out the distribution is, and the flatter the curve becomes. "
   ]
  },
  {
   "cell_type": "code",
   "execution_count": null,
   "id": "63301c04",
   "metadata": {},
   "outputs": [],
   "source": [
    "Q4: Explain the importance of Normal Distribution. Give a few real-life examples of Normal\n",
    "Distribution."
   ]
  },
  {
   "cell_type": "markdown",
   "id": "4f105f03",
   "metadata": {},
   "source": [
    "Importance-\n",
    "* Modeling natural phenomena- such as height of perosnnel, weight of person\n",
    "* Approximation of other distributions- can be used to approximate other probability distributions, such as the binomial distribution, Poisson distribution, and exponential distribution. \n",
    "\n",
    "Example- Height of person"
   ]
  },
  {
   "cell_type": "code",
   "execution_count": null,
   "id": "c310e275",
   "metadata": {},
   "outputs": [],
   "source": [
    "Q5: What is Bernaulli Distribution? Give an Example. What is the difference between Bernoulli\n",
    "Distribution and Binomial Distribution?"
   ]
  },
  {
   "cell_type": "markdown",
   "id": "e376cf94",
   "metadata": {},
   "source": [
    "* The Bernoulli distribution is a probability distribution that describes the outcome of a single experiment that can have one of two possible outcomes, usually referred to as success and failure.\n",
    "\n",
    "Example- Flipping a coin. If we define \"heads\" as success and \"tails\" as failure, then the Bernoulli distribution can be used to model the probability of getting heads in a single coin flip.\n",
    "\n",
    " * The Bernoulli distribution is a probability distribution that describes the outcome of a single experiment that can have one of two possible outcomes, usually referred to as success and failure. It has one parameter, p\n",
    " * The binomial distribution, on the other hand, is a probability distribution that describes the number of successes in a fixed number of independent Bernoulli trials. It has two parameter, n & p"
   ]
  },
  {
   "cell_type": "code",
   "execution_count": null,
   "id": "3e077843",
   "metadata": {},
   "outputs": [],
   "source": [
    "Q6. Consider a dataset with a mean of 50 and a standard deviation of 10. If we assume that the dataset\n",
    "is normally distributed, what is the probability that a randomly selected observation will be greater\n",
    "than 60? Use the appropriate formula and show your calculations."
   ]
  },
  {
   "cell_type": "markdown",
   "id": "75e4a9d8",
   "metadata": {},
   "source": [
    "z = (x - mu) / sigma\n",
    "\n",
    "z = (60 - 50) / 10 = 1\n",
    "\n",
    "Using z-table, area under the curve= 0.8413\n",
    "To find the probability of greater than 60, 1-0.8413= 0.1587= 15.87%"
   ]
  },
  {
   "cell_type": "code",
   "execution_count": null,
   "id": "e8f90e2c",
   "metadata": {},
   "outputs": [],
   "source": [
    "Q7: Explain uniform Distribution with an example."
   ]
  },
  {
   "cell_type": "markdown",
   "id": "62f365b0",
   "metadata": {},
   "source": [
    "The uniform distribution is a probability distribution that is used to model random variables where all possible outcomes are equally likely over a given range.\n",
    "An example of the uniform distribution is rolling a fair six-sided die. Each of the six possible outcomes (1, 2, 3, 4, 5, or 6) is equally likely to occur, and the probability of each outcome is 1/6. In this case, the range of possible outcomes is from 1 to 6, and the probability density function is constant over this range."
   ]
  },
  {
   "cell_type": "code",
   "execution_count": null,
   "id": "939a1152",
   "metadata": {},
   "outputs": [],
   "source": [
    "Q8: What is the z score? State the importance of the z score."
   ]
  },
  {
   "cell_type": "markdown",
   "id": "f3819f8d",
   "metadata": {},
   "source": [
    "The z-score, also known as the standard score, is a statistical measure that indicates how many standard deviations a given data point is away from the mean of a normal distribution. \n",
    "\n",
    "The importance of the z-score lies in its ability to standardize data and help us interpret the significance of a data point in relation to the mean of the distribution"
   ]
  },
  {
   "cell_type": "code",
   "execution_count": null,
   "id": "eecb670d",
   "metadata": {},
   "outputs": [],
   "source": [
    "Q9: What is Central Limit Theorem? State the significance of the Central Limit Theorem."
   ]
  },
  {
   "cell_type": "markdown",
   "id": "46c5e46e",
   "metadata": {},
   "source": [
    "CLT states that as the sample size increases, the distribution of the sample means or proportions will tend to approach a normal distribution, even if the original population is not normally distributed.\n",
    "\n",
    "The significance of the CLT is that it allows us to make inferences about the population parameters, such as the population mean or proportion, based on the sample statistics,"
   ]
  },
  {
   "cell_type": "code",
   "execution_count": null,
   "id": "4b3080ce",
   "metadata": {},
   "outputs": [],
   "source": [
    "Q10: State the assumptions of the Central Limit Theorem."
   ]
  },
  {
   "cell_type": "markdown",
   "id": "0b5789a2",
   "metadata": {},
   "source": [
    "The sample size should be at least 30\n",
    "\n",
    "The sample should be a random sample drawn from the population. This means that every member of the population has an equal chance of being included in the sample.\n",
    "\n",
    "The population from which the sample is drawn should have a finite variance. This means that the variance of the population should not be infinite or undefined."
   ]
  },
  {
   "cell_type": "code",
   "execution_count": null,
   "id": "20c5db0b",
   "metadata": {},
   "outputs": [],
   "source": []
  }
 ],
 "metadata": {
  "kernelspec": {
   "display_name": "Python 3 (ipykernel)",
   "language": "python",
   "name": "python3"
  },
  "language_info": {
   "codemirror_mode": {
    "name": "ipython",
    "version": 3
   },
   "file_extension": ".py",
   "mimetype": "text/x-python",
   "name": "python",
   "nbconvert_exporter": "python",
   "pygments_lexer": "ipython3",
   "version": "3.9.12"
  }
 },
 "nbformat": 4,
 "nbformat_minor": 5
}
