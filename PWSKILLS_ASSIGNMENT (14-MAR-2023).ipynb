{
 "cells": [
  {
   "cell_type": "code",
   "execution_count": null,
   "id": "bd68679b",
   "metadata": {},
   "outputs": [],
   "source": [
    "Q1. Write a Python function that takes in two arrays of data and calculates the F-value for a variance ratio\n",
    "test. The function should return the F-value and the corresponding p-value for the test."
   ]
  },
  {
   "cell_type": "code",
   "execution_count": 2,
   "id": "e594e807",
   "metadata": {},
   "outputs": [
    {
     "name": "stdout",
     "output_type": "stream",
     "text": [
      "F-value: 1.0\n",
      "p-value: 0.5\n"
     ]
    }
   ],
   "source": [
    "import numpy as np\n",
    "from scipy.stats import f\n",
    "\n",
    "def variance_ratio_test(x, y):\n",
    "    var_x = np.var(x, ddof=1)\n",
    "    var_y = np.var(y, ddof=1)\n",
    "    f_value = var_x / var_y\n",
    "    df_x = len(x) - 1\n",
    "    df_y = len(y) - 1\n",
    "    p_value = f.cdf(f_value, df_x, df_y)\n",
    "    return f_value, p_value\n",
    "x = [1, 2, 3, 4, 5]\n",
    "y = [6, 7, 8, 9, 10]\n",
    "f_value, p_value = variance_ratio_test(x, y)\n",
    "print(\"F-value:\", f_value)\n",
    "print(\"p-value:\", p_value)"
   ]
  },
  {
   "cell_type": "code",
   "execution_count": null,
   "id": "7adc6f96",
   "metadata": {},
   "outputs": [],
   "source": [
    "Q2. Given a significance level of 0.05 and the degrees of freedom for the numerator and denominator of an\n",
    "F-distribution, write a Python function that returns the critical F-value for a two-tailed test."
   ]
  },
  {
   "cell_type": "code",
   "execution_count": 3,
   "id": "d549d966",
   "metadata": {},
   "outputs": [
    {
     "name": "stdout",
     "output_type": "stream",
     "text": [
      "Critical F-value: 4.242094126533731\n"
     ]
    }
   ],
   "source": [
    "from scipy.stats import f\n",
    "\n",
    "def critical_f_value(sig_level, df_num, df_denom):\n",
    "    alpha = 1 - sig_level / 2\n",
    "    return f.ppf(alpha, df_num, df_denom)\n",
    "sig_level = 0.05\n",
    "df_num = 2\n",
    "df_denom = 27\n",
    "critical_f = critical_f_value(sig_level, df_num, df_denom)\n",
    "print(\"Critical F-value:\", critical_f)\n"
   ]
  },
  {
   "cell_type": "code",
   "execution_count": null,
   "id": "144d6cc1",
   "metadata": {},
   "outputs": [],
   "source": [
    "Q3. Write a Python program that generates random samples from two normal distributions with known\n",
    "variances and uses an F-test to determine if the variances are equal. The program should output the F-\n",
    "value, degrees of freedom, and p-value for the test."
   ]
  },
  {
   "cell_type": "code",
   "execution_count": 5,
   "id": "676fdf56",
   "metadata": {},
   "outputs": [
    {
     "name": "stdout",
     "output_type": "stream",
     "text": [
      "F-value: 2.425579501529129\n",
      "Degrees of freedom: 29 , 29\n",
      "P-value: 0.01988037470543287\n"
     ]
    }
   ],
   "source": [
    "import numpy as np\n",
    "from scipy.stats import f\n",
    "np.random.seed(123)\n",
    "sample1 = np.random.normal(loc=0, scale=1, size=30)\n",
    "sample2 = np.random.normal(loc=0, scale=1.5, size=30)\n",
    "var1 = np.var(sample1, ddof=1)\n",
    "var2 = np.var(sample2, ddof=1)\n",
    "df1 = len(sample1) - 1\n",
    "df2 = len(sample2) - 1\n",
    "f_value = var1 / var2 if var1 > var2 else var2 / var1\n",
    "p_value = f.sf(f_value, df1, df2) * 2\n",
    "print(\"F-value:\", f_value)\n",
    "print(\"Degrees of freedom:\", df1, \",\", df2)\n",
    "print(\"P-value:\", p_value)\n"
   ]
  },
  {
   "cell_type": "code",
   "execution_count": null,
   "id": "36dafa62",
   "metadata": {},
   "outputs": [],
   "source": [
    "Q4.The variances of two populations are known to be 10 and 15. A sample of 12 observations is taken from\n",
    "each population. Conduct an F-test at the 5% significance level to determine if the variances are\n",
    "significantly different."
   ]
  },
  {
   "cell_type": "code",
   "execution_count": 6,
   "id": "8a37f9a0",
   "metadata": {},
   "outputs": [
    {
     "name": "stdout",
     "output_type": "stream",
     "text": [
      "There is no significant difference in the variances.\n"
     ]
    }
   ],
   "source": [
    "import numpy as np\n",
    "from scipy.stats import f\n",
    "sample1 = np.random.normal(loc=0, scale=np.sqrt(10), size=12)\n",
    "var1 = np.var(sample1, ddof=1)\n",
    "var2 = np.var(sample2, ddof=1)\n",
    "if var1 > var2:\n",
    "    F = var1 / var2\n",
    "else:\n",
    "    F = var2 / var1\n",
    "df1 = len(sample1) - 1\n",
    "df2 = len(sample2) - 1\n",
    "p_value = f.sf(F, df1, df2) * 2\n",
    "if p_value < 0.05:\n",
    "    print(\"The variances are significantly different.\")\n",
    "else:\n",
    "    print(\"There is no significant difference in the variances.\")\n"
   ]
  },
  {
   "cell_type": "code",
   "execution_count": null,
   "id": "14014c80",
   "metadata": {},
   "outputs": [],
   "source": [
    "Q5. A manufacturer claims that the variance of the diameter of a certain product is 0.005. A sample of 25\n",
    "products is taken, and the sample variance is found to be 0.006. Conduct an F-test at the 1% significance\n",
    "level to determine if the claim is justified."
   ]
  },
  {
   "cell_type": "code",
   "execution_count": 10,
   "id": "b364861d",
   "metadata": {},
   "outputs": [
    {
     "name": "stdout",
     "output_type": "stream",
     "text": [
      "F-value: 1.2\n",
      "Degrees of Freedom - Numerator: 24\n",
      "Degrees of Freedom - Denominator: 1000\n",
      "P-value: 0.23147040210141234\n"
     ]
    }
   ],
   "source": [
    "from scipy.stats import f\n",
    "n = 25\n",
    "dfn = n - 1\n",
    "f_val = (0.006) / (0.005)\n",
    "dfd = 1000 \n",
    "p_val = f.sf(f_val, dfn, dfd)\n",
    "print(\"F-value:\", f_val)\n",
    "print(\"Degrees of Freedom - Numerator:\", dfn)\n",
    "print(\"Degrees of Freedom - Denominator:\", dfd)\n",
    "print(\"P-value:\", p_val)\n"
   ]
  },
  {
   "cell_type": "code",
   "execution_count": null,
   "id": "6b48283f",
   "metadata": {},
   "outputs": [],
   "source": [
    "Q6. Write a Python function that takes in the degrees of freedom for the numerator and denominator of an\n",
    "F-distribution and calculates the mean and variance of the distribution. The function should return the\n",
    "mean and variance as a tuple."
   ]
  },
  {
   "cell_type": "code",
   "execution_count": 11,
   "id": "65289370",
   "metadata": {},
   "outputs": [],
   "source": [
    "import math\n",
    "\n",
    "def f_distribution_mean_var(numerator_df, denominator_df):\n",
    "    if numerator_df <= 0 or denominator_df <= 0:\n",
    "        raise ValueError(\"Degrees of freedom must be greater than 0.\")\n",
    "    \n",
    "    mean = denominator_df / (denominator_df - 2)\n",
    "    variance = ((2 * denominator_df**2 * (numerator_df + denominator_df - 2)) /\n",
    "                (numerator_df * (denominator_df - 2)**2 * (denominator_df - 4)))\n",
    "    \n",
    "    return mean, variance\n"
   ]
  },
  {
   "cell_type": "code",
   "execution_count": null,
   "id": "8ca569ba",
   "metadata": {},
   "outputs": [],
   "source": [
    "Q7. A random sample of 10 measurements is taken from a normal population with unknown variance. The\n",
    "sample variance is found to be 25. Another random sample of 15 measurements is taken from another\n",
    "normal population with unknown variance, and the sample variance is found to be 20. Conduct an F-test\n",
    "at the 10% significance level to determine if the variances are significantly different."
   ]
  },
  {
   "cell_type": "code",
   "execution_count": 12,
   "id": "46bdbd26",
   "metadata": {},
   "outputs": [
    {
     "name": "stdout",
     "output_type": "stream",
     "text": [
      "Critical value: 0.3305268601412525\n"
     ]
    }
   ],
   "source": [
    "import scipy.stats as stats\n",
    "\n",
    "alpha = 0.10\n",
    "dfn = 9\n",
    "dfd = 14\n",
    "crit_value = stats.f.ppf(alpha/2, dfn, dfd, loc=0, scale=1)\n",
    "print(\"Critical value:\", crit_value)\n",
    "\n",
    "#Since the calculated F-statistic (1.25) is greater than the critical value (0.383), we cannot reject the null hypothesis. Therefore, we do not have sufficient evidence to conclude that the variances are significantly different at the 10% significance level."
   ]
  },
  {
   "cell_type": "code",
   "execution_count": null,
   "id": "9246ab5f",
   "metadata": {},
   "outputs": [],
   "source": [
    "Q8. The following data represent the waiting times in minutes at two different restaurants on a Saturday\n",
    "night: Restaurant A: 24, 25, 28, 23, 22, 20, 27; Restaurant B: 31, 33, 35, 30, 32, 36. Conduct an F-test at the 5%\n",
    "significance level to determine if the variances are significantly different."
   ]
  },
  {
   "cell_type": "markdown",
   "id": "60f446f1",
   "metadata": {},
   "source": [
    "#A\n",
    "mean = (24+25+28+23+22+20+27)/7 = 23.14\n",
    "squared deviations from the mean: (0.86)^2, (1.86)^2, (4.86)^2, (0.14)^2, (1.14)^2, (3.14)^2, (3.86)^2\n",
    "sum of squared deviations: 41.71\n",
    "sample variance = 41.71/6 = 6.95\n",
    "\n",
    "#B\n",
    "mean = (31+33+35+30+32+36)/6 = 32.83\n",
    "squared deviations from the mean: (0.17)^2, (0.17)^2, (2.17)^2, (2.83)^2, (0.17)^2, (3.17)^2\n",
    "sum of squared deviations: 22.02\n",
    "sample variance = 22.02/5 = 4.40\n",
    "\n",
    "F = 6.95 / 4.40\n",
    "F = 1.5795\n",
    "\n",
    "The degrees of freedom for the numerator is (n1-1) = 6, and the degrees of freedom for the denominator is (n2-1) = 5.\n",
    "\n",
    "From F-distribution table, the critical F-value is 4.39.\n",
    "\n",
    "Since the calculated F-value (1.5795) is less than the critical F-value (4.39), we fail to reject the null hypothesis and conclude that there is not enough evidence to suggest that the variances of waiting times at Restaurant A and Restaurant B are significantly different at the 5% significance level."
   ]
  },
  {
   "cell_type": "code",
   "execution_count": null,
   "id": "f02ef9f0",
   "metadata": {},
   "outputs": [],
   "source": [
    "Q9. The following data represent the test scores of two groups of students: Group A: 80, 85, 90, 92, 87, 83;\n",
    "Group B: 75, 78, 82, 79, 81, 84. Conduct an F-test at the 1% significance level to determine if the variances\n",
    "are significantly different."
   ]
  },
  {
   "cell_type": "code",
   "execution_count": 13,
   "id": "eef68a88",
   "metadata": {},
   "outputs": [
    {
     "name": "stdout",
     "output_type": "stream",
     "text": [
      "F-value:  1.9442622950819677\n",
      "p-value:  0.2415521774535344\n"
     ]
    }
   ],
   "source": [
    "import numpy as np\n",
    "from scipy.stats import f\n",
    "group_a = np.array([80, 85, 90, 92, 87, 83])\n",
    "group_b = np.array([75, 78, 82, 79, 81, 84])\n",
    "\n",
    "var_a = np.var(group_a, ddof=1)\n",
    "var_b = np.var(group_b, ddof=1)\n",
    "\n",
    "if var_a > var_b:\n",
    "    larger_var = var_a\n",
    "    smaller_var = var_b\n",
    "else:\n",
    "    larger_var = var_b\n",
    "    smaller_var = var_a\n",
    "\n",
    "variance_ratio = larger_var / smaller_var\n",
    "f_value = variance_ratio\n",
    "df1 = len(group_a) - 1\n",
    "df2 = len(group_b) - 1\n",
    "p_value = 1 - f.cdf(f_value, df1, df2)\n",
    "print(\"F-value: \", f_value)\n",
    "print(\"p-value: \", p_value)\n"
   ]
  },
  {
   "cell_type": "code",
   "execution_count": null,
   "id": "24180f6a",
   "metadata": {},
   "outputs": [],
   "source": []
  }
 ],
 "metadata": {
  "kernelspec": {
   "display_name": "Python 3 (ipykernel)",
   "language": "python",
   "name": "python3"
  },
  "language_info": {
   "codemirror_mode": {
    "name": "ipython",
    "version": 3
   },
   "file_extension": ".py",
   "mimetype": "text/x-python",
   "name": "python",
   "nbconvert_exporter": "python",
   "pygments_lexer": "ipython3",
   "version": "3.9.12"
  }
 },
 "nbformat": 4,
 "nbformat_minor": 5
}
