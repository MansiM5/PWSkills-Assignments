{
 "cells": [
  {
   "cell_type": "code",
   "execution_count": null,
   "id": "6bef2695",
   "metadata": {},
   "outputs": [],
   "source": [
    "Q1). what is multithreading in python? Why is it used? Name the module used to handle threads in python"
   ]
  },
  {
   "cell_type": "markdown",
   "id": "34d1c6a0",
   "metadata": {},
   "source": [
    "* Multithreading in python is ability of processor to execute multiple threads concurrently (to run a program in a single core mutiple times)\n",
    "* Multithreading enables efficient utilization of resources. It saves time & imporoves performance\n",
    "* Threading is a module that handles threads in python"
   ]
  },
  {
   "cell_type": "code",
   "execution_count": null,
   "id": "b0398c4c",
   "metadata": {},
   "outputs": [],
   "source": [
    "Q2). Why threading module used? Write the use of the following functions\n",
    "1. activeCount()\n",
    "2. currentThread()\n",
    "3. enumerate()"
   ]
  },
  {
   "cell_type": "markdown",
   "id": "78f72b36",
   "metadata": {},
   "source": [
    "Threading module is used to provide a simple and intutive API for spawning multiple threads in a program.\n",
    "* 1. activeCount(): returns number of thread objects that are active\n",
    "* 2. currentThread(): returns number of thread objects in caller's thread control\n",
    "* 3. enumerate(): returns a list of all thread objects that are currently active"
   ]
  },
  {
   "cell_type": "code",
   "execution_count": null,
   "id": "96300513",
   "metadata": {},
   "outputs": [],
   "source": [
    "Q3). Explain the following functions\n",
    "1.run()\n",
    "2.start()\n",
    "3.join()\n",
    "4.isAlive()"
   ]
  },
  {
   "cell_type": "markdown",
   "id": "322be577",
   "metadata": {},
   "source": [
    "* 1. run()- It is the entry point for a thread\n",
    "* 2. start()- It starts a thread by calling run method\n",
    "* 3. join()- Waits for the thread to terminate\n",
    "* 4. isAlive()- Checks whether a thread is still executing"
   ]
  },
  {
   "cell_type": "code",
   "execution_count": null,
   "id": "1b169a35",
   "metadata": {},
   "outputs": [],
   "source": [
    "Q4). Write a python program to create two threads. Thread one must print the list of squares and thread\n",
    "two must print the list of cubes"
   ]
  },
  {
   "cell_type": "code",
   "execution_count": 41,
   "id": "ca2e4629",
   "metadata": {},
   "outputs": [],
   "source": [
    "def square(l):\n",
    "    print(f\"the square of {l} is: \", l**2)\n",
    "\n",
    "def cube(i):\n",
    "    print(f\"the cube of {i} is: \", i**3)\n",
    "    "
   ]
  },
  {
   "cell_type": "code",
   "execution_count": 40,
   "id": "c171c8cd",
   "metadata": {},
   "outputs": [
    {
     "name": "stdout",
     "output_type": "stream",
     "text": [
      "the square of 20 is:  400\n",
      "the square of 30 is:  900\n",
      "the square of 40 is:  1600\n"
     ]
    }
   ],
   "source": [
    "thread= [threading.Thread(target= square, args=(l,)) for l in [20,30,40]]\n",
    "for t in thread:\n",
    "    t.start()"
   ]
  },
  {
   "cell_type": "code",
   "execution_count": 43,
   "id": "211bd176",
   "metadata": {},
   "outputs": [
    {
     "name": "stdout",
     "output_type": "stream",
     "text": [
      "the cube of 20 is:  8000\n",
      "the cube of 30 is:  27000\n",
      "the cube of 40 is:  64000\n"
     ]
    }
   ],
   "source": [
    "thread1= [threading.Thread(target= cube, args=(i,)) for i in [20,30,40]]\n",
    "for t in thread1:\n",
    "    t.start()"
   ]
  },
  {
   "cell_type": "code",
   "execution_count": null,
   "id": "132b0a07",
   "metadata": {},
   "outputs": [],
   "source": [
    "Q5. State advantages and disadvantages of multithreading."
   ]
  },
  {
   "cell_type": "markdown",
   "id": "d98389c6",
   "metadata": {},
   "source": [
    "----Advantages:\n",
    "* Efficient utilization of resources\n",
    "* Allows parallel occurence of tasks\n",
    "* Reduction in time consumption\n",
    "\n",
    "-----Disadvantages:\n",
    "* Increases complexity in program\n",
    "* Difficulty in debugging\n",
    "* Constructing & sync threads is memory intensive\n"
   ]
  },
  {
   "cell_type": "code",
   "execution_count": null,
   "id": "e24d8d9d",
   "metadata": {},
   "outputs": [],
   "source": [
    "Q6. Explain deadlocks and race conditions."
   ]
  },
  {
   "cell_type": "markdown",
   "id": "517fb461",
   "metadata": {},
   "source": [
    "* Deadlock refers to specific situation at a time planning when no progress can be made and system is locked in it's current situation\n",
    "* Race condition is a bug, a failure where the behavior of program is dependent upon the order of execution by two or more threads"
   ]
  },
  {
   "cell_type": "code",
   "execution_count": null,
   "id": "b6461a36",
   "metadata": {},
   "outputs": [],
   "source": []
  }
 ],
 "metadata": {
  "kernelspec": {
   "display_name": "Python 3 (ipykernel)",
   "language": "python",
   "name": "python3"
  },
  "language_info": {
   "codemirror_mode": {
    "name": "ipython",
    "version": 3
   },
   "file_extension": ".py",
   "mimetype": "text/x-python",
   "name": "python",
   "nbconvert_exporter": "python",
   "pygments_lexer": "ipython3",
   "version": "3.9.12"
  }
 },
 "nbformat": 4,
 "nbformat_minor": 5
}
