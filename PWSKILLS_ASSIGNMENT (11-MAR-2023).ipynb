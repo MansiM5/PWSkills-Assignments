{
 "cells": [
  {
   "cell_type": "code",
   "execution_count": null,
   "id": "ff6042c6",
   "metadata": {},
   "outputs": [],
   "source": [
    "Q1: What is the difference between a t-test and a z-test? Provide an example scenario where you would\n",
    "use each type of test."
   ]
  },
  {
   "cell_type": "markdown",
   "id": "0181ae5d",
   "metadata": {},
   "source": [
    "The difference between these two tests is that a z-test assumes that the population standard deviation is known, while a t-test assumes that the population standard deviation is unknown and uses the sample standard deviation as an estimate. \n",
    "\n",
    "Ex: A z-test is appropriate when the sample size is greater than 30, and the population standard deviation is known or can be reasonably estimated. A t-test, on the other hand, is used when the sample size is less than 30 or the population standard deviation is unknown."
   ]
  },
  {
   "cell_type": "code",
   "execution_count": null,
   "id": "48ab6066",
   "metadata": {},
   "outputs": [],
   "source": [
    "Q2: Differentiate between one-tailed and two-tailed tests."
   ]
  },
  {
   "cell_type": "markdown",
   "id": "3a59aa4c",
   "metadata": {},
   "source": [
    "In a one-tailed test, the null hypothesis specifies a particular direction of the relationship between the variables being tested. The alternative hypothesis is also directional and specifies whether the relationship is greater than or less than the null hypothesis. The critical region for rejection of the null hypothesis is located entirely on one side of the distribution.\n",
    "\n",
    "In a two-tailed test, the null hypothesis specifies no significant difference between the variables being tested. The alternative hypothesis is non-directional and simply states that there is a significant difference between the variables. The critical region for rejection of the null hypothesis is located in both tails of the distribution."
   ]
  },
  {
   "cell_type": "code",
   "execution_count": null,
   "id": "68300b8d",
   "metadata": {},
   "outputs": [],
   "source": [
    "Q3: Explain the concept of Type 1 and Type 2 errors in hypothesis testing. Provide an example scenario for\n",
    "each type of error."
   ]
  },
  {
   "cell_type": "markdown",
   "id": "bc4316ec",
   "metadata": {},
   "source": [
    "Type 1 error occurs when the null hypothesis is rejected when it is actually true. This means that we conclude there is a significant effect or difference between the groups when there is not. \n",
    "\n",
    "Ex: A medical researcher is conducting a clinical trial to test a new drug for a particular disease. The null hypothesis is that the drug has no effect on the disease. If the researcher concludes that the drug is effective in treating the disease when it is actually not, it would be a Type 1 error.\n",
    "\n",
    "Type 2 error occurs when the null hypothesis is not rejected when it is actually false. This means that we conclude there is no significant effect or difference between the groups when there actually is.\n",
    "\n",
    "Ex: In the same clinical trial, if the researcher concludes that the drug is not effective in treating the disease when it actually is, it would be a Type 2 error."
   ]
  },
  {
   "cell_type": "code",
   "execution_count": null,
   "id": "2ed6bd78",
   "metadata": {},
   "outputs": [],
   "source": [
    "Q4: Explain Bayes's theorem with an example."
   ]
  },
  {
   "cell_type": "markdown",
   "id": "4a0e8225",
   "metadata": {},
   "source": [
    "Bayes's theorem is a mathematical formula that describes the probability of an event based on prior knowledge of related conditions or events. It involves calculating the probability of an event occurring given some prior knowledge or evidence.\n",
    "\n",
    "Suppose there is a disease that affects 1 in 1000 people in a certain population. A medical test is available to diagnose the disease, but the test is not perfect. It correctly identifies the disease in 95% of people who have it, but it also gives false positive results in 2% of people who don't have the disease.\n",
    "\n",
    "Using Bayes's theorem, we can calculate this probability as follows:\n",
    "\n",
    "Let A be the event that the person has the disease, and B be the event that the test result is positive.\n",
    "\n",
    "P(A) = 0.001 (given in the problem statement)\n",
    "P(B|A) = 0.95 (the test correctly identifies the disease in 95% of people who have it)\n",
    "P(B|not A) = 0.02 (the test gives a false positive result in 2% of people who don't have the disease)\n",
    "\n",
    "We can calculate P(B) using the law of total probability:\n",
    "\n",
    "P(B) = P(B|A) * P(A) + P(B|not A) * P(not A)\n",
    "= 0.95 * 0.001 + 0.02 * 0.999\n",
    "= 0.0209\n",
    "\n",
    "Now we can use Bayes's theorem to calculate P(A|B):\n",
    "\n",
    "P(A|B) = P(B|A) * P(A) / P(B)\n",
    "= 0.95 * 0.001 / 0.0209\n",
    "= 0.0455\n",
    "\n",
    "So the probability that the person actually has the disease given a positive test result is about 4.55%."
   ]
  },
  {
   "cell_type": "code",
   "execution_count": null,
   "id": "3b170871",
   "metadata": {},
   "outputs": [],
   "source": [
    "Q5: What is a confidence interval? How to calculate the confidence interval, explain with an example."
   ]
  },
  {
   "cell_type": "markdown",
   "id": "caf2324d",
   "metadata": {},
   "source": [
    "A confidence interval is a range of values, computed from a sample of data, that is likely to contain an unknown population parameter with a certain degree of confidence.\n",
    "\n",
    "Ex: Let's say a company wants to estimate the average time spent by their employees commuting to work. They take a random sample of 100 employees and find that the sample mean commuting time is 45 minutes, with a sample standard deviation of 10 minutes. They want to calculate a 95% confidence interval for the true average commuting time.\n",
    "\n",
    "First, we need to find the critical value of the standard normal distribution corresponding to the desired confidence level α = 0.05. Since it is a two-tailed test, the area under the curve to the right of the critical value and to the left of the negative of the critical value is 0.025 each. Using a standard normal distribution table or calculator, we find that the critical value is 1.96."
   ]
  },
  {
   "cell_type": "code",
   "execution_count": null,
   "id": "c1f33164",
   "metadata": {},
   "outputs": [],
   "source": [
    "Q6. Use Bayes' Theorem to calculate the probability of an event occurring given prior knowledge of the\n",
    "event's probability and new evidence. Provide a sample problem and solution."
   ]
  },
  {
   "cell_type": "markdown",
   "id": "dfb4dfb4",
   "metadata": {},
   "source": [
    "Suppose a medical test for a rare disease is known to have a false positive rate of 3% (meaning that 3% of healthy people will test positive) and a false negative rate of 1% (meaning that 1% of sick people will test negative). If the overall incidence of the disease in the population is 0.1%, what is the probability that a person who tests positive actually has the disease?\n",
    "\n",
    "A: the event that a person has the disease\n",
    "B: the event that a person tests positive\n",
    "Using Bayes' theorem, we can calculate:\n",
    "\n",
    "P(A | B) = P(B | A) * P(A) / P(B)\n",
    "\n",
    "where P(B | A) is the probability of testing positive given that the person has the disease, P(A) is the prior probability of having the disease, and P(B) is the probability of testing positive, which can be calculated as:\n",
    "\n",
    "P(B) = P(B | A) * P(A) + P(B | not A) * P(not A)\n",
    "\n",
    "where P(B | not A) is the probability of testing positive given that the person does not have the disease, and P(not A) is the complement of P(A), i.e., the prior probability of not having the disease.\n",
    "\n",
    "We are given that P(A) = 0.001, P(B | A) = 0.99, and P(B | not A) = 0.03. Therefore:\n",
    "\n",
    "P(B) = P(B | A) * P(A) + P(B | not A) * P(not A)\n",
    "= 0.99 * 0.001 + 0.03 * 0.999\n",
    "= 0.03096\n",
    "\n",
    "Now we can calculate:\n",
    "\n",
    "P(A | B) = P(B | A) * P(A) / P(B)\n",
    "= 0.99 * 0.001 / 0.03096\n",
    "= 0.0319\n",
    "\n",
    "So the probability that a person who tests positive actually has the disease is about 3.19%."
   ]
  },
  {
   "cell_type": "code",
   "execution_count": null,
   "id": "0effd0c5",
   "metadata": {},
   "outputs": [],
   "source": [
    "Q7. Calculate the 95% confidence interval for a sample of data with a mean of 50 and a standard deviation\n",
    "of 5. Interpret the results."
   ]
  },
  {
   "cell_type": "markdown",
   "id": "fe08686e",
   "metadata": {},
   "source": [
    "Confidence interval = sample mean ± (critical value) × (standard error)\n",
    "t-value from t-table: 2.045\n",
    "\n",
    "Standard error = sample standard deviation / sqrt(sample size)\n",
    "= 5 / sqrt(30)\n",
    "= 0.9129\n",
    "\n",
    "95% confidence interval can be calculated as:\n",
    "\n",
    "Confidence interval = 50 ± (2.045) × (0.9129)\n",
    "= [48.22, 51.78]"
   ]
  },
  {
   "cell_type": "code",
   "execution_count": null,
   "id": "7cedd81a",
   "metadata": {},
   "outputs": [],
   "source": [
    "Q8. What is the margin of error in a confidence interval? How does sample size affect the margin of error?\n",
    "Provide an example of a scenario where a larger sample size would result in a smaller margin of error."
   ]
  },
  {
   "cell_type": "markdown",
   "id": "e2c69e74",
   "metadata": {},
   "source": [
    "The margin of error is the range of values above and below a point estimate that is likely to contain the true population parameter with a specified level of confidence.\n",
    "\n",
    "As the sample size increases, the margin of error decreases, and the confidence interval becomes narrower. This is because a larger sample size provides more information and reduces the variability in the data.\n",
    "\n",
    "Ex: Suppose a poll is conducted to estimate the proportion of voters who support a particular candidate in an election. A sample of 1000 voters is taken, and the proportion who support the candidate is found to be 0.55. A 95% confidence interval is calculated, and the margin of error is found to be +/- 0.03. This means that we are 95% confident that the true proportion of voters who support the candidate lies between 0.52 and 0.58.\n",
    "\n",
    "If the sample size were increased to 2000 voters, the margin of error would decrease, and the confidence interval would become narrower. This would increase the precision of our estimate of the true proportion of voters who support the candidate."
   ]
  },
  {
   "cell_type": "code",
   "execution_count": null,
   "id": "0f003e7b",
   "metadata": {},
   "outputs": [],
   "source": [
    "Q9. Calculate the z-score for a data point with a value of 75, a population mean of 70, and a population\n",
    "standard deviation of 5. Interpret the results."
   ]
  },
  {
   "cell_type": "markdown",
   "id": "71735348",
   "metadata": {},
   "source": [
    "The formula to calculate the z-score is:\n",
    "\n",
    "z = (x - μ) / σ\n",
    "\n",
    "z = (75 - 70) / 5\n",
    "z = 1\n",
    "\n",
    "The calculated z-score of 1 means that the data point is 1 standard deviation above the population mean."
   ]
  },
  {
   "cell_type": "code",
   "execution_count": null,
   "id": "80eeb7f6",
   "metadata": {},
   "outputs": [],
   "source": [
    "Q10. In a study of the effectiveness of a new weight loss drug, a sample of 50 participants lost an average\n",
    "of 6 pounds with a standard deviation of 2.5 pounds. Conduct a hypothesis test to determine if the drug is\n",
    "significantly effective at a 95% confidence level using a t-test."
   ]
  },
  {
   "cell_type": "markdown",
   "id": "38db6695",
   "metadata": {},
   "source": [
    "Null hypothesis (H0): The weight loss drug is not significantly effective \n",
    "Alternative hypothesis (H1): The weight loss drug is significantly effective \n",
    "\n",
    "The level of significance = 1 - confidence level = 0.05/2 = 0.025.\n",
    "\n",
    "The t-statistic can be calculated as follows:\n",
    "\n",
    "t = (x̄ - μ) / (s / sqrt(n))\n",
    "t = (6 - 0) / (2.5 / sqrt(50))\n",
    "t = 13.68\n",
    "\n",
    "Using a t-table t-value range is -2.009 and 2.009\n",
    "\n",
    "Since our calculated t-statistic (13.68) is greater than the critical value of 2.009, we reject the null hypothesis.\n",
    "\n",
    "Therefore, we can conclude that the weight loss drug is significantly effective at a 95% confidence level."
   ]
  },
  {
   "cell_type": "code",
   "execution_count": null,
   "id": "45775bfe",
   "metadata": {},
   "outputs": [],
   "source": [
    "Q11. In a survey of 500 people, 65% reported being satisfied with their current job. Calculate the 95%\n",
    "confidence interval for the true proportion of people who are satisfied with their job."
   ]
  },
  {
   "cell_type": "markdown",
   "id": "735d1ac7",
   "metadata": {},
   "source": [
    "z = 1.96\n",
    "\n",
    "CI = 0.65 ± 1.96sqrt((0.65(1-0.65))/500)\n",
    "\n",
    "CI = 0.65 ± 0.0401\n",
    "\n",
    "The 95% confidence interval for the true proportion of people who are satisfied with their job is (0.6099, 0.6901).\n",
    "\n",
    "Interpretation: We can say with 95% confidence that the true proportion of people who are satisfied with their job is between 0.6099 and 0.6901."
   ]
  },
  {
   "cell_type": "code",
   "execution_count": null,
   "id": "38b83a8a",
   "metadata": {},
   "outputs": [],
   "source": [
    "Q12. A researcher is testing the effectiveness of two different teaching methods on student performance.\n",
    "Sample A has a mean score of 85 with a standard deviation of 6, while sample B has a mean score of 82\n",
    "with a standard deviation of 5. Conduct a hypothesis test to determine if the two teaching methods have a\n",
    "significant difference in student performance using a t-test with a significance level of 0.01."
   ]
  },
  {
   "cell_type": "markdown",
   "id": "eae1960d",
   "metadata": {},
   "source": [
    "Null hypothesis: The means of the two populations are equal.\n",
    "Alternative hypothesis: The means of the two populations are not equal.\n",
    "sd = 5.602\n",
    "t=2.58\n",
    "The degrees of freedom is (n1 + n2 - 2) = 53.\n",
    "\n",
    "Using a t-distribution table the value is ±2.68.\n",
    "\n",
    "Since the absolute value of the t-statistic (2.58) is less than the critical value (2.68), we fail to reject the null hypothesis.\n",
    "\n",
    "Therefore, we do not have enough evidence to conclude that the two teaching methods have a significant difference in student performance."
   ]
  },
  {
   "cell_type": "code",
   "execution_count": null,
   "id": "d8d24d8a",
   "metadata": {},
   "outputs": [],
   "source": [
    "Q13. A population has a mean of 60 and a standard deviation of 8. A sample of 50 observations has a mean\n",
    "of 65. Calculate the 90% confidence interval for the true population mean."
   ]
  },
  {
   "cell_type": "markdown",
   "id": "688349e1",
   "metadata": {},
   "source": [
    "CI = 65 ± 1.645 * 8/√50\n",
    "CI = 65 ± 2.318\n",
    "CI = (62.682, 67.318)\n",
    "\n",
    "Therefore, we can be 90% confident that the true population mean lies between 62.682 and 67.318."
   ]
  },
  {
   "cell_type": "code",
   "execution_count": null,
   "id": "e54b42ac",
   "metadata": {},
   "outputs": [],
   "source": [
    "Q14. In a study of the effects of caffeine on reaction time, a sample of 30 participants had an average\n",
    "reaction time of 0.25 seconds with a standard deviation of 0.05 seconds. Conduct a hypothesis test to\n",
    "determine if the caffeine has a significant effect on reaction time at a 90% confidence level using a t-test."
   ]
  },
  {
   "cell_type": "markdown",
   "id": "65e592b6",
   "metadata": {},
   "source": [
    "t = (0.25 - 0) / (0.05 / √30)\n",
    "t = 11.18\n",
    "\n",
    "Using a t-table value is ±1.699.\n",
    "\n",
    "Since the calculated t-value (11.18) is greater than the critical value (±1.699), we can reject the null hypothesis and conclude that caffeine has a significant effect on reaction time at a 90% confidence level.\n",
    "\n",
    "Therefore, we can conclude that there is a significant difference between the reaction times of participants who consumed caffeine and those who did not."
   ]
  },
  {
   "cell_type": "code",
   "execution_count": null,
   "id": "974e8fab",
   "metadata": {},
   "outputs": [],
   "source": []
  }
 ],
 "metadata": {
  "kernelspec": {
   "display_name": "Python 3 (ipykernel)",
   "language": "python",
   "name": "python3"
  },
  "language_info": {
   "codemirror_mode": {
    "name": "ipython",
    "version": 3
   },
   "file_extension": ".py",
   "mimetype": "text/x-python",
   "name": "python",
   "nbconvert_exporter": "python",
   "pygments_lexer": "ipython3",
   "version": "3.9.12"
  }
 },
 "nbformat": 4,
 "nbformat_minor": 5
}
