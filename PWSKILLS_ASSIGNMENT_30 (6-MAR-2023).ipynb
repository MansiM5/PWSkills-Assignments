{
 "cells": [
  {
   "cell_type": "code",
   "execution_count": null,
   "id": "8360537b",
   "metadata": {},
   "outputs": [],
   "source": [
    "Q1. What is Statistics?"
   ]
  },
  {
   "cell_type": "markdown",
   "id": "8fcac4df",
   "metadata": {},
   "source": [
    "Statistics is the science of collecting, organizing & analyzing data."
   ]
  },
  {
   "cell_type": "code",
   "execution_count": null,
   "id": "6b08cba9",
   "metadata": {},
   "outputs": [],
   "source": [
    "Q2. Define the different types of statistics and give an example of when each type might be used."
   ]
  },
  {
   "cell_type": "markdown",
   "id": "4581af54",
   "metadata": {},
   "source": [
    "Two different types of statistics are:\n",
    "* Inferential stat- consists of using your measured data to make conclusions\n",
    "* Descriptive stat- consists of organizing & summarizing the data\n",
    "\n",
    "Example- In a cricket match, if we would like to know the average runs a player has scored, we can calculate mean for that (this comes under descriptive stat). At the same time, if we would like to compare if the average runs scored by a player is similar to average of entire team, we can use different types of tests (this comes under Inferential stats) "
   ]
  },
  {
   "cell_type": "code",
   "execution_count": null,
   "id": "74b2e209",
   "metadata": {},
   "outputs": [],
   "source": [
    "Q3. What are the different types of data and how do they differ from each other? Provide an example of\n",
    "each type of data."
   ]
  },
  {
   "cell_type": "markdown",
   "id": "d1a693f6",
   "metadata": {},
   "source": [
    "Different types of data:\n",
    "* Quantitative- includes numeric data\n",
    " * Discrete- they include only whole numbers (ex: Number of senior citizens)\n",
    " * Continuous- they include any value (ex: Marks of students)\n",
    "* Qualitative- includes categorical data\n",
    " * Nominal- the data that cannot be ranked (ex: Gender)\n",
    " * Ordinal- the data that can be ranked (ex: Good, Better, Best)"
   ]
  },
  {
   "cell_type": "code",
   "execution_count": null,
   "id": "fab3a0da",
   "metadata": {},
   "outputs": [],
   "source": [
    "Q4. Categorise the following datasets with respect to quantitative and qualitative data types:\n",
    "(i) Grading in exam: A+, A, B+, B, C+, C, D, E\n",
    "(ii) Colour of mangoes: yellow, green, orange, red\n",
    "(iii) Height data of a class: [178.9, 179, 179.5, 176, 177.2, 178.3, 175.8,...]\n",
    "(iv) Number of mangoes exported by a farm: [500, 600, 478, 672, ...]"
   ]
  },
  {
   "cell_type": "markdown",
   "id": "1c527582",
   "metadata": {},
   "source": [
    "(i) Grading in exam: A+, A, B+, B, C+, C, D, E\n",
    "* Qualitative- ordinal\n",
    "\n",
    "(ii) Colour of mangoes: yellow, green, orange, red\n",
    "* Qualitative- nominal\n",
    "\n",
    "(iii) Height data of a class: [178.9, 179, 179.5, 176, 177.2, 178.3, 175.8,...]\n",
    "* Quantitative- Continuous\n",
    "\n",
    "(iv) Number of mangoes exported by a farm: [500, 600, 478, 672, ...]\n",
    "* Quantitative- Discrete"
   ]
  },
  {
   "cell_type": "code",
   "execution_count": null,
   "id": "6c16ccf7",
   "metadata": {},
   "outputs": [],
   "source": [
    "Q5. Explain the concept of levels of measurement and give an example of a variable for each level."
   ]
  },
  {
   "cell_type": "markdown",
   "id": "4a6464c0",
   "metadata": {},
   "source": [
    "In Statistics, the variables or numbers are defined and categorised using different scales of measurements. Each level of measurement scale has specific properties that determine the various use of statistical analysis.\n",
    "There are 4 types:\n",
    "1. Nominal scale data- includes qualitative variables, order does not matter\n",
    "* Ex: Percentage of people that live in city & in village\n",
    "2. Ordinal scale data- ranking & order matters, difference cannot be measured\n",
    "* Ex: Different qualifications\n",
    "3. Interval scale data- rank & order matters, difference can be measured excluding ratio, does not have \"0\" starting value\n",
    "* Ex: Temperature\n",
    "4. Ratio scale data- order & rank matters, differences & ratio are measured, does have \"0\" starting\n",
    "* Ex: Marks"
   ]
  },
  {
   "cell_type": "code",
   "execution_count": null,
   "id": "298a93fd",
   "metadata": {},
   "outputs": [],
   "source": [
    "Q6. Why is it important to understand the level of measurement when analyzing data? Provide an\n",
    "example to illustrate your answer."
   ]
  },
  {
   "cell_type": "markdown",
   "id": "98062a3f",
   "metadata": {},
   "source": [
    "It is importatnt to understand the level of measurement when analyzing data because it determines the type of statistical analysis for interpretation that can be performed in a data. Suppose we want to analyze if we should install an ATM at a certain place on behalf of customer feedback of 1-10. If we treat this data as ordinal, there will be limited interpretation that can be made, wherein if we treat this data as interval or ratio, we can use more advance statistical analysis like Z-test, t-test"
   ]
  },
  {
   "cell_type": "code",
   "execution_count": null,
   "id": "f59d2296",
   "metadata": {},
   "outputs": [],
   "source": [
    "Q7. How nominal data type is different from ordinal data type."
   ]
  },
  {
   "cell_type": "markdown",
   "id": "3afaea10",
   "metadata": {},
   "source": [
    "In nominal data type, order does not matter whereas ranking & order matters in ordinal data type"
   ]
  },
  {
   "cell_type": "code",
   "execution_count": null,
   "id": "2e875b32",
   "metadata": {},
   "outputs": [],
   "source": [
    "Q8. Which type of plot can be used to display data in terms of range?"
   ]
  },
  {
   "cell_type": "markdown",
   "id": "3d10fa1a",
   "metadata": {},
   "source": [
    "Box plot"
   ]
  },
  {
   "cell_type": "code",
   "execution_count": null,
   "id": "a2923f8a",
   "metadata": {},
   "outputs": [],
   "source": [
    "Q9. Describe the difference between descriptive and inferential statistics. Give an example of each\n",
    "type of statistics and explain how they are used."
   ]
  },
  {
   "cell_type": "markdown",
   "id": "8511c9a6",
   "metadata": {},
   "source": [
    "\n",
    "* Inferential stat- consists of using your measured data to make conclusions\n",
    "* Descriptive stat- consists of organizing & summarizing the data\n",
    "\n",
    "Example- In a cricket match, if we would like to know the average runs a player has scored, we can calculate mean for that (this comes under descriptive stat). At the same time, if we would like to compare if the average runs scored by a player is similar to average of entire team, we can use different types of tests (this comes under Inferential stats) "
   ]
  },
  {
   "cell_type": "code",
   "execution_count": null,
   "id": "cf376098",
   "metadata": {},
   "outputs": [],
   "source": [
    "Q10. What are some common measures of central tendency and variability used in statistics? Explain\n",
    "how each measure can be used to describe a dataset."
   ]
  },
  {
   "cell_type": "markdown",
   "id": "735ab560",
   "metadata": {},
   "source": [
    "Common measures of central tendency and variability used in statistics-\n",
    "* Mean- tells the skewness of a data\n",
    "* Median- useful when outliers are present in a data\n",
    "* Mode- tells the frequency oa certain variable\n",
    "* Range- variability in data\n",
    "* Standard Deviation- spreadness in a data"
   ]
  },
  {
   "cell_type": "code",
   "execution_count": null,
   "id": "0a049d66",
   "metadata": {},
   "outputs": [],
   "source": []
  }
 ],
 "metadata": {
  "kernelspec": {
   "display_name": "Python 3 (ipykernel)",
   "language": "python",
   "name": "python3"
  },
  "language_info": {
   "codemirror_mode": {
    "name": "ipython",
    "version": 3
   },
   "file_extension": ".py",
   "mimetype": "text/x-python",
   "name": "python",
   "nbconvert_exporter": "python",
   "pygments_lexer": "ipython3",
   "version": "3.9.12"
  }
 },
 "nbformat": 4,
 "nbformat_minor": 5
}
