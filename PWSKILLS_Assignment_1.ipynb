{
 "cells": [
  {
   "cell_type": "markdown",
   "id": "b01f742a",
   "metadata": {},
   "source": [
    "### Q1. Who developed Python programming language?\n",
    "\n",
    "Ans- Guido van Rossum "
   ]
  },
  {
   "cell_type": "markdown",
   "id": "104db10c",
   "metadata": {},
   "source": [
    "### Q2. Which type of programming does python support?\n",
    "\n",
    "Ans- Python supports structured, object-oriented and functional programming."
   ]
  },
  {
   "cell_type": "markdown",
   "id": "fa4bd966",
   "metadata": {},
   "source": [
    "### Q3. Is python case sensitive when dealing with identifiers?\n",
    "\n",
    "Ans- Yes"
   ]
  },
  {
   "cell_type": "markdown",
   "id": "63314943",
   "metadata": {},
   "source": [
    "### Q4. What is the correct extension of Python file?\n",
    "\n",
    "Ans- .py"
   ]
  },
  {
   "cell_type": "markdown",
   "id": "7c4eeb77",
   "metadata": {},
   "source": [
    "### Q5. Is python code compiled or interpreted?\n",
    "\n",
    "Ans- Both"
   ]
  },
  {
   "cell_type": "markdown",
   "id": "8205d288",
   "metadata": {},
   "source": [
    "### Q6. Name a few blocks of code used to define in Python language?\n",
    "\n",
    "Ans- Module, Function body, Class "
   ]
  },
  {
   "cell_type": "markdown",
   "id": "c45aa011",
   "metadata": {},
   "source": [
    "### Q7. State a character used to define single line comments in Python.\n",
    "\n",
    "Ans- '#'"
   ]
  },
  {
   "cell_type": "markdown",
   "id": "26a2aab2",
   "metadata": {},
   "source": [
    "### Q8. Mention function which can help us find the version of Python we are in?\n",
    "\n",
    "Ans- python_version()"
   ]
  },
  {
   "cell_type": "markdown",
   "id": "689eae92",
   "metadata": {},
   "source": [
    "### Q9. Python supports creation of anonymous function at runtime using a constructer called?\n",
    "\n",
    "Ans- Lambda"
   ]
  },
  {
   "cell_type": "markdown",
   "id": "49868483",
   "metadata": {},
   "source": [
    "### Q10. PIP stands for?\n",
    "\n",
    "Ans- Preferred Installer Program"
   ]
  },
  {
   "cell_type": "markdown",
   "id": "6341444c",
   "metadata": {},
   "source": [
    "### Q11. Mention a few built-in function in python?\n",
    "\n",
    "Ans- len(), help(), int(), float(), str(), map(), max(), min()"
   ]
  },
  {
   "cell_type": "markdown",
   "id": "6aa1ea78",
   "metadata": {},
   "source": [
    "### Q12. What is maximum possible length of identifier in python?\n",
    "\n",
    "Ans- 79"
   ]
  },
  {
   "cell_type": "markdown",
   "id": "b9694681",
   "metadata": {},
   "source": [
    "### Q13. What are benefits of using python?\n",
    "\n",
    "Ans- Python's simple, easy to learn syntax emphasizes on code readability with the use of whitespaces and therefore reduces the cost of program maintenance.\n",
    "\n",
    "Python supports modules and packages, which encourages program modularity and code reuse.\n",
    "\n",
    "The Python interpreter and the extensive standard library are available in source or binary form without charge for all major platforms, and can be freely distributed.\n",
    "\n",
    "Python is a great general-purpose programming language on its own, but with the help of a few popular libraries (numpy, scipy, matplotlib) it becomes a powerful environment for scientific computing."
   ]
  },
  {
   "cell_type": "markdown",
   "id": "cee6511f",
   "metadata": {},
   "source": [
    "### Q14. How is memory managed in python?\n",
    "\n",
    "Ans- Memory is managed in python using private heaps containing python objects and data structures. Management of private heap is ensured by Python Memory Manager. Stack & heap memory are two parts of memory."
   ]
  },
  {
   "cell_type": "markdown",
   "id": "8d0080c0",
   "metadata": {},
   "source": [
    "### Q15. How to install python on windows & set path variables?\n",
    "\n",
    "Ans- \n",
    "* Select version of python to install.\n",
    "* Download & run python executable installer\n",
    "* Run python.exe from command prompt & check for successful installation.\n",
    "\n",
    "Setting the path variable-\n",
    "Go to Properties > Advance system settings > Environment variables > System variables > New & enter python's install directory"
   ]
  },
  {
   "cell_type": "markdown",
   "id": "12aa6b97",
   "metadata": {},
   "source": [
    "### Q16. Is indentation required in python?\n",
    "\n",
    "Ans- Yes"
   ]
  },
  {
   "cell_type": "code",
   "execution_count": null,
   "id": "bb814c01",
   "metadata": {},
   "outputs": [],
   "source": []
  }
 ],
 "metadata": {
  "kernelspec": {
   "display_name": "Python 3 (ipykernel)",
   "language": "python",
   "name": "python3"
  },
  "language_info": {
   "codemirror_mode": {
    "name": "ipython",
    "version": 3
   },
   "file_extension": ".py",
   "mimetype": "text/x-python",
   "name": "python",
   "nbconvert_exporter": "python",
   "pygments_lexer": "ipython3",
   "version": "3.9.12"
  }
 },
 "nbformat": 4,
 "nbformat_minor": 5
}
