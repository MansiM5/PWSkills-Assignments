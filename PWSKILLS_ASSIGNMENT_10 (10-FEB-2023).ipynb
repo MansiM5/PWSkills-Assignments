{
 "cells": [
  {
   "cell_type": "code",
   "execution_count": null,
   "id": "b091510f",
   "metadata": {},
   "outputs": [],
   "source": [
    "Q1. Which function is used to open a file? What are the different modes of opening a file? Explain each mode\n",
    "of file opening."
   ]
  },
  {
   "cell_type": "markdown",
   "id": "84d1649c",
   "metadata": {},
   "source": [
    "Ans- open() is a function to open a file. Different modes of opening a file-\n",
    "* Read only (r)= To open the text file for reading. This is default mode. If the file does not exist, it will return I/O error. The handle is positioned at the beginning of file.\n",
    "* Read & Write (r+)= To open the file for reading of writing. Handle is positioned at the beginning of file. Returns I/O error if file does not exist.\n",
    "* Write(w)= Open the file for writing. For existing files, the data is truncated & over-written. The handle is positioned at the beginning. Creates the file if not existing.\n",
    "* Write & Read(w+)= Open the file for reading & writing. For existing file the data is truncated & over-written. Handle is positioned at the beginning.\n",
    "* Append only(a)= Open the file for writing. File is created if not exisiting. Handle is positioned at the end of file. Data being written will be inserted at the end, after the existing data.\n",
    "* Apeend and Read(a+)= Open the file for reading & writing. File is created if not exist. Handle is positioned at the end of file. Data being written will be inserted at the end, after the existing data.\n",
    "* 'x'= create a new file and open it for writing\n",
    "* 'b'= binary mode\n",
    "* 't'= text mode\n",
    "* '+'= open a disk file for updating (reading and writing)\n",
    "* 'U'= universal newline mode (deprecated)"
   ]
  },
  {
   "cell_type": "code",
   "execution_count": null,
   "id": "be3dffe1",
   "metadata": {},
   "outputs": [],
   "source": [
    "Q2. Why close() function is used? Why is it important to close a file?"
   ]
  },
  {
   "cell_type": "markdown",
   "id": "cd6a9434",
   "metadata": {},
   "source": [
    "* close() function is used to close an open file. It is important to close a file to avoid the risk of being unwarrantedly modified or read. Also, due to buffering changes made to a file may not show until the file is closed."
   ]
  },
  {
   "cell_type": "code",
   "execution_count": null,
   "id": "4bd8ab13",
   "metadata": {},
   "outputs": [],
   "source": [
    "Q3. Write a python program to create a text file. Write ‘I want to become a Data Scientist’ in that file. Then\n",
    "close the file. Open this file and read the content of the file."
   ]
  },
  {
   "cell_type": "code",
   "execution_count": 26,
   "id": "85e7e1d0",
   "metadata": {},
   "outputs": [
    {
     "name": "stdout",
     "output_type": "stream",
     "text": [
      "I want to become a Data Scientist\n"
     ]
    }
   ],
   "source": [
    "file= open(\"my_text_file.txt\", \"w\")\n",
    "file.write(\"I want to become a Data Scientist\")\n",
    "file.close()\n",
    "f=open(\"my_text_file.txt\", \"r\")\n",
    "print(f.read())"
   ]
  },
  {
   "cell_type": "code",
   "execution_count": 9,
   "id": "1b16d33b",
   "metadata": {},
   "outputs": [],
   "source": [
    "Q4. Explain the following with python code: read(), readline() and readlines()."
   ]
  },
  {
   "cell_type": "markdown",
   "id": "745ae26c",
   "metadata": {},
   "source": [
    "* read()= returns the read bytes in form of a string. If n not specified, reads the entire file\n",
    "* readline()= reads the line of file & returns in form of string. Does not return more than one line, even if n exceeds the length of the line\n",
    "* readlines()= reads all lines IN A SINGLE GO & return a list containing each line in the file as a list item"
   ]
  },
  {
   "cell_type": "code",
   "execution_count": 68,
   "id": "aba9f425",
   "metadata": {},
   "outputs": [
    {
     "name": "stdout",
     "output_type": "stream",
     "text": [
      "I am learning data science from pwskills \n",
      "I want to become a data scientist \n",
      "I have enrolled for data science imPact batch\n"
     ]
    }
   ],
   "source": [
    "#read()\n",
    "line= \"I am learning data science from pwskills \\n\", \"I want to become a data scientist \\n\", \"I have enrolled for data science imPact batch\"\n",
    "f=open(\"my_text_file1.txt\", \"r\")\n",
    "read_file=f.read()\n",
    "print(read_file)\n",
    "f.close()"
   ]
  },
  {
   "cell_type": "code",
   "execution_count": 66,
   "id": "3e20052b",
   "metadata": {},
   "outputs": [
    {
     "name": "stdout",
     "output_type": "stream",
     "text": [
      "I am learning data science from pwskills \n",
      "\n"
     ]
    }
   ],
   "source": [
    "#readline()\n",
    "f=open(\"my_text_file1.txt\", \"r\")\n",
    "read_line=f.readline()\n",
    "print(read_line)\n",
    "f.close()"
   ]
  },
  {
   "cell_type": "code",
   "execution_count": 67,
   "id": "1daf1fee",
   "metadata": {},
   "outputs": [
    {
     "name": "stdout",
     "output_type": "stream",
     "text": [
      "['I am learning data science from pwskills \\n', 'I want to become a data scientist \\n', 'I have enrolled for data science imPact batch']\n"
     ]
    }
   ],
   "source": [
    "#readlines()\n",
    "f=open(\"my_text_file1.txt\", \"r\")\n",
    "read_lines=f.readlines()\n",
    "print(read_lines)\n",
    "f.close()"
   ]
  },
  {
   "cell_type": "code",
   "execution_count": null,
   "id": "2a8679dd",
   "metadata": {},
   "outputs": [],
   "source": [
    "Q5. Explain why with statement is used with open(). What is the advantage of using with statement and\n",
    "open() together?"
   ]
  },
  {
   "cell_type": "markdown",
   "id": "ad1f4eab",
   "metadata": {},
   "source": [
    "Ans- with statement used with open() is another method of opening a file. Advantage of using with statement & open() together is that the file will be closed as soon as you are out of the block."
   ]
  },
  {
   "cell_type": "code",
   "execution_count": null,
   "id": "52d1f01a",
   "metadata": {},
   "outputs": [],
   "source": [
    "Q6. Explain the write() and writelines() functions. Give a suitable example."
   ]
  },
  {
   "cell_type": "markdown",
   "id": "e713ef79",
   "metadata": {},
   "source": [
    "* write() will write the a string to an already opened file\n",
    "* writelines() writes a list of strings in an opened file"
   ]
  },
  {
   "cell_type": "code",
   "execution_count": 89,
   "id": "02d06a8d",
   "metadata": {},
   "outputs": [],
   "source": [
    "#write()\n",
    "line= \"I am learning data science from pwskills \\n\", \"I want to become a data scientist \\n\", \"I have enrolled for data science imPact batch\"\n",
    "f=open(\"my_text_file2.txt\", \"w\")\n",
    "f.write(\"My name is Mansi\")\n",
    "f.close()"
   ]
  },
  {
   "cell_type": "code",
   "execution_count": 90,
   "id": "3b1cf7c7",
   "metadata": {},
   "outputs": [
    {
     "name": "stdout",
     "output_type": "stream",
     "text": [
      "My name is Mansi\n"
     ]
    }
   ],
   "source": [
    "with open(\"my_text_file2.txt\", \"r\") as f:\n",
    "    print(f.read())"
   ]
  },
  {
   "cell_type": "code",
   "execution_count": 91,
   "id": "816626e4",
   "metadata": {},
   "outputs": [],
   "source": [
    "list= [\"I am learning data science from pwskills \\n\", \"I want to become a data scientist \\n\", \"I have enrolled for data science imPact batch\"]\n"
   ]
  },
  {
   "cell_type": "code",
   "execution_count": 92,
   "id": "a2589a62",
   "metadata": {},
   "outputs": [],
   "source": [
    "#writelines()\n",
    "f=open(\"my_text_file2.txt\", \"w\")\n",
    "f.writelines(list)\n",
    "f.close()"
   ]
  },
  {
   "cell_type": "code",
   "execution_count": 93,
   "id": "dba52c40",
   "metadata": {},
   "outputs": [
    {
     "name": "stdout",
     "output_type": "stream",
     "text": [
      "I am learning data science from pwskills \n",
      "I want to become a data scientist \n",
      "I have enrolled for data science imPact batch\n"
     ]
    }
   ],
   "source": [
    "with open(\"my_text_file2.txt\", \"r\") as f:\n",
    "    print(f.read())"
   ]
  },
  {
   "cell_type": "code",
   "execution_count": 94,
   "id": "3ef57ff0",
   "metadata": {},
   "outputs": [
    {
     "ename": "TypeError",
     "evalue": "write() argument must be str, not list",
     "output_type": "error",
     "traceback": [
      "\u001b[0;31m---------------------------------------------------------------------------\u001b[0m",
      "\u001b[0;31mTypeError\u001b[0m                                 Traceback (most recent call last)",
      "Input \u001b[0;32mIn [94]\u001b[0m, in \u001b[0;36m<cell line: 2>\u001b[0;34m()\u001b[0m\n\u001b[1;32m      1\u001b[0m f\u001b[38;5;241m=\u001b[39m\u001b[38;5;28mopen\u001b[39m(\u001b[38;5;124m\"\u001b[39m\u001b[38;5;124mmy_text_file2.txt\u001b[39m\u001b[38;5;124m\"\u001b[39m, \u001b[38;5;124m\"\u001b[39m\u001b[38;5;124mw\u001b[39m\u001b[38;5;124m\"\u001b[39m)\n\u001b[0;32m----> 2\u001b[0m \u001b[43mf\u001b[49m\u001b[38;5;241;43m.\u001b[39;49m\u001b[43mwrite\u001b[49m\u001b[43m(\u001b[49m\u001b[38;5;28;43mlist\u001b[39;49m\u001b[43m)\u001b[49m \u001b[38;5;66;03m#while list is passed in here, it shows an error, as it writes only string\u001b[39;00m\n\u001b[1;32m      3\u001b[0m f\u001b[38;5;241m.\u001b[39mclose()\n",
      "\u001b[0;31mTypeError\u001b[0m: write() argument must be str, not list"
     ]
    }
   ],
   "source": [
    "f=open(\"my_text_file2.txt\", \"w\")\n",
    "f.write(list) #while list is passed in here, it shows an error, as it writes only string\n",
    "f.close()"
   ]
  },
  {
   "cell_type": "code",
   "execution_count": null,
   "id": "0f2aab0f",
   "metadata": {},
   "outputs": [],
   "source": []
  }
 ],
 "metadata": {
  "kernelspec": {
   "display_name": "Python 3 (ipykernel)",
   "language": "python",
   "name": "python3"
  },
  "language_info": {
   "codemirror_mode": {
    "name": "ipython",
    "version": 3
   },
   "file_extension": ".py",
   "mimetype": "text/x-python",
   "name": "python",
   "nbconvert_exporter": "python",
   "pygments_lexer": "ipython3",
   "version": "3.9.12"
  }
 },
 "nbformat": 4,
 "nbformat_minor": 5
}
