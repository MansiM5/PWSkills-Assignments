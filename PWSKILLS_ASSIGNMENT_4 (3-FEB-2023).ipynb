{
 "cells": [
  {
   "cell_type": "markdown",
   "id": "4cf73a04",
   "metadata": {},
   "source": [
    "### Q1. Which keyword is used to create a function? Create a function to return a list of odd numbers in the range of 1 to 25.\n",
    "\n",
    "Ans- Keywors id \"def\"."
   ]
  },
  {
   "cell_type": "code",
   "execution_count": 9,
   "id": "4eb978e1",
   "metadata": {},
   "outputs": [
    {
     "name": "stdout",
     "output_type": "stream",
     "text": [
      "1 3 5 7 9 11 13 15 17 19 21 23 "
     ]
    }
   ],
   "source": [
    "def odd_num():\n",
    "    for i in range(1,25):\n",
    "        if i%2!=0:\n",
    "            print(i, end=\" \")\n",
    "odd_num()    "
   ]
  },
  {
   "cell_type": "markdown",
   "id": "1ceb730d",
   "metadata": {},
   "source": [
    "### Q2. Why *args and **kwargs is used in some functions? Create a function each for *args and **kwargs to demonstrate their use.\n",
    "\n",
    "Ans- ***args is used to pass any number of arguments while calling a function during runtime.\n",
    "***kwargs is used where we need to pass any number of key & value pairs inside a function."
   ]
  },
  {
   "cell_type": "code",
   "execution_count": 43,
   "id": "fb28475b",
   "metadata": {},
   "outputs": [
    {
     "data": {
      "text/plain": [
       "'mansi'"
      ]
     },
     "execution_count": 43,
     "metadata": {},
     "output_type": "execute_result"
    }
   ],
   "source": [
    "def test(*args): #program to enter any number of data & filtering the string data from it\n",
    "    for i in args:\n",
    "        if type(i)==str:\n",
    "            return i\n",
    "        \n",
    "test(1,2,3,\"mansi\", [12,34],[36,5412])"
   ]
  },
  {
   "cell_type": "code",
   "execution_count": 68,
   "id": "36b9d92b",
   "metadata": {},
   "outputs": [
    {
     "data": {
      "text/plain": [
       "('a', 34)"
      ]
     },
     "execution_count": 68,
     "metadata": {},
     "output_type": "execute_result"
    }
   ],
   "source": [
    "def test1(**kwargs): #progeam to filter data whose values is integer\n",
    "    for i in kwargs:\n",
    "        if type(kwargs[i])==int:\n",
    "            return i, kwargs[i]\n",
    "test1(a=34, c=[12,35,45,67], d=[\"mansi\"])"
   ]
  },
  {
   "cell_type": "markdown",
   "id": "4d99832f",
   "metadata": {},
   "source": [
    "### Q3. What is an iterator in python? Name the method used to initialise the iterator object and the method used for iteration. Use these methods to print the first five elements of the given list [2, 4, 6, 8, 10, 12, 14, 16,18, 20]."
   ]
  },
  {
   "cell_type": "markdown",
   "id": "a68272f2",
   "metadata": {},
   "source": [
    "Ans- Iteraor is an object used to iterate over iterable objects like list, tuples, dictionary and sets. Iterator object is initialized using iter() method. next() is the method used for iteration."
   ]
  },
  {
   "cell_type": "code",
   "execution_count": 73,
   "id": "34392c12",
   "metadata": {},
   "outputs": [
    {
     "name": "stdout",
     "output_type": "stream",
     "text": [
      "2\n",
      "4\n",
      "6\n",
      "8\n",
      "10\n"
     ]
    }
   ],
   "source": [
    "l= [2, 4, 6, 8, 10, 12, 14, 16,18, 20]\n",
    "l_iterator= iter(l)\n",
    "print(next(l_iterator))\n",
    "print(next(l_iterator))\n",
    "print(next(l_iterator))\n",
    "print(next(l_iterator))\n",
    "print(next(l_iterator))"
   ]
  },
  {
   "cell_type": "markdown",
   "id": "e03522b0",
   "metadata": {},
   "source": [
    "### Q4. What is a generator function in python? Why yield keyword is used? Give an example of a generator function.\n",
    "\n",
    "Ans- Generator function in python is used to provide the output one by one. Whenever it needs to generate a value, it is done by using yield keyword rather than return.\n",
    "\n",
    "Yield keyword is used to provide a series of value over time rather than computing them at once & sending back the result."
   ]
  },
  {
   "cell_type": "code",
   "execution_count": 80,
   "id": "0baa8f3b",
   "metadata": {},
   "outputs": [
    {
     "name": "stdout",
     "output_type": "stream",
     "text": [
      "1\n",
      "4\n",
      "9\n",
      "16\n",
      "25\n",
      "36\n",
      "49\n",
      "64\n",
      "81\n",
      "100\n"
     ]
    }
   ],
   "source": [
    "def square(n): #program to print square of given range of numbers using generator fundtion.\n",
    "    for i in range(1,n+1):\n",
    "        yield i*i \n",
    "        \n",
    "for i in square(10):\n",
    "    print(i)"
   ]
  },
  {
   "cell_type": "markdown",
   "id": "15618d11",
   "metadata": {},
   "source": [
    "### Q5. Create a generator function for prime numbers less than 1000. Use the next() method to print the first 20 prime numbers."
   ]
  },
  {
   "cell_type": "code",
   "execution_count": 99,
   "id": "c529a01c",
   "metadata": {},
   "outputs": [
    {
     "name": "stdout",
     "output_type": "stream",
     "text": [
      "2\n",
      "3\n",
      "5\n",
      "7\n",
      "11\n",
      "13\n",
      "17\n",
      "19\n",
      "23\n",
      "29\n",
      "31\n",
      "37\n",
      "41\n",
      "43\n",
      "47\n",
      "53\n",
      "59\n",
      "61\n",
      "67\n",
      "71\n"
     ]
    }
   ],
   "source": [
    "from sympy import *\n",
    "def prime():\n",
    "    n=1\n",
    "    while n<1000:\n",
    "        n=n+1\n",
    "        if isprime(n):\n",
    "            yield n\n",
    "\n",
    "prime_gen= iter(prime())\n",
    "print(next(prime_gen))\n",
    "print(next(prime_gen))\n",
    "print(next(prime_gen))\n",
    "print(next(prime_gen))\n",
    "print(next(prime_gen))\n",
    "print(next(prime_gen))\n",
    "print(next(prime_gen))\n",
    "print(next(prime_gen))\n",
    "print(next(prime_gen))\n",
    "print(next(prime_gen))\n",
    "print(next(prime_gen))\n",
    "print(next(prime_gen))\n",
    "print(next(prime_gen))\n",
    "print(next(prime_gen))\n",
    "print(next(prime_gen))\n",
    "print(next(prime_gen))\n",
    "print(next(prime_gen))\n",
    "print(next(prime_gen))\n",
    "print(next(prime_gen))\n",
    "print(next(prime_gen))\n"
   ]
  },
  {
   "cell_type": "code",
   "execution_count": null,
   "id": "ecc0db02",
   "metadata": {},
   "outputs": [],
   "source": []
  }
 ],
 "metadata": {
  "kernelspec": {
   "display_name": "Python 3 (ipykernel)",
   "language": "python",
   "name": "python3"
  },
  "language_info": {
   "codemirror_mode": {
    "name": "ipython",
    "version": 3
   },
   "file_extension": ".py",
   "mimetype": "text/x-python",
   "name": "python",
   "nbconvert_exporter": "python",
   "pygments_lexer": "ipython3",
   "version": "3.9.12"
  }
 },
 "nbformat": 4,
 "nbformat_minor": 5
}
