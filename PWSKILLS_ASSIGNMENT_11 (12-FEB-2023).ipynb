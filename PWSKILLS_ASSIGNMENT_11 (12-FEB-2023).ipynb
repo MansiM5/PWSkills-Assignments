{
 "cells": [
  {
   "cell_type": "code",
   "execution_count": null,
   "id": "5c75ca12",
   "metadata": {},
   "outputs": [],
   "source": [
    "Q1. What is an Exception in python? Write the difference between Exceptions and syntax errors?"
   ]
  },
  {
   "cell_type": "markdown",
   "id": "ec95c527",
   "metadata": {},
   "source": [
    "Ans)\n",
    "* Exception is an event that occures during the execution of program that disrupts the normal flow of prgram.\n",
    "* Syntax errors are caused by wrong syntax of the code. It leads to termination of program.\n",
    "* Exceptions are raised when program are syntatically correct but code result in an error. This error dpes not change the execution of prgram but changes the normal flow of the program."
   ]
  },
  {
   "cell_type": "code",
   "execution_count": null,
   "id": "afdb5aa3",
   "metadata": {},
   "outputs": [],
   "source": [
    "Q2. What happens when an exception is not handled? Explain with an example?"
   ]
  },
  {
   "cell_type": "markdown",
   "id": "d7e07171",
   "metadata": {},
   "source": [
    "When an exception is not handled, unexpected EOF(syntax error) occurs, which means that interpreter has reached the end of the program before executing all code. If you do not handle the exception correctly, the program will terminate."
   ]
  },
  {
   "cell_type": "code",
   "execution_count": 22,
   "id": "95bddc40",
   "metadata": {},
   "outputs": [
    {
     "ename": "SyntaxError",
     "evalue": "unexpected EOF while parsing (2136071680.py, line 4)",
     "output_type": "error",
     "traceback": [
      "\u001b[0;36m  Input \u001b[0;32mIn [22]\u001b[0;36m\u001b[0m\n\u001b[0;31m    print(\"please find the answer\",c)\u001b[0m\n\u001b[0m                                     ^\u001b[0m\n\u001b[0;31mSyntaxError\u001b[0m\u001b[0;31m:\u001b[0m unexpected EOF while parsing\n"
     ]
    }
   ],
   "source": [
    "try:\n",
    "    a=int(input(\"enter any number: \"))\n",
    "    c=100/a\n",
    "    print(\"please find the answer\",c)\n"
   ]
  },
  {
   "cell_type": "code",
   "execution_count": 24,
   "id": "03e830fd",
   "metadata": {},
   "outputs": [
    {
     "name": "stdout",
     "output_type": "stream",
     "text": [
      "enter any number: 0\n"
     ]
    },
    {
     "ename": "ZeroDivisionError",
     "evalue": "division by zero",
     "output_type": "error",
     "traceback": [
      "\u001b[0;31m---------------------------------------------------------------------------\u001b[0m",
      "\u001b[0;31mZeroDivisionError\u001b[0m                         Traceback (most recent call last)",
      "Input \u001b[0;32mIn [24]\u001b[0m, in \u001b[0;36m<cell line: 1>\u001b[0;34m()\u001b[0m\n\u001b[1;32m      1\u001b[0m \u001b[38;5;28;01mtry\u001b[39;00m:\n\u001b[1;32m      2\u001b[0m     a\u001b[38;5;241m=\u001b[39m\u001b[38;5;28mint\u001b[39m(\u001b[38;5;28minput\u001b[39m(\u001b[38;5;124m\"\u001b[39m\u001b[38;5;124menter any number: \u001b[39m\u001b[38;5;124m\"\u001b[39m))\n\u001b[0;32m----> 3\u001b[0m     c\u001b[38;5;241m=\u001b[39m\u001b[38;5;241;43m100\u001b[39;49m\u001b[38;5;241;43m/\u001b[39;49m\u001b[43ma\u001b[49m\n\u001b[1;32m      4\u001b[0m     \u001b[38;5;28mprint\u001b[39m(\u001b[38;5;124m\"\u001b[39m\u001b[38;5;124mplease find the answer\u001b[39m\u001b[38;5;124m\"\u001b[39m,c)\n\u001b[1;32m      6\u001b[0m \u001b[38;5;28;01mexcept\u001b[39;00m \u001b[38;5;167;01mValueError\u001b[39;00m \u001b[38;5;28;01mas\u001b[39;00m e: \u001b[38;5;66;03m#here all the exceptions are not handled & hence results in an error & program gets terminated\u001b[39;00m\n",
      "\u001b[0;31mZeroDivisionError\u001b[0m: division by zero"
     ]
    }
   ],
   "source": [
    "try:\n",
    "    a=int(input(\"enter any number: \"))\n",
    "    c=100/a\n",
    "    print(\"please find the answer\",c)\n",
    "    \n",
    "except ValueError as e: #here all the exceptions are not handled & hence results in an error & program gets terminated\n",
    "    print(\"you got an error:\", e)\n",
    "    \n",
    "print(\"Hello there\") #this does not get printed as exception did not get handled"
   ]
  },
  {
   "cell_type": "code",
   "execution_count": null,
   "id": "ca4b5d9e",
   "metadata": {},
   "outputs": [],
   "source": [
    "Q3. Which Python statements are used to catch and handle exceptions? Explain with an example"
   ]
  },
  {
   "cell_type": "markdown",
   "id": "1b35826d",
   "metadata": {},
   "source": [
    "Ans)\n",
    "\"try\" statement is used to catch the exception while \"except\" statement is used to handle the exception."
   ]
  },
  {
   "cell_type": "code",
   "execution_count": 60,
   "id": "2b489cd8",
   "metadata": {},
   "outputs": [
    {
     "name": "stdout",
     "output_type": "stream",
     "text": [
      "Enter two values:2 0\n",
      "Hey!, You got an error:  division by zero\n"
     ]
    }
   ],
   "source": [
    "try: #here \"try\" will check for any variation from normal flow of code\n",
    "    x,y= [int(x) for x in input(\"Enter two values:\"). split()]\n",
    "    print(x/y) \n",
    "except Exception as e: #exception will handle that error\n",
    "    print(\"Hey!, You got an error: \", e)"
   ]
  },
  {
   "cell_type": "code",
   "execution_count": null,
   "id": "d89c950a",
   "metadata": {},
   "outputs": [],
   "source": [
    "Q4. Explain with an example: try & else, finally, raise"
   ]
  },
  {
   "cell_type": "code",
   "execution_count": 64,
   "id": "f5eb82ef",
   "metadata": {},
   "outputs": [
    {
     "name": "stdout",
     "output_type": "stream",
     "text": [
      "Enter two values:2 3\n",
      "0.6666666666666666\n",
      "Hey, your 'try' block is executed successfully\n"
     ]
    }
   ],
   "source": [
    "#try & else: if try block gets exected succesfully(without exception) then only, else block gets executed\n",
    "try: #here try will check for any variation from normal flow of code\n",
    "    x,y= [int(x) for x in input(\"Enter two values:\"). split()]\n",
    "    print(x/y) \n",
    "except Exception as e: #exception will handle that error\n",
    "    print(\"Hey!, You got an error: \", e)\n",
    "    \n",
    "else:\n",
    "    print(\"Hey, your 'try' block is executed successfully\")"
   ]
  },
  {
   "cell_type": "code",
   "execution_count": 66,
   "id": "7c08af21",
   "metadata": {},
   "outputs": [
    {
     "name": "stdout",
     "output_type": "stream",
     "text": [
      "Enter two values:2 0\n",
      "Hey!, You got an error:  division by zero\n",
      "Hey, I am always going to execute, so worry less\n"
     ]
    }
   ],
   "source": [
    "#finally: this block gets executed everytime, whether the try or except, any of those gets executed\n",
    "try: #here try will check for any variation from normal flow of code\n",
    "    x,y= [int(x) for x in input(\"Enter two values:\"). split()]\n",
    "    print(x/y) \n",
    "except Exception as e: #exception will handle that error\n",
    "    print(\"Hey!, You got an error: \", e)\n",
    "    \n",
    "else:\n",
    "    print(\"Hey, your 'try' block is executed successfully\")\n",
    "    \n",
    "finally:\n",
    "    print(\"Hey, I am always going to execute, so worry less\")"
   ]
  },
  {
   "cell_type": "code",
   "execution_count": 74,
   "id": "a8de42d4",
   "metadata": {},
   "outputs": [
    {
     "ename": "ValueError",
     "evalue": "string cannot be changed to integer",
     "output_type": "error",
     "traceback": [
      "\u001b[0;31m---------------------------------------------------------------------------\u001b[0m",
      "\u001b[0;31mValueError\u001b[0m                                Traceback (most recent call last)",
      "Input \u001b[0;32mIn [74]\u001b[0m, in \u001b[0;36m<cell line: 3>\u001b[0;34m()\u001b[0m\n\u001b[1;32m      3\u001b[0m \u001b[38;5;28;01mtry\u001b[39;00m:\n\u001b[0;32m----> 4\u001b[0m     i\u001b[38;5;241m=\u001b[39m\u001b[38;5;28;43mint\u001b[39;49m\u001b[43m(\u001b[49m\u001b[43mm\u001b[49m\u001b[43m)\u001b[49m\n\u001b[1;32m      5\u001b[0m \u001b[38;5;28;01mexcept\u001b[39;00m \u001b[38;5;167;01mValueError\u001b[39;00m:\n",
      "\u001b[0;31mValueError\u001b[0m: invalid literal for int() with base 10: 'mansi'",
      "\nDuring handling of the above exception, another exception occurred:\n",
      "\u001b[0;31mValueError\u001b[0m                                Traceback (most recent call last)",
      "Input \u001b[0;32mIn [74]\u001b[0m, in \u001b[0;36m<cell line: 3>\u001b[0;34m()\u001b[0m\n\u001b[1;32m      4\u001b[0m     i\u001b[38;5;241m=\u001b[39m\u001b[38;5;28mint\u001b[39m(m)\n\u001b[1;32m      5\u001b[0m \u001b[38;5;28;01mexcept\u001b[39;00m \u001b[38;5;167;01mValueError\u001b[39;00m:\n\u001b[0;32m----> 6\u001b[0m     \u001b[38;5;28;01mraise\u001b[39;00m \u001b[38;5;167;01mValueError\u001b[39;00m (\u001b[38;5;124m\"\u001b[39m\u001b[38;5;124mstring cannot be changed to integer\u001b[39m\u001b[38;5;124m\"\u001b[39m)\n",
      "\u001b[0;31mValueError\u001b[0m: string cannot be changed to integer"
     ]
    }
   ],
   "source": [
    "#raise- raises exception or errors & stops the control flow of program.\n",
    "m= \"mansi\"\n",
    "try:\n",
    "    i=int(m)\n",
    "except ValueError:\n",
    "    raise ValueError (\"string cannot be changed to integer\")"
   ]
  },
  {
   "cell_type": "code",
   "execution_count": null,
   "id": "efc145d9",
   "metadata": {},
   "outputs": [],
   "source": [
    "Q5. What are Custom Exceptions in python? Why do we need Custom Exceptions? Explain with an example"
   ]
  },
  {
   "cell_type": "markdown",
   "id": "b213eff6",
   "metadata": {},
   "source": [
    "Custom exceptions are user-defined exceptions is python. \n",
    "We need custom exceptions wherein according to user something is supposed to be an error but it is not an error to our system or we want to showcase something as an error.\n",
    "Example- The minimum & maximum temp in Fahrenheit is 32 & 212, but when asked to user he can enter any integer. If the value entered by the user is not in the range as above, we can raise custom exception as below-"
   ]
  },
  {
   "cell_type": "code",
   "execution_count": 101,
   "id": "48f3cb2b",
   "metadata": {},
   "outputs": [
    {
     "name": "stdout",
     "output_type": "stream",
     "text": [
      "enter a temperature34\n",
      "34.0 Fahrenhite= 1.11 Celsius\n"
     ]
    }
   ],
   "source": [
    "class FahrenhiteError(Exception): #we have made a class inherting from Exception class, defining custom exception here\n",
    "    min_f=32\n",
    "    max_f=212\n",
    "    def __init__(self, msg):\n",
    "        self.msg=msg\n",
    "           \n",
    "def fahrenhite_to_celsius(f): #this function raises FahrenhiteError exception if input is not in range, otherwise convert it.\n",
    "    if f< FahrenhiteError.min_f or f > FahrenhiteError.max_f:\n",
    "        raise FahrenhiteError(f\"This {msg} is not in valid range\")\n",
    "    return (f-32)*5/9\n",
    "\n",
    "f= input(\"enter a temperature\")\n",
    "try:\n",
    "    f=float(f)\n",
    "except ValueError as ex:\n",
    "    print(ex)\n",
    "else:\n",
    "    try: \n",
    "        c=fahrenhite_to_celsius(float(f))\n",
    "    except FahrenhiteError as ex:\n",
    "        print(ex)\n",
    "    else:\n",
    "        print(f'{f} Fahrenhite= {c:.2f} Celsius')\n",
    "        "
   ]
  },
  {
   "cell_type": "code",
   "execution_count": null,
   "id": "bdeff361",
   "metadata": {},
   "outputs": [],
   "source": [
    "Q6. Create custom exception class. Use this class to handle an exception."
   ]
  },
  {
   "cell_type": "code",
   "execution_count": 102,
   "id": "b2aa6083",
   "metadata": {},
   "outputs": [
    {
     "name": "stdout",
     "output_type": "stream",
     "text": [
      "Please enter the amount to be withdrawn: 300\n",
      "Your transaction is complete\n"
     ]
    }
   ],
   "source": [
    "class withdraw(Exception): #custom exception class\n",
    "    def __init__(self, msg):\n",
    "        self.msg= msg\n",
    "        \n",
    "def atm_withdraw(amount):\n",
    "    if amount>balance:\n",
    "        raise withdraw(\"Your account does not have sufficient balance\")\n",
    "    elif amount%100!=0:\n",
    "        raise withdraw(\"Withdrawl amount is incorrect, should be in multiples of 100\")\n",
    "    else:\n",
    "        print(\"Your transaction is complete\")\n",
    "        \n",
    "try: \n",
    "    balance=10000\n",
    "    amount= int(input(\"Please enter the amount to be withdrawn: \"))\n",
    "    atm_withdraw(amount)\n",
    "except withdraw as e: #handling the custom exception\n",
    "    print(e)"
   ]
  },
  {
   "cell_type": "code",
   "execution_count": null,
   "id": "348f89a5",
   "metadata": {},
   "outputs": [],
   "source": []
  }
 ],
 "metadata": {
  "kernelspec": {
   "display_name": "Python 3 (ipykernel)",
   "language": "python",
   "name": "python3"
  },
  "language_info": {
   "codemirror_mode": {
    "name": "ipython",
    "version": 3
   },
   "file_extension": ".py",
   "mimetype": "text/x-python",
   "name": "python",
   "nbconvert_exporter": "python",
   "pygments_lexer": "ipython3",
   "version": "3.9.12"
  }
 },
 "nbformat": 4,
 "nbformat_minor": 5
}
