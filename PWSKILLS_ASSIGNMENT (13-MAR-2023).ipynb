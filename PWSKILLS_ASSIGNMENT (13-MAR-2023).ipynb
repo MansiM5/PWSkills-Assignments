{
 "cells": [
  {
   "cell_type": "code",
   "execution_count": null,
   "id": "c640a0f7",
   "metadata": {},
   "outputs": [],
   "source": [
    "Explain the assumptions required to use ANOVA and provide examples of violations that could impact\n",
    "the validity of the results."
   ]
  },
  {
   "cell_type": "markdown",
   "id": "5f5c6975",
   "metadata": {},
   "source": [
    "Normality: The data in each group must be normally distributed. This means that the mean, median, and mode should be roughly equal, and the data should follow a bell-shaped curve.\n",
    "\n",
    "Homogeneity of variance: The variance of the data in each group should be roughly equal. This means that the spread of the data should be the same for all groups.\n",
    "\n",
    "Independence: Observations in each group should be independent of each other.\n",
    "* Voilence:\n",
    "\n",
    "Non-normality: If the data is not normally distributed, ANOVA may give incorrect results. For example, if one group has a skewed distribution, it may be necessary to transform the data before conducting the analysis.\n",
    "\n",
    "Heterogeneity of variance: If the variance is not equal across groups, ANOVA may give incorrect results. For example, if one group has much larger variance than the others, it can lead to inflated Type I error rates.\n",
    "\n",
    "Dependence: If observations in one group are related to observations in another group, ANOVA may give incorrect results. For example, if some observations are repeated measures or if the observations are clustered in some way, it may be necessary to use a different statistical method that accounts for dependence."
   ]
  },
  {
   "cell_type": "code",
   "execution_count": null,
   "id": "854ae86c",
   "metadata": {},
   "outputs": [],
   "source": [
    "Q2. What are the three types of ANOVA, and in what situations would each be used?"
   ]
  },
  {
   "cell_type": "markdown",
   "id": "043752aa",
   "metadata": {},
   "source": [
    "One-way ANOVA: It is used when comparing means of a single dependent variable across two or more independent groups or categories. For example, a study comparing the test scores of students in different schools.\n",
    "\n",
    "Two-way ANOVA: It is used when comparing means of a single dependent variable across two or more independent groups or categories that are crossed with two or more independent variables. For example, a study comparing the test scores of students in different schools (independent variable 1) and genders (independent variable 2).\n",
    "\n",
    "Repeated measures ANOVA: It is used when comparing means of a single dependent variable across two or more conditions or time points within the same group of participants. For example, a study comparing the reaction time of participants before and after a caffeine dose."
   ]
  },
  {
   "cell_type": "code",
   "execution_count": null,
   "id": "35d20b0d",
   "metadata": {},
   "outputs": [],
   "source": [
    "Q3. What is the partitioning of variance in ANOVA, and why is it important to understand this concept?"
   ]
  },
  {
   "cell_type": "markdown",
   "id": "ee769efe",
   "metadata": {},
   "source": [
    "The partitioning of variance is a fundamental concept in ANOVA (analysis of variance). It refers to the decomposition of the total variance of the dependent variable into different components that can be attributed to specific sources of variation. This partitioning is important because it allows us to determine the proportion of variance that can be explained by the independent variables and the proportion that remains unexplained."
   ]
  },
  {
   "cell_type": "code",
   "execution_count": null,
   "id": "e68e0bbc",
   "metadata": {},
   "outputs": [],
   "source": [
    "Q4. How would you calculate the total sum of squares (SST), explained sum of squares (SSE), and residual\n",
    "sum of squares (SSR) in a one-way ANOVA using Python?"
   ]
  },
  {
   "cell_type": "code",
   "execution_count": 4,
   "id": "de643174",
   "metadata": {},
   "outputs": [
    {
     "name": "stdout",
     "output_type": "stream",
     "text": [
      "331.0748847926268\n",
      "917.4751152073737\n",
      "1248.5500000000006\n"
     ]
    }
   ],
   "source": [
    "import pandas as pd\n",
    "import numpy as np\n",
    "import statsmodels.api as sm\n",
    "from statsmodels.formula.api import ols\n",
    "\n",
    "df = pd.DataFrame({'hours': [1, 1, 1, 2, 2, 2, 2, 2, 3, 3,\n",
    "                             3, 4, 4, 4, 5, 5, 6, 7, 7, 8],\n",
    "                   'score': [68, 76, 74, 80, 76, 78, 81, 84, 86, 83,\n",
    "                             88, 85, 89, 94, 93, 94, 96, 89, 92, 97]})\n",
    "y = df['score']\n",
    "\n",
    "x = df[['hours']]\n",
    "x = sm.add_constant(x)\n",
    "model = sm.OLS(y, x).fit()\n",
    "sse = np.sum((model.fittedvalues - df.score)**2)\n",
    "print(sse)\n",
    "ssr = np.sum((model.fittedvalues - df.score.mean())**2)\n",
    "print(ssr)\n",
    "sst = ssr + sse\n",
    "print(sst)\n"
   ]
  },
  {
   "cell_type": "code",
   "execution_count": null,
   "id": "33787ea5",
   "metadata": {},
   "outputs": [],
   "source": [
    "Q5. In a two-way ANOVA, how would you calculate the main effects and interaction effects using Python?"
   ]
  },
  {
   "cell_type": "code",
   "execution_count": 8,
   "id": "1e494a07",
   "metadata": {},
   "outputs": [
    {
     "name": "stdout",
     "output_type": "stream",
     "text": [
      "                             df     sum_sq   mean_sq         F    PR(>F)\n",
      "C(Fertilizer)               1.0   0.033333  0.033333  0.012069  0.913305\n",
      "C(Watering)                 1.0   0.092308  0.092308  0.033422  0.856260\n",
      "C(Fertilizer):C(Watering)   1.0   0.057692  0.057692  0.020889  0.886118\n",
      "Residual                   28.0  77.333333  2.761905       NaN       NaN\n"
     ]
    }
   ],
   "source": [
    "import statsmodels.api as sm\n",
    "from statsmodels.formula.api import ols\n",
    "dataframe = pd.DataFrame({'Fertilizer': np.repeat(['daily', 'weekly'], 15),\n",
    "                          'Watering': np.repeat(['daily', 'weekly'], 15),\n",
    "                          'height': [14, 16, 15, 15, 16, 13, 12, 11,\n",
    "                                     14, 15, 16, 16, 17, 18, 14, 13, \n",
    "                                     14, 14, 14, 15, 16, 16, 17, 18,\n",
    "                                     14, 13, 14, 14, 14, 15]})\n",
    "\n",
    "model = ols('height ~ C(Fertilizer) + C(Watering) +\\C(Fertilizer):C(Watering)',\n",
    "data=dataframe).fit()\n",
    "result = sm.stats.anova_lm(model, type=2)\n",
    "\n",
    "print(result)\n"
   ]
  },
  {
   "cell_type": "code",
   "execution_count": null,
   "id": "18227711",
   "metadata": {},
   "outputs": [],
   "source": [
    "Q6. Suppose you conducted a one-way ANOVA and obtained an F-statistic of 5.23 and a p-value of 0.02.\n",
    "What can you conclude about the differences between the groups, and how would you interpret these\n",
    "results?"
   ]
  },
  {
   "cell_type": "markdown",
   "id": "c72b0b13",
   "metadata": {},
   "source": [
    "Based on the F-statistic of 5.23 and a p-value of 0.02, we can conclude that there is a significant difference between the means of the groups. The null hypothesis in the ANOVA is that all group means are equal, and a small p-value indicates that we have enough evidence to reject this null hypothesis in favor of the alternative hypothesis, which states that at least one group mean is different from the others."
   ]
  },
  {
   "cell_type": "code",
   "execution_count": null,
   "id": "beaa3ac2",
   "metadata": {},
   "outputs": [],
   "source": [
    "Q7. In a repeated measures ANOVA, how would you handle missing data, and what are the potential\n",
    "consequences of using different methods to handle missing data?"
   ]
  },
  {
   "cell_type": "markdown",
   "id": "52ed4ed1",
   "metadata": {},
   "source": [
    "There are different methods to handle missing data, such as listwise deletion, pairwise deletion, mean imputation, and maximum likelihood estimation.Listwise deletion involves removing all cases with missing data, which can lead to a reduction in sample size and loss of statistical power. Pairwise deletion involves using all available data for each comparison, which can result in different sample sizes for different comparisons, and it can lead to biased estimates and reduced power.\n",
    "\n",
    "Mean imputation involves replacing missing values with the mean value of the observed data, which can lead to biased estimates and an underestimation of standard errors.\n",
    "\n",
    "Maximum likelihood estimation is a statistical method that estimates the missing data by taking into account the distribution of the observed data. "
   ]
  },
  {
   "cell_type": "code",
   "execution_count": null,
   "id": "51bfa151",
   "metadata": {},
   "outputs": [],
   "source": [
    "Q8. What are some common post-hoc tests used after ANOVA, and when would you use each one? Provide\n",
    "an example of a situation where a post-hoc test might be necessary."
   ]
  },
  {
   "cell_type": "markdown",
   "id": "4062d0e6",
   "metadata": {},
   "source": [
    "Tukey's HSD: This test is commonly used when the sample sizes are equal in all groups. Tukey's HSD compares the means of all pairs of groups and tests whether the difference between any two means is significantly different from zero. This test is useful for identifying which specific groups have significantly different means. For example, after performing an ANOVA analysis of test scores among four different schools, we may use Tukey's HSD test to compare the mean scores of each school to identify which schools have significantly different scores.\n",
    "\n",
    "Bonferroni correction: This test is commonly used when multiple comparisons are made. Bonferroni correction adjusts the significance level of each test to control the overall type I error rate. This test is useful for minimizing the chance of falsely identifying a significant difference between groups. For example, after performing an ANOVA analysis of the effect of three different treatments on patient outcomes, we may use Bonferroni correction to adjust the significance level of each comparison to control the overall type I error rate.\n",
    "\n",
    "Scheffé's method: This test is commonly used when the sample sizes are unequal among groups. Scheffé's method compares the means of all pairs of groups and tests whether the difference between any two means is significantly different from zero. This test is useful for identifying which specific groups have significantly different means while taking into account the unequal sample sizes. For example, after performing an ANOVA analysis of the effect of three different diets on weight loss, we may use Scheffé's method to compare the mean weight loss of each diet group while taking into account the unequal sample sizes.\n",
    "\n",
    "Dunnett's test: This test is commonly used when the goal is to compare each group to a control group. Dunnett's test compares the means of each group to the mean of the control group and tests whether the difference between any two means is significantly different from zero. This test is useful for identifying which specific groups have significantly different means compared to the control group. For example, after performing an ANOVA analysis of the effect of four different fertilizers on plant growth, we may use Dunnett's test to compare the mean plant growth of each fertilizer group to the mean plant growth of the control group."
   ]
  },
  {
   "cell_type": "code",
   "execution_count": null,
   "id": "7622382d",
   "metadata": {},
   "outputs": [],
   "source": [
    "Q9. A researcher wants to compare the mean weight loss of three diets: A, B, and C. They collect data from\n",
    "50 participants who were randomly assigned to one of the diets. Conduct a one-way ANOVA using Python\n",
    "to determine if there are any significant differences between the mean weight loss of the three diets.\n",
    "Report the F-statistic and p-value, and interpret the results."
   ]
  },
  {
   "cell_type": "code",
   "execution_count": 9,
   "id": "24cc3de4",
   "metadata": {},
   "outputs": [
    {
     "name": "stdout",
     "output_type": "stream",
     "text": [
      "F-statistic: 34.055555555555436\n",
      "p-value: 0.008665142023030993\n"
     ]
    }
   ],
   "source": [
    "import pandas as pd\n",
    "import scipy.stats as stats\n",
    "data = pd.DataFrame({\n",
    "    'Diet': ['A', 'B', 'C', 'A', 'B', 'C', ...],\n",
    "    'Weight Loss': [2.5, 1.8, 3.2, 2.1, 1.9, 3.3, ...]\n",
    "})\n",
    "\n",
    "f_statistic, p_value = stats.f_oneway(data[data['Diet'] == 'A']['Weight Loss'],\n",
    "                                      data[data['Diet'] == 'B']['Weight Loss'],\n",
    "                                      data[data['Diet'] == 'C']['Weight Loss'])\n",
    "\n",
    "print('F-statistic:', f_statistic)\n",
    "print('p-value:', p_value)\n"
   ]
  },
  {
   "cell_type": "code",
   "execution_count": null,
   "id": "1bd2ee7b",
   "metadata": {},
   "outputs": [],
   "source": [
    "Q10. A company wants to know if there are any significant differences in the average time it takes to\n",
    "complete a task using three different software programs: Program A, Program B, and Program C. They\n",
    "randomly assign 30 employees to one of the programs and record the time it takes each employee to\n",
    "complete the task. Conduct a two-way ANOVA using Python to determine if there are any main effects or\n",
    "interaction effects between the software programs and employee experience level (novice vs.\n",
    "experienced). Report the F-statistics and p-values, and interpret the results."
   ]
  },
  {
   "cell_type": "code",
   "execution_count": null,
   "id": "1bc72e78",
   "metadata": {},
   "outputs": [],
   "source": [
    "import pandas as pd\n",
    "import statsmodels.api as sm\n",
    "from statsmodels.formula.api import ols\n",
    "\n",
    "data = pd.DataFrame({\n",
    "    'Program': ['A', 'A', 'B', 'B', 'C', 'C', ...],\n",
    "    'Experience': ['Novice', 'Experienced', 'Novice', 'Experienced', 'Novice', 'Experienced', ...],\n",
    "    'Completion Time': [24.5, 28.2, 26.8, 29.1, 23.9, 26.5, ...]\n",
    "})\n",
    "model = ols('Completion_Time ~ C(Program) + C(Experience) + C(Program):C(Experience)', data=data).fit()\n",
    "anova_table = sm.stats.anova_lm(model, typ=2)\n",
    "print(anova_table)\n"
   ]
  },
  {
   "cell_type": "code",
   "execution_count": null,
   "id": "daeb0406",
   "metadata": {},
   "outputs": [],
   "source": [
    "Q11. An educational researcher is interested in whether a new teaching method improves student test\n",
    "scores. They randomly assign 100 students to either the control group (traditional teaching method) or the\n",
    "experimental group (new teaching method) and administer a test at the end of the semester. Conduct a\n",
    "two-sample t-test using Python to determine if there are any significant differences in test scores\n",
    "between the two groups. If the results are significant, follow up with a post-hoc test to determine which\n",
    "group(s) differ significantly from each other."
   ]
  },
  {
   "cell_type": "code",
   "execution_count": null,
   "id": "4ff88875",
   "metadata": {},
   "outputs": [],
   "source": [
    "import pandas as pd\n",
    "import scipy.stats as stats\n",
    "from statsmodels.stats.multicomp import pairwise_tukeyhsd\n",
    "data = pd.DataFrame({\n",
    "    'Group': ['Control', 'Control', 'Experimental', 'Experimental', ...],\n",
    "    'Score': [76, 82,89, 93, ...]\n",
    "})\n",
    "control_scores = data.loc[data['Group'] == 'Control', 'Score']\n",
    "experimental_scores = data.loc[data['Group'] == 'Experimental', 'Score']\n",
    "t_stat, p_value = stats.ttest_ind(control_scores, experimental_scores, equal_var=False)\n",
    "\n",
    "print(\"t-statistic: {:.2f}, p-value: {:.4f}\".format(t_stat, p_value))\n",
    "from statsmodels.stats.multicomp import pairwise_tukeyhsd\n",
    "tukey_results = pairwise_tukeyhsd(data['Score'], data['Group'])\n",
    "print(tukey_results)\n"
   ]
  },
  {
   "cell_type": "markdown",
   "id": "d0635078",
   "metadata": {},
   "source": [
    "Q12. A researcher wants to know if there are any significant differences in the average daily sales of three\n",
    "retail stores: Store A, Store B, and Store C. They randomly select 30 days and record the sales for each store\n",
    "on those days. Conduct a repeated measures ANOVA using Python to determine if there are any\n",
    "significant differences in sales between the three stores. If the results are significant, follow up with a post-\n",
    "hoc test to determine which store(s) differ significantly from each other."
   ]
  },
  {
   "cell_type": "code",
   "execution_count": null,
   "id": "7656f2f0",
   "metadata": {},
   "outputs": [],
   "source": [
    "import pandas as pd\n",
    "import scipy.stats as stats\n",
    "from statsmodels.stats.multicomp import pairwise_tukeyhsd\n",
    "\n",
    "data = pd.DataFrame({\n",
    "    'Store': ['A', 'A', ..., 'C', 'C', ...],\n",
    "    'Sales': [1000, 1200, ..., 800, 950, ...],\n",
    "    'Day': [1, 2, ..., 29, 30, ...]\n",
    "})\n",
    "\n",
    "a_sales = data.loc[data['Store'] == 'A', 'Sales']\n",
    "b_sales = data.loc[data['Store'] == 'B', 'Sales']\n",
    "c_sales = data.loc[data['Store'] == 'C', 'Sales']\n",
    "f_stat, p_value = stats.f_oneway(a_sales, b_sales, c_sales)\n",
    "\n",
    "print(\"F-statistic: {:.2f}, p-value: {:.4f}\".format(f_stat, p_value))\n",
    "\n",
    "tukey_results = pairwise_tukeyhsd(data['Sales'], data['Store'], alpha=0.05)\n",
    "print(tukey_results)\n"
   ]
  },
  {
   "cell_type": "code",
   "execution_count": null,
   "id": "b734b2a2",
   "metadata": {},
   "outputs": [],
   "source": []
  }
 ],
 "metadata": {
  "kernelspec": {
   "display_name": "Python 3 (ipykernel)",
   "language": "python",
   "name": "python3"
  },
  "language_info": {
   "codemirror_mode": {
    "name": "ipython",
    "version": 3
   },
   "file_extension": ".py",
   "mimetype": "text/x-python",
   "name": "python",
   "nbconvert_exporter": "python",
   "pygments_lexer": "ipython3",
   "version": "3.9.12"
  }
 },
 "nbformat": 4,
 "nbformat_minor": 5
}
