{
 "cells": [
  {
   "cell_type": "code",
   "execution_count": null,
   "id": "301969ff",
   "metadata": {},
   "outputs": [],
   "source": [
    "Q1: What is Estimation Statistics? Explain point estimate and interval estimate."
   ]
  },
  {
   "cell_type": "markdown",
   "id": "98cb1851",
   "metadata": {},
   "source": [
    "Estimation statistics is a branch of inferential statistics that involves making predictions or estimates about the characteristics of a population based on a sample of data.\n",
    "\n",
    "* A point estimate is a single value that is used to estimate a population parameter, such as the mean or the proportion.\n",
    "\n",
    "* An interval estimate, on the other hand, is a range of values that is used to estimate a population parameter."
   ]
  },
  {
   "cell_type": "code",
   "execution_count": null,
   "id": "9f1d546f",
   "metadata": {},
   "outputs": [],
   "source": [
    "Q2. Write a Python function to estimate the population mean using a sample mean and standard\n",
    "deviation."
   ]
  },
  {
   "cell_type": "code",
   "execution_count": 3,
   "id": "9f45f09b",
   "metadata": {},
   "outputs": [
    {
     "name": "stdout",
     "output_type": "stream",
     "text": [
      "Estimated population mean: 20\n",
      "95% Confidence interval: (19.02, 20.98)\n"
     ]
    }
   ],
   "source": [
    "import math \n",
    "sample_mean = 20\n",
    "sample_std_dev = 5\n",
    "sample_size = 100\n",
    "std_error = sample_std_dev / math.sqrt(sample_size)\n",
    "margin_of_error = 1.96 * std_error\n",
    "lower_bound = sample_mean - margin_of_error\n",
    "upper_bound = sample_mean + margin_of_error\n",
    "print(\"Estimated population mean:\", sample_mean)\n",
    "print(\"95% Confidence interval:\", (lower_bound, upper_bound))"
   ]
  },
  {
   "cell_type": "code",
   "execution_count": null,
   "id": "193fc5ed",
   "metadata": {},
   "outputs": [],
   "source": [
    "Q3: What is Hypothesis testing? Why is it used? State the importance of Hypothesis testing."
   ]
  },
  {
   "cell_type": "markdown",
   "id": "ee4fe5d9",
   "metadata": {},
   "source": [
    "Hypothesis testing is a statistical method used to determine whether there is enough evidence to reject a null hypothesis in favor of an alternative hypothesis. \n",
    "\n",
    "It is used to make decisions based on data and evidence.\n",
    "\n",
    "The importance of hypothesis testing is its ability to provide a rigorous framework for decision-making based on data. "
   ]
  },
  {
   "cell_type": "code",
   "execution_count": null,
   "id": "a592b396",
   "metadata": {},
   "outputs": [],
   "source": [
    "Q4. Create a hypothesis that states whether the average weight of male college students is greater than\n",
    "the average weight of female college students."
   ]
  },
  {
   "cell_type": "markdown",
   "id": "e44296bd",
   "metadata": {},
   "source": [
    "Null Hypothesis (H0): The average weight of male college students is equal to or less than the average weight of female college students.\n",
    "\n",
    "Alternative Hypothesis (H1): The average weight of male college students is greater than the average weight of female college students."
   ]
  },
  {
   "cell_type": "code",
   "execution_count": null,
   "id": "78264afb",
   "metadata": {},
   "outputs": [],
   "source": [
    "Q5. Write a Python script to conduct a hypothesis test on the difference between two population means,\n",
    "given a sample from each population."
   ]
  },
  {
   "cell_type": "code",
   "execution_count": 4,
   "id": "2a6c06b7",
   "metadata": {},
   "outputs": [
    {
     "name": "stdout",
     "output_type": "stream",
     "text": [
      "Sample mean of population 1: 9.903700473193743\n",
      "Sample mean of population 2: 11.913528611364663\n",
      "Sample standard deviation of population 1: 1.6522539817381492\n",
      "Sample standard deviation of population 2: 1.7486892801696592\n",
      "T-statistic: -5.847874587260807\n",
      "P-value: 6.565613581512298e-08\n"
     ]
    }
   ],
   "source": [
    "import numpy as np\n",
    "from scipy.stats import ttest_ind\n",
    "\n",
    "population1 = np.random.normal(10, 2, 50)\n",
    "population2 = np.random.normal(12, 2, 50)\n",
    "\n",
    "mean1 = np.mean(population1)\n",
    "mean2 = np.mean(population2)\n",
    "std1 = np.std(population1)\n",
    "std2 = np.std(population2)\n",
    "\n",
    "t, p = ttest_ind(population1, population2, equal_var=True)\n",
    "\n",
    "print(\"Sample mean of population 1:\", mean1)\n",
    "print(\"Sample mean of population 2:\", mean2)\n",
    "print(\"Sample standard deviation of population 1:\", std1)\n",
    "print(\"Sample standard deviation of population 2:\", std2)\n",
    "print(\"T-statistic:\", t)\n",
    "print(\"P-value:\", p)\n"
   ]
  },
  {
   "cell_type": "code",
   "execution_count": null,
   "id": "27093661",
   "metadata": {},
   "outputs": [],
   "source": [
    "Q6: What is a null and alternative hypothesis? Give some examples."
   ]
  },
  {
   "cell_type": "markdown",
   "id": "053898c2",
   "metadata": {},
   "source": [
    "The null hypothesis represents the status of default assumption, while the alternative hypothesis represents the opposite or alternative possibility that is being tested.\n",
    "\n",
    "Ex: A doctor wants to test whether a new drug is more effective than an existing drug in treating a certain medical condition.\n",
    "\n",
    "Null Hypothesis (H0): The new drug is not more effective than the existing drug in treating the medical condition.\n",
    "Alternative Hypothesis (H1): The new drug is more effective than the existing drug in treating the medical condition."
   ]
  },
  {
   "cell_type": "code",
   "execution_count": null,
   "id": "658279b5",
   "metadata": {},
   "outputs": [],
   "source": [
    "Q7: Write down the steps involved in hypothesis testing."
   ]
  },
  {
   "cell_type": "markdown",
   "id": "fd8a5967",
   "metadata": {},
   "source": [
    "1. State the null hypothesis (H0) and alternative hypothesis (H1)\n",
    "\n",
    "2. Choose the appropriate test statistic\n",
    "\n",
    "3. Set the level of significance (alpha)\n",
    "\n",
    "4. Collect the data and calculate the test statistic\n",
    "\n",
    "5. Determine the p-value\n",
    "\n",
    "6. Compare the p-value to the level of significance\n",
    "\n",
    "7. Interpret the results\n",
    "\n",
    "8. Report the findings"
   ]
  },
  {
   "cell_type": "code",
   "execution_count": null,
   "id": "0c94d4c2",
   "metadata": {},
   "outputs": [],
   "source": [
    "Q8. Define p-value and explain its significance in hypothesis testing."
   ]
  },
  {
   "cell_type": "markdown",
   "id": "0261b3fc",
   "metadata": {},
   "source": [
    "The p-value is a probability value that is used in hypothesis testing to quantify the strength of evidence against the null hypothesis. The p-value can also be used to assess the uncertainty associated with the hypothesis test and to evaluate the precision of the estimate of the effect size."
   ]
  },
  {
   "cell_type": "code",
   "execution_count": null,
   "id": "3f9b6def",
   "metadata": {},
   "outputs": [],
   "source": [
    "Q9. Generate a Student's t-distribution plot using Python's matplotlib library, with the degrees of freedom\n",
    "parameter set to 10."
   ]
  },
  {
   "cell_type": "code",
   "execution_count": 8,
   "id": "c9f0be8f",
   "metadata": {},
   "outputs": [
    {
     "data": {
      "image/png": "[encoded data removed]",
      "text/plain": [
       "<Figure size 432x288 with 1 Axes>"
      ]
     },
     "metadata": {
      "needs_background": "light"
     },
     "output_type": "display_data"
    }
   ],
   "source": [
    "import numpy as np\n",
    "import matplotlib.pyplot as plt\n",
    "from scipy.stats import t\n",
    "\n",
    "df = 10\n",
    "\n",
    "x = np.linspace(-2, 2, 1000)\n",
    "\n",
    "y = t.pdf(x, df)\n",
    "\n",
    "plt.plot(x, y, label='t-distribution (df=10)')\n",
    "plt.xlabel('x')\n",
    "plt.ylabel('Probability density')\n",
    "plt.title('Student\\'s t-distribution')\n",
    "plt.legend()\n",
    "plt.show()\n"
   ]
  },
  {
   "cell_type": "code",
   "execution_count": null,
   "id": "9882b977",
   "metadata": {},
   "outputs": [],
   "source": [
    "Q10. Write a Python program to calculate the two-sample t-test for independent samples, given two\n",
    "random samples of equal size and a null hypothesis that the population means are equal."
   ]
  },
  {
   "cell_type": "code",
   "execution_count": 9,
   "id": "7b3f71be",
   "metadata": {},
   "outputs": [
    {
     "name": "stdout",
     "output_type": "stream",
     "text": [
      "Two-sample t-test result (null hypothesis: the population means are equal):\n",
      "t-statistic = -1.6318, p-value = 0.1059\n"
     ]
    }
   ],
   "source": [
    "import numpy as np\n",
    "from scipy.stats import ttest_ind\n",
    "sample1 = np.random.normal(5, 2, 50)\n",
    "sample2 = np.random.normal(6, 2, 50)\n",
    "null_hypothesis = 'the population means are equal'\n",
    "t_statistic, p_value = ttest_ind(sample1, sample2, equal_var=True)\n",
    "print(f'Two-sample t-test result (null hypothesis: {null_hypothesis}):')\n",
    "print(f't-statistic = {t_statistic:.4f}, p-value = {p_value:.4f}')\n"
   ]
  },
  {
   "cell_type": "code",
   "execution_count": null,
   "id": "04298fc7",
   "metadata": {},
   "outputs": [],
   "source": [
    "Q11: What is Student’s t distribution? When to use the t-Distribution."
   ]
  },
  {
   "cell_type": "markdown",
   "id": "40c3a0c2",
   "metadata": {},
   "source": [
    "Student's t-distribution is a probability distribution that is used to estimate population parameters when the sample size is small (typically less than 30) or when the population standard deviation is unknown. \n",
    "The t-distribution is used in hypothesis testing to test whether the means of two populations are significantly different, when the sample sizes are small or the population standard deviation is unknown. "
   ]
  },
  {
   "cell_type": "code",
   "execution_count": null,
   "id": "d7365696",
   "metadata": {},
   "outputs": [],
   "source": [
    "Q12: What is t-statistic? State the formula for t-statistic."
   ]
  },
  {
   "cell_type": "markdown",
   "id": "5d268bd3",
   "metadata": {},
   "source": [
    "The t-statistic is a test statistic that is used in hypothesis testing to test whether the means of two populations are significantly different. It is calculated by taking the difference between the sample means and dividing by the standard error of the difference.\n",
    "\n",
    "The formula for the t-statistic is:\n",
    "\n",
    "t = (x̄₁ - x̄₂) / (sᵢ * √(1/n₁ + 1/n₂))"
   ]
  },
  {
   "cell_type": "code",
   "execution_count": null,
   "id": "58b8302a",
   "metadata": {},
   "outputs": [],
   "source": [
    "Q13. A coffee shop owner wants to estimate the average daily revenue for their shop. They take a random\n",
    "sample of 50 days and find the sample mean revenue to be $500 with a standard deviation of $50.\n",
    "Estimate the population mean revenue with a 95% confidence interval."
   ]
  },
  {
   "cell_type": "markdown",
   "id": "73f3cc37",
   "metadata": {},
   "source": [
    "Standard error (SE) = s / (n)**(1/2) = 50 / (50)**(1/2) = 7.07\n",
    "\n",
    "Confidence interval = 500 + 2.0096 * 7.07 = 514.73\n",
    "Confidence interval = 500 - 2.0096 * 7.07 = 485.27\n",
    "Population mean revenue falls between $485.27 and $514.73"
   ]
  },
  {
   "cell_type": "code",
   "execution_count": null,
   "id": "9e55ed98",
   "metadata": {},
   "outputs": [],
   "source": [
    "Q14. A researcher hypothesizes that a new drug will decrease blood pressure by 10 mmHg. They conduct a\n",
    "clinical trial with 100 patients and find that the sample mean decrease in blood pressure is 8 mmHg with a\n",
    "standard deviation of 3 mmHg. Test the hypothesis with a significance level of 0.05."
   ]
  },
  {
   "cell_type": "markdown",
   "id": "ef77c327",
   "metadata": {},
   "source": [
    "Null hypothesis (H0): The true population mean decrease in blood pressure is not different from 10 mmHg.\n",
    "Alternative hypothesis (H1): The true population mean decrease in blood pressure is less than 10 mmHg.\n",
    "\n",
    "t = (x̄ - μ0) / (s / √n) = (8 - 10) / (3 / (100)**1/2 = -6.67\n",
    "\n",
    "t-value from t-distribution table is -1.660.\n",
    "\n",
    "Since the calculated t-value (-6.67) is less than the critical t-value (-1.660), we reject the null hypothesis and conclude that the new drug significantly decreases blood pressure by more than 10 mmHg at a significance level of 0.05."
   ]
  },
  {
   "cell_type": "code",
   "execution_count": null,
   "id": "15ca9f52",
   "metadata": {},
   "outputs": [],
   "source": [
    "Q15. An electronics company produces a certain type of product with a mean weight of 5 pounds and a\n",
    "standard deviation of 0.5 pounds. A random sample of 25 products is taken, and the sample mean weight\n",
    "is found to be 4.8 pounds. Test the hypothesis that the true mean weight of the products is less than 5\n",
    "pounds with a significance level of 0.01."
   ]
  },
  {
   "cell_type": "markdown",
   "id": "39fc99b8",
   "metadata": {},
   "source": [
    "Null hypothesis (H0): The true population mean weight is equal to 5 pounds.\n",
    "Alternative hypothesis (H1): The true population mean weight is less than 5 pounds.\n",
    "\n",
    "t = (x̄ - μ0) / (s / √n) = (4.8 - 5) / (0.5 / (25)**1/2) = -2\n",
    "\n",
    "t-value from t-table is -2.492.\n",
    "\n",
    "Since the calculated t-value (-2) is greater than the critical t-value (-2.492), we fail to reject the null hypothesis and conclude that there is not enough evidence to support the claim that the true mean weight of the products is less than 5 pounds at a significance level of 0.01."
   ]
  },
  {
   "cell_type": "code",
   "execution_count": null,
   "id": "f77b993f",
   "metadata": {},
   "outputs": [],
   "source": [
    "Q16. Two groups of students are given different study materials to prepare for a test. The first group (n1 =\n",
    "30) has a mean score of 80 with a standard deviation of 10, and the second group (n2 = 40) has a mean\n",
    "score of 75 with a standard deviation of 8. Test the hypothesis that the population means for the two\n",
    "groups are equal with a significance level of 0.01."
   ]
  },
  {
   "cell_type": "markdown",
   "id": "f6a73e24",
   "metadata": {},
   "source": [
    "Null hypothesis (H0): The population means for the two groups are equal.\n",
    "Alternative hypothesis (Ha): The population means for the two groups are not equal.\n",
    "\n",
    "This is two-tailed test\n",
    "\n",
    "Degrees of freedom (df) = n1 + n2 - 2 = 68 \n",
    "First, we need to calculate the pooled standard deviation:\n",
    "\n",
    "sd = 9.02\n",
    "\n",
    "Next, we need to calculate the t-statistic:\n",
    "\n",
    "t = (x̄1 - x̄2) / (sd * √(1/n1 + 1/n2)) = (80 - 75) / (9.02 * √(1/30 + 1/40)) = 2.24\n",
    "\n",
    "The critical t-value from t-table is ±2.634.\n",
    "\n",
    "Since the calculated t-value (2.24) is less than the critical t-value of 2.634 and greater than the negative critical t-value of -2.634, we fail to reject the null hypothesis and conclude that there is not enough evidence to support the claim that the population means for the two groups are different at a significance level of 0.01."
   ]
  },
  {
   "cell_type": "code",
   "execution_count": null,
   "id": "e0d53811",
   "metadata": {},
   "outputs": [],
   "source": [
    "Q17. A marketing company wants to estimate the average number of ads watched by viewers during a TV\n",
    "program. They take a random sample of 50 viewers and find that the sample mean is 4 with a standard\n",
    "deviation of 1.5. Estimate the population mean with a 99% confidence interval."
   ]
  },
  {
   "cell_type": "markdown",
   "id": "1dc572bb",
   "metadata": {},
   "source": [
    "Confidence interval = sample mean ± (critical value) × (standard error)\n",
    "From a t-distribution table t-value is 2.681\n",
    "\n",
    "The standard error can be calculated as:\n",
    "\n",
    "standard error = standard deviation / sqrt(sample size)\n",
    "= 1.5 / sqrt(50)\n",
    "= 0.2121\n",
    "\n",
    "Confidence interval = 4 ± (2.681) × (0.2121)\n",
    "= (3.42, 4.58)\n",
    "\n",
    "We can say with 99% confidence that the true population mean of the number of ads watched by viewers during a TV program is between 3.42 and 4.58."
   ]
  },
  {
   "cell_type": "code",
   "execution_count": null,
   "id": "b25b9815",
   "metadata": {},
   "outputs": [],
   "source": []
  }
 ],
 "metadata": {
  "kernelspec": {
   "display_name": "Python 3 (ipykernel)",
   "language": "python",
   "name": "python3"
  },
  "language_info": {
   "codemirror_mode": {
    "name": "ipython",
    "version": 3
   },
   "file_extension": ".py",
   "mimetype": "text/x-python",
   "name": "python",
   "nbconvert_exporter": "python",
   "pygments_lexer": "ipython3",
   "version": "3.9.12"
  }
 },
 "nbformat": 4,
 "nbformat_minor": 5
}
