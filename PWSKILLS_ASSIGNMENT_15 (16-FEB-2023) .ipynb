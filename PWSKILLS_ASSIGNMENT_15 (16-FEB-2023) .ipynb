{
 "cells": [
  {
   "cell_type": "code",
   "execution_count": null,
   "id": "11243724",
   "metadata": {},
   "outputs": [],
   "source": [
    "Q1. What is a database? Differentiate between SQL and NoSQL databases."
   ]
  },
  {
   "cell_type": "markdown",
   "id": "1528d91c",
   "metadata": {},
   "source": [
    "Database is a organized collection of information. \n",
    "* SQL(Structured Query Language)-relational database, stores structured data (tables) whereas NoSQL (Not Only SQL)- non relational database stores unstructured data (text, images, key-value, etc)"
   ]
  },
  {
   "cell_type": "code",
   "execution_count": null,
   "id": "05b24fcf",
   "metadata": {},
   "outputs": [],
   "source": [
    "Q2. What is DDL? Explain why CREATE, DROP, ALTER, and TRUNCATE are used with an example."
   ]
  },
  {
   "cell_type": "markdown",
   "id": "6d7a3c32",
   "metadata": {},
   "source": [
    "DDL is data definition language which defines the portion of SQL that creates, alters and deletes database objects/ defines the database schema.\n",
    "* CREATE- used to create a database or a table\n",
    "\n",
    "Example: \n",
    "#### CREATE database test;\n",
    "* DROP- used to drop an exisiting database or a table\n",
    "\n",
    "Example: \n",
    "\n",
    "#### DROP database test;\n",
    "* ALTER- used to add, delete or modify columns in an existing table, also add and drop various constraints\n",
    "\n",
    "Example: \n",
    "\n",
    "#### Create database table; #creating a database\n",
    "#### CREATE TABLE if not exists test_table (id INT, name VARCHAR (50)); #table creation\n",
    "#### ALTER TABLE test_table ADD age INT; #adding age to table\n",
    "* TRUNCATE- deletes the data inside the table but not the table itself\n",
    "\n",
    "Example: \n",
    "\n",
    "#### TRUNCATE TABLE test_table;"
   ]
  },
  {
   "cell_type": "code",
   "execution_count": null,
   "id": "6b04f80d",
   "metadata": {},
   "outputs": [],
   "source": [
    "Q3. What is DML? Explain INSERT, UPDATE, and DELETE with an example."
   ]
  },
  {
   "cell_type": "markdown",
   "id": "d0131482",
   "metadata": {},
   "source": [
    "DML is Data Manipulation Language that is used to access and manipulate data in existing table.\n",
    "* INSERT- inserts rows into an existing table\n",
    "\n",
    "Example:\n",
    "\n",
    "#### INSERT INTO test.test_table values (1, 'Mansi', 25)\n",
    "* UPDATE- updates/ change values of a set of existing table rows\n",
    "\n",
    "Example:\n",
    "\n",
    "#### UPDATE test_table\n",
    "#### SET name = 'Maheshwari' where id = 1;\n",
    "* DELETE- statement deletes rows from a table\n",
    "\n",
    "Example:\n",
    "\n",
    "#### DELETE FROM test_table WHERE id =1;"
   ]
  },
  {
   "cell_type": "code",
   "execution_count": null,
   "id": "620bcb96",
   "metadata": {},
   "outputs": [],
   "source": [
    "Q4. What is DQL? Explain SELECT with an example."
   ]
  },
  {
   "cell_type": "markdown",
   "id": "66cbbc45",
   "metadata": {},
   "source": [
    "DQL refers to Data Query Language, used for performing queries on the data within schema objects. \n",
    "\n",
    "Example:\n",
    "\n",
    "#### SELECT * FROM test_table;"
   ]
  },
  {
   "cell_type": "code",
   "execution_count": null,
   "id": "516a3d88",
   "metadata": {},
   "outputs": [],
   "source": [
    "Q5. Explain Primary Key and Foreign Key."
   ]
  },
  {
   "cell_type": "markdown",
   "id": "c41cd662",
   "metadata": {},
   "source": [
    "* The PRIMARY KEY uniquely identifies each record in a table. It must contain UNIQUE values, and cannot contain NULL values.\n",
    "* The FOREIGN KEY is used to prevent actions that would destroy links between tables. A FOREIGN KEY is a field in one table, that refers to the PRIMARY KEY in another table."
   ]
  },
  {
   "cell_type": "code",
   "execution_count": null,
   "id": "ec545aab",
   "metadata": {},
   "outputs": [],
   "source": [
    "Q6. Write a python code to connect MySQL to python. Explain the cursor() and execute() method."
   ]
  },
  {
   "cell_type": "code",
   "execution_count": null,
   "id": "ec9d7c93",
   "metadata": {},
   "outputs": [],
   "source": [
    "import mysql.connector\n",
    "mydb= mysql.connector.connect(host ='localhost', user=\"abc\", password=\"password\")\n",
    "print(mydb)\n",
    "mycursor = mydb.cursor()\n",
    "mycursor.execute(\"SHOW DATABASES\")\n",
    "for x in mycursor:\n",
    "    print(x)\n",
    "    \n",
    "##### cursor(): It is an object used to make the connection for executing SQL queries.\n",
    "##### execute(): It is used to showcase/ execute the SQL query."
   ]
  },
  {
   "cell_type": "code",
   "execution_count": null,
   "id": "90d1b306",
   "metadata": {},
   "outputs": [],
   "source": [
    "Q7. Give the order of execution of SQL clauses in an SQL query."
   ]
  },
  {
   "cell_type": "code",
   "execution_count": null,
   "id": "4b67ecbc",
   "metadata": {},
   "outputs": [],
   "source": [
    "* FROM/JOIN\n",
    "* WHERE\n",
    "* GROUP BY\n",
    "* HAVING\n",
    "* SELECT\n",
    "* ORDER BY\n",
    "* LIMIT/OFFSET"
   ]
  }
 ],
 "metadata": {
  "kernelspec": {
   "display_name": "Python 3 (ipykernel)",
   "language": "python",
   "name": "python3"
  },
  "language_info": {
   "codemirror_mode": {
    "name": "ipython",
    "version": 3
   },
   "file_extension": ".py",
   "mimetype": "text/x-python",
   "name": "python",
   "nbconvert_exporter": "python",
   "pygments_lexer": "ipython3",
   "version": "3.9.12"
  }
 },
 "nbformat": 4,
 "nbformat_minor": 5
}
