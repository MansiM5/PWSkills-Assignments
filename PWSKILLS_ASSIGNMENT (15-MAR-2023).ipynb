{
 "cells": [
  {
   "cell_type": "code",
   "execution_count": null,
   "id": "63bf08c2",
   "metadata": {},
   "outputs": [],
   "source": [
    "Q1- Explain the following:AI, ML, DL"
   ]
  },
  {
   "cell_type": "markdown",
   "id": "1c2936d0",
   "metadata": {},
   "source": [
    "* AI- refers to smart applications that can perform it's own task without human intervention. Ex- Robots\n",
    "* ML- it provides statistics to analyze, predict, learn, visualize and develope predictive models. Ex- Netflix, Amazon recommendation\n",
    "* DL- mimic human brain- Object detection"
   ]
  },
  {
   "cell_type": "code",
   "execution_count": null,
   "id": "4c3d4ca9",
   "metadata": {},
   "outputs": [],
   "source": [
    "Q2- What is supervised learning? List some examples."
   ]
  },
  {
   "cell_type": "markdown",
   "id": "1ff17120",
   "metadata": {},
   "source": [
    "In supervised learning, dataset is given to you and you have a specific output, and your entire model is trained to predict this output. Ex: Prediction if a person is diabetic based on independent parameters"
   ]
  },
  {
   "cell_type": "code",
   "execution_count": null,
   "id": "7fc3ab4a",
   "metadata": {},
   "outputs": [],
   "source": [
    "Q3- What is unsupervised learning? List some examples."
   ]
  },
  {
   "cell_type": "markdown",
   "id": "c2ff7cf5",
   "metadata": {},
   "source": [
    "In unsupervised learning, you don't have a specific output as such, you have a dataset and you have to form clusters or similar groups.\n",
    "Ex: Customer segmentation"
   ]
  },
  {
   "cell_type": "markdown",
   "id": "916c01d7",
   "metadata": {},
   "source": [
    "Q4- What is the difference between AI, ML, DL, and DS?"
   ]
  },
  {
   "cell_type": "markdown",
   "id": "c408c531",
   "metadata": {},
   "source": [
    "* AI- refers to smart applications that can perform it's own task without human intervention. Ex- Robots\n",
    "* ML- it provides statistics to analyze, predict, learn, visualize and develope predictive models. Ex- Netflix, Amazon recommendation\n",
    "* DL- mimic human brain- Object detection\n",
    "\n",
    "DL is a subset of ML, ML is a subset of AI & DS is where you study about all of them."
   ]
  },
  {
   "cell_type": "code",
   "execution_count": null,
   "id": "5258d19e",
   "metadata": {},
   "outputs": [],
   "source": [
    "Q5- What are the main differences between supervised, unsupervised & semi supervised learning?"
   ]
  },
  {
   "cell_type": "markdown",
   "id": "d7249bce",
   "metadata": {},
   "source": [
    "Supervised learning uses labeled data to train models for prediction, unsupervised learning uses unlabeled data to find patterns in data, and semi-supervised learning combines both labeled and unlabeled data to train models when labeled data is limited."
   ]
  },
  {
   "cell_type": "code",
   "execution_count": null,
   "id": "20216881",
   "metadata": {},
   "outputs": [],
   "source": [
    "Q6- What is train, test and validation split? Explain the importance of each term."
   ]
  },
  {
   "cell_type": "markdown",
   "id": "55eed282",
   "metadata": {},
   "source": [
    "Train, test and validation split is a method of dividing the dataset inorder to train a model so that it can predict output\n",
    "* Training Dataset- Train the model\n",
    "* Validation- Hyper parameter tuning of model\n",
    "* Test- Test the model, how model is able to perform wrt accuracy"
   ]
  },
  {
   "cell_type": "code",
   "execution_count": null,
   "id": "33420406",
   "metadata": {},
   "outputs": [],
   "source": [
    "Q7- How can unsupervised learning be used in anomaly detection?"
   ]
  },
  {
   "cell_type": "markdown",
   "id": "61ee0bdd",
   "metadata": {},
   "source": [
    "Clustering: Unsupervised learning algorithms can be used to group similar instances in data together. Instances that do not belong to any of the clusters or belong to a cluster with a small number of instances may be considered anomalies.\n",
    "\n",
    "Autoencoders: Autoencoders are neural networks that are trained to reconstruct input data. Anomalies in the input data will lead to poor reconstruction and can be detected by comparing the input and output of the autoencoder.\n",
    "\n",
    "Density-based methods: Unsupervised learning algorithms can be used to estimate the probability density function of the data. Instances with low probability density are considered anomalous.\n",
    "\n",
    "Dimensionality reduction: Unsupervised learning algorithms can be used to reduce the dimensionality of data. Anomalies may be detected by observing instances that are far away from the majority of the data points in the reduced-dimensional space."
   ]
  },
  {
   "cell_type": "code",
   "execution_count": null,
   "id": "07de7154",
   "metadata": {},
   "outputs": [],
   "source": [
    "Q8- List down some commonly used supervised learning algorithms and unsupervised learning algorithms."
   ]
  },
  {
   "cell_type": "markdown",
   "id": "1ef1aac7",
   "metadata": {},
   "source": [
    "Supervised Learning Algorithms:\n",
    "\n",
    "Linear Regression\n",
    "Logistic Regression\n",
    "Decision Trees\n",
    "Random Forest\n",
    "Support Vector Machines (SVM)\n",
    "Naive Bayes\n",
    "K-Nearest Neighbors (KNN)\n",
    "Neural Networks\n",
    "Gradient Boosting Machines (GBM)\n",
    "Extreme Gradient Boosting (XGBoost)\n",
    "\n",
    "Unsupervised Learning Algorithms:\n",
    "\n",
    "K-Means Clustering\n",
    "Hierarchical Clustering\n",
    "Density-Based Spatial Clustering of Applications with Noise (DBSCAN)\n",
    "Gaussian Mixture Models (GMM)\n",
    "Principal Component Analysis (PCA)\n",
    "Association Rule Mining (ARM)\n",
    "Self-Organizing Maps (SOM)\n",
    "Deep Belief Networks (DBN)\n",
    "Autoencoders"
   ]
  },
  {
   "cell_type": "code",
   "execution_count": null,
   "id": "bf1f647d",
   "metadata": {},
   "outputs": [],
   "source": []
  }
 ],
 "metadata": {
  "kernelspec": {
   "display_name": "Python 3 (ipykernel)",
   "language": "python",
   "name": "python3"
  },
  "language_info": {
   "codemirror_mode": {
    "name": "ipython",
    "version": 3
   },
   "file_extension": ".py",
   "mimetype": "text/x-python",
   "name": "python",
   "nbconvert_exporter": "python",
   "pygments_lexer": "ipython3",
   "version": "3.9.12"
  }
 },
 "nbformat": 4,
 "nbformat_minor": 5
}
