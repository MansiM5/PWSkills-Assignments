{
 "cells": [
  {
   "cell_type": "markdown",
   "id": "05721446",
   "metadata": {},
   "source": [
    "### Q1. Explain Class and Object with respect to Object-Oriented Programming. Give a suitable example.\n",
    "### Q2. Name the four pillars of OOPs.\n",
    "### Q3. Explain why the __init__() function is used. Give a suitable example.\n",
    "### Q4. Why self is used in OOPs?\n",
    "### Q5. What is inheritance? Give an example for each type of inheritance."
   ]
  },
  {
   "cell_type": "markdown",
   "id": "ff4e44e5",
   "metadata": {},
   "source": [
    "Ans1) A class is a user-defined blueprint from which objects are created. Object is the instance/variable of class.\n",
    "Example: We can have a \"class\" named bank, while the objects can be different banks whose transaction history can be known."
   ]
  },
  {
   "cell_type": "code",
   "execution_count": 98,
   "id": "c095d000",
   "metadata": {},
   "outputs": [
    {
     "name": "stdout",
     "output_type": "stream",
     "text": [
      "Transaction history of hdfc_bank is INR 1000 \n",
      "Transaction history of axis_bank is INR 100 \n"
     ]
    }
   ],
   "source": [
    "class bank:\n",
    "    def hdfc_bank(self):\n",
    "        print(\"Transaction history of hdfc_bank is INR 1000 \")\n",
    "        \n",
    "    def axis_bank(self):\n",
    "        print(\"Transaction history of axis_bank is INR 100 \")\n",
    "        \n",
    "a=bank() #a is a variable of class bank, which is known as class object\n",
    "a.hdfc_bank()\n",
    "a.axis_bank()"
   ]
  },
  {
   "cell_type": "markdown",
   "id": "7cfcaa48",
   "metadata": {},
   "source": [
    "Ans2) Abstraction, Inheritance, Encapsulation, Polymorphism"
   ]
  },
  {
   "cell_type": "markdown",
   "id": "77ef1f5f",
   "metadata": {},
   "source": [
    "Ans3) init() is a constructor containing set of instructions that are executed at the time of object creation. It runs as soon as object is initialized. init() is used to pass data inside my classes. Example-"
   ]
  },
  {
   "cell_type": "code",
   "execution_count": 20,
   "id": "926fb5ee",
   "metadata": {},
   "outputs": [],
   "source": [
    "class bank:\n",
    "    def __init__(self, bank_name, balance):\n",
    "        self.bank_name= bank_name\n",
    "        self.balance= balance\n",
    "        print(f\"bank details are: {bank_name} & {balance}\")"
   ]
  },
  {
   "cell_type": "code",
   "execution_count": 21,
   "id": "a0c9cc88",
   "metadata": {},
   "outputs": [
    {
     "ename": "TypeError",
     "evalue": "__init__() missing 2 required positional arguments: 'bank_name' and 'balance'",
     "output_type": "error",
     "traceback": [
      "\u001b[0;31m---------------------------------------------------------------------------\u001b[0m",
      "\u001b[0;31mTypeError\u001b[0m                                 Traceback (most recent call last)",
      "Input \u001b[0;32mIn [21]\u001b[0m, in \u001b[0;36m<cell line: 1>\u001b[0;34m()\u001b[0m\n\u001b[0;32m----> 1\u001b[0m b\u001b[38;5;241m=\u001b[39m\u001b[43mbank\u001b[49m\u001b[43m(\u001b[49m\u001b[43m)\u001b[49m\n",
      "\u001b[0;31mTypeError\u001b[0m: __init__() missing 2 required positional arguments: 'bank_name' and 'balance'"
     ]
    }
   ],
   "source": [
    "b=bank() #it shows error here as we need to enter the bank name & balance while the object is initialized."
   ]
  },
  {
   "cell_type": "code",
   "execution_count": 22,
   "id": "a1e81899",
   "metadata": {},
   "outputs": [
    {
     "name": "stdout",
     "output_type": "stream",
     "text": [
      "bank details are: hdfc & 1000\n"
     ]
    }
   ],
   "source": [
    "c= bank(\"hdfc\", 1000) #as soon as we initialize the attributes, we are able to run the program."
   ]
  },
  {
   "cell_type": "markdown",
   "id": "c4f5f99f",
   "metadata": {},
   "source": [
    "Ans4) self is defined as the pointer through which class will be able to understand that this method belongs to me as well as class variable will be able to access it. We do not give value of this parameter when we call it, python provides it."
   ]
  },
  {
   "cell_type": "markdown",
   "id": "0d6e9c5d",
   "metadata": {},
   "source": [
    "Ans5) Inheritance is a mechanism that allows us to define a class that can inherit all methods & properties from another class."
   ]
  },
  {
   "cell_type": "code",
   "execution_count": 39,
   "id": "d48b7462",
   "metadata": {},
   "outputs": [
    {
     "name": "stdout",
     "output_type": "stream",
     "text": [
      "bank_name is hdfc\n",
      "bank_transation is 1000\n"
     ]
    }
   ],
   "source": [
    "#Single Inheritance\n",
    "class bank:\n",
    "    def bank_name(self, bank_name):\n",
    "        self.bank_name= bank_name\n",
    "        print(\"bank_name is\", bank_name)\n",
    "    def bank_transaction(self, transaction):\n",
    "        self.transaction= transaction\n",
    "        print(\"bank_transation is\", transaction)\n",
    "        \n",
    "class person(bank):\n",
    "    pass\n",
    "\n",
    "#here class person is inherting properties of class bank (which means you need not provide the same methods again & again, you can directly inherit them from the ckass you want)\n",
    "a=bank()\n",
    "a.bank_name(\"hdfc\")\n",
    "b=person()\n",
    "b.bank_transaction (1000)"
   ]
  },
  {
   "cell_type": "code",
   "execution_count": 139,
   "id": "2c309be6",
   "metadata": {},
   "outputs": [],
   "source": [
    "#Multiple Inheritance\n",
    "class axis_bank:\n",
    "    def axis_transaction(transaction1):\n",
    "        print(\"axis_bank_transation is\", transaction1)\n",
    "        \n",
    "class hdfc_bank:\n",
    "    def hdfc_tran(transaction2):\n",
    "        print(\"Transaction details of hdfc_bank are:\", transaction2)\n",
    "    \n",
    "class bank(axis_bank, hdfc_bank):\n",
    "    pass\n",
    "\n",
    "#here bank class can inherit properties from both axis_bank & hdfc_bank class hence multiple inheritance\n",
    "\n"
   ]
  },
  {
   "cell_type": "code",
   "execution_count": 140,
   "id": "1c0e150d",
   "metadata": {},
   "outputs": [],
   "source": [
    "c=bank() #here bank class is able to inherit properties from axis as well as hdfc bank class"
   ]
  },
  {
   "cell_type": "code",
   "execution_count": 141,
   "id": "8dbc1500",
   "metadata": {},
   "outputs": [
    {
     "name": "stdout",
     "output_type": "stream",
     "text": [
      "axis_bank_transation is 500\n"
     ]
    }
   ],
   "source": [
    "bank.axis_transaction(500)"
   ]
  },
  {
   "cell_type": "code",
   "execution_count": 142,
   "id": "e09f3de4",
   "metadata": {},
   "outputs": [
    {
     "name": "stdout",
     "output_type": "stream",
     "text": [
      "Transaction details of hdfc_bank are: 100\n"
     ]
    }
   ],
   "source": [
    "bank.hdfc_tran(100)"
   ]
  },
  {
   "cell_type": "code",
   "execution_count": 158,
   "id": "f8f6f8eb",
   "metadata": {},
   "outputs": [],
   "source": [
    "#Multi level inheritance\n",
    "\n",
    "class hdfc:\n",
    "    def hdfc_test(self):\n",
    "        print(\"this is hdfc test class\")\n",
    "        \n",
    "class axis(hdfc):\n",
    "    def axis_test(self):\n",
    "        print(\"this is axis test class\")\n",
    "        \n",
    "class bank(axis):\n",
    "    def bank_test(self):\n",
    "        print(\"this is bank test class\")\n",
    "    \n",
    "#here bank will be able to inherit properties from hdfc as well as axis, axis will be able to inherit from hdfc and hdfc class can use only it's own methods"
   ]
  },
  {
   "cell_type": "code",
   "execution_count": 148,
   "id": "4f71bf2d",
   "metadata": {},
   "outputs": [],
   "source": [
    "b= bank() "
   ]
  },
  {
   "cell_type": "code",
   "execution_count": 149,
   "id": "b2db40c9",
   "metadata": {},
   "outputs": [
    {
     "name": "stdout",
     "output_type": "stream",
     "text": [
      "this is axis test class\n"
     ]
    }
   ],
   "source": [
    "b.axis_test()"
   ]
  },
  {
   "cell_type": "code",
   "execution_count": 150,
   "id": "1599c7ba",
   "metadata": {},
   "outputs": [
    {
     "name": "stdout",
     "output_type": "stream",
     "text": [
      "this is hdfc test class\n"
     ]
    }
   ],
   "source": [
    "b.hdfc_test()"
   ]
  },
  {
   "cell_type": "code",
   "execution_count": 151,
   "id": "b713a623",
   "metadata": {},
   "outputs": [
    {
     "name": "stdout",
     "output_type": "stream",
     "text": [
      "this is bank test class\n"
     ]
    }
   ],
   "source": [
    "b.bank_test()"
   ]
  },
  {
   "cell_type": "code",
   "execution_count": 152,
   "id": "6cdfff5b",
   "metadata": {},
   "outputs": [],
   "source": [
    "a=axis()"
   ]
  },
  {
   "cell_type": "code",
   "execution_count": 153,
   "id": "b83fdc23",
   "metadata": {},
   "outputs": [
    {
     "name": "stdout",
     "output_type": "stream",
     "text": [
      "this is axis test class\n"
     ]
    }
   ],
   "source": [
    "a.axis_test()"
   ]
  },
  {
   "cell_type": "code",
   "execution_count": 154,
   "id": "fdb0dc29",
   "metadata": {},
   "outputs": [
    {
     "name": "stdout",
     "output_type": "stream",
     "text": [
      "this is hdfc test class\n"
     ]
    }
   ],
   "source": [
    "a.hdfc_test()"
   ]
  },
  {
   "cell_type": "code",
   "execution_count": 155,
   "id": "39a1b507",
   "metadata": {},
   "outputs": [],
   "source": [
    "h=hdfc()"
   ]
  },
  {
   "cell_type": "code",
   "execution_count": 157,
   "id": "93b91bcc",
   "metadata": {},
   "outputs": [
    {
     "name": "stdout",
     "output_type": "stream",
     "text": [
      "this is hdfc test class\n"
     ]
    }
   ],
   "source": [
    "h.hdfc_test()"
   ]
  }
 ],
 "metadata": {
  "kernelspec": {
   "display_name": "Python 3 (ipykernel)",
   "language": "python",
   "name": "python3"
  },
  "language_info": {
   "codemirror_mode": {
    "name": "ipython",
    "version": 3
   },
   "file_extension": ".py",
   "mimetype": "text/x-python",
   "name": "python",
   "nbconvert_exporter": "python",
   "pygments_lexer": "ipython3",
   "version": "3.9.12"
  }
 },
 "nbformat": 4,
 "nbformat_minor": 5
}
