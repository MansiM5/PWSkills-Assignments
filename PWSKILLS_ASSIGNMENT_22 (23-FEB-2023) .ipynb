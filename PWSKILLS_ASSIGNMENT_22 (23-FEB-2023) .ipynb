{
 "cells": [
  {
   "cell_type": "code",
   "execution_count": null,
   "id": "21de9d75",
   "metadata": {},
   "outputs": [],
   "source": [
    "Q1. Create a Pandas Series that contains the following data: 4, 8, 15, 16, 23, and 42. Then, print the series."
   ]
  },
  {
   "cell_type": "code",
   "execution_count": 1,
   "id": "bf2898a9",
   "metadata": {},
   "outputs": [],
   "source": [
    "import pandas as pd"
   ]
  },
  {
   "cell_type": "code",
   "execution_count": 9,
   "id": "eaa0a53b",
   "metadata": {},
   "outputs": [
    {
     "name": "stdout",
     "output_type": "stream",
     "text": [
      "0     4\n",
      "1     8\n",
      "2    15\n",
      "3    16\n",
      "4    23\n",
      "5    42\n",
      "dtype: int64\n"
     ]
    }
   ],
   "source": [
    "ser= pd.Series([4,8,15,16,23,42])\n",
    "print(ser)"
   ]
  },
  {
   "cell_type": "code",
   "execution_count": null,
   "id": "eb5c4c74",
   "metadata": {},
   "outputs": [],
   "source": [
    "Q2. Create a variable of list type containing 10 elements in it, and apply pandas.Series function on the\n",
    "variable print it."
   ]
  },
  {
   "cell_type": "code",
   "execution_count": 13,
   "id": "a05c3706",
   "metadata": {},
   "outputs": [
    {
     "name": "stdout",
     "output_type": "stream",
     "text": [
      "0     1\n",
      "1     2\n",
      "2     3\n",
      "3     4\n",
      "4     5\n",
      "5     6\n",
      "6     7\n",
      "7     8\n",
      "8     9\n",
      "9    10\n",
      "dtype: int64\n"
     ]
    }
   ],
   "source": [
    "l= [1,2,3,4,5,6,7,8,9,10]\n",
    "s= pd.Series(l)\n",
    "print(s)"
   ]
  },
  {
   "cell_type": "code",
   "execution_count": null,
   "id": "08bdba11",
   "metadata": {},
   "outputs": [],
   "source": [
    "Q3. Create a Pandas DataFrame that contains the following data:\n",
    "\n",
    "Then, print the DataFrame."
   ]
  },
  {
   "cell_type": "code",
   "execution_count": 58,
   "id": "aa77225d",
   "metadata": {},
   "outputs": [
    {
     "name": "stderr",
     "output_type": "stream",
     "text": [
      "/var/folders/v3/gvgqw1yn3kz3wtj91tn6txtc0000gp/T/ipykernel_51694/2170351714.py:3: FutureWarning: this method is deprecated in favour of `Styler.hide(axis='index')`\n",
      "  display(df.style.hide_index())\n"
     ]
    },
    {
     "data": {
      "text/html": [
       "<style type=\"text/css\">\n",
       "</style>\n",
       "<table id=\"T_fe489\">\n",
       "  <thead>\n",
       "    <tr>\n",
       "      <th id=\"T_fe489_level0_col0\" class=\"col_heading level0 col0\" >Name</th>\n",
       "      <th id=\"T_fe489_level0_col1\" class=\"col_heading level0 col1\" >Age</th>\n",
       "      <th id=\"T_fe489_level0_col2\" class=\"col_heading level0 col2\" >Gender</th>\n",
       "    </tr>\n",
       "  </thead>\n",
       "  <tbody>\n",
       "    <tr>\n",
       "      <td id=\"T_fe489_row0_col0\" class=\"data row0 col0\" >Alice</td>\n",
       "      <td id=\"T_fe489_row0_col1\" class=\"data row0 col1\" >25</td>\n",
       "      <td id=\"T_fe489_row0_col2\" class=\"data row0 col2\" >Female</td>\n",
       "    </tr>\n",
       "    <tr>\n",
       "      <td id=\"T_fe489_row1_col0\" class=\"data row1 col0\" >Bob</td>\n",
       "      <td id=\"T_fe489_row1_col1\" class=\"data row1 col1\" >30</td>\n",
       "      <td id=\"T_fe489_row1_col2\" class=\"data row1 col2\" >Male</td>\n",
       "    </tr>\n",
       "    <tr>\n",
       "      <td id=\"T_fe489_row2_col0\" class=\"data row2 col0\" >Claire</td>\n",
       "      <td id=\"T_fe489_row2_col1\" class=\"data row2 col1\" >27</td>\n",
       "      <td id=\"T_fe489_row2_col2\" class=\"data row2 col2\" >Female</td>\n",
       "    </tr>\n",
       "  </tbody>\n",
       "</table>\n"
      ],
      "text/plain": [
       "<pandas.io.formats.style.Styler at 0x7fafb9572d60>"
      ]
     },
     "metadata": {},
     "output_type": "display_data"
    }
   ],
   "source": [
    "data= [['Alice', 25, 'Female'], ['Bob', 30 , 'Male'], ['Claire', 27, 'Female']]\n",
    "df = pd.DataFrame(data, columns= [\"Name\", \"Age\", \"Gender\"])\n",
    "display(df.style.hide_index())"
   ]
  },
  {
   "cell_type": "code",
   "execution_count": null,
   "id": "e2113c41",
   "metadata": {},
   "outputs": [],
   "source": [
    "Q4. What is ‘DataFrame’ in pandas and how is it different from pandas.series? Explain with an example."
   ]
  },
  {
   "cell_type": "markdown",
   "id": "c6ef5239",
   "metadata": {},
   "source": [
    "'DataFrame' is a 2-dimensional heterogeneous tabular data. Series contains only a single list with index, while dataframe can be made of more than one series.\n",
    "---- Example"
   ]
  },
  {
   "cell_type": "code",
   "execution_count": 72,
   "id": "f9729580",
   "metadata": {},
   "outputs": [
    {
     "name": "stdout",
     "output_type": "stream",
     "text": [
      "0    [mansi, maheshwari]\n",
      "dtype: object\n",
      "<class 'pandas.core.series.Series'>\n"
     ]
    }
   ],
   "source": [
    "data1= ['mansi', 'maheshwari']\n",
    "ser= pd.Series(data1)\n",
    "print(ser)\n",
    "print(type(ser))"
   ]
  },
  {
   "cell_type": "code",
   "execution_count": 71,
   "id": "a69fecdf",
   "metadata": {},
   "outputs": [
    {
     "name": "stdout",
     "output_type": "stream",
     "text": [
      "                     0\n",
      "first_name       mansi\n",
      "last_name   maheshwari\n",
      "<class 'pandas.core.frame.DataFrame'>\n"
     ]
    }
   ],
   "source": [
    "data2= ['first_name', 'last_name']\n",
    "df= pd.DataFrame(data1, data2)\n",
    "print(df)\n",
    "print(type(df)) #DataFrame can be made of 2 or more series"
   ]
  },
  {
   "cell_type": "code",
   "execution_count": null,
   "id": "2e5a10c3",
   "metadata": {},
   "outputs": [],
   "source": [
    "Q5. What are some common functions you can use to manipulate data in a Pandas DataFrame? Can\n",
    "you give an example of when you might use one of these functions?"
   ]
  },
  {
   "cell_type": "markdown",
   "id": "f452b682",
   "metadata": {},
   "source": [
    "drop(), rename(), groupby()\n",
    "* We can use these functions in EDA, for example if you have a column with sufficiently large number of Null values, you can use drop() function to drop that column as that column will not be a helpful feature for analysis. "
   ]
  },
  {
   "cell_type": "code",
   "execution_count": null,
   "id": "1579b94e",
   "metadata": {},
   "outputs": [],
   "source": [
    "Q6. Which of the following is mutable in nature Series, DataFrame, Panel?"
   ]
  },
  {
   "cell_type": "markdown",
   "id": "1f10a305",
   "metadata": {},
   "source": [
    "DataFrame is mutable in nature."
   ]
  },
  {
   "cell_type": "code",
   "execution_count": null,
   "id": "c6866d97",
   "metadata": {},
   "outputs": [],
   "source": [
    "Q7. Create a DataFrame using multiple Series. Explain with an example."
   ]
  },
  {
   "cell_type": "code",
   "execution_count": 84,
   "id": "751f1ebb",
   "metadata": {},
   "outputs": [
    {
     "name": "stdout",
     "output_type": "stream",
     "text": [
      "          courses  fees  discount\n",
      "0    Data Science  3500       300\n",
      "1        Big Data  3500       300\n",
      "2  Data Analytics  3200         0\n"
     ]
    }
   ],
   "source": [
    "courses = pd.Series([\"Data Science\",\"Big Data\",\"Data Analytics\"], name= 'courses')\n",
    "fees = pd.Series([3500,3500,3200], name= 'fees')\n",
    "discount  = pd.Series([300,300,0], name= 'discount')\n",
    "\n",
    "df=pd.concat([courses,fees,discount], axis=1)\n",
    "\n",
    "print(df)\n",
    "#here above courses, fees, discount are the series which are used to make a dataframe"
   ]
  },
  {
   "cell_type": "code",
   "execution_count": null,
   "id": "5a256d2e",
   "metadata": {},
   "outputs": [],
   "source": []
  }
 ],
 "metadata": {
  "kernelspec": {
   "display_name": "Python 3 (ipykernel)",
   "language": "python",
   "name": "python3"
  },
  "language_info": {
   "codemirror_mode": {
    "name": "ipython",
    "version": 3
   },
   "file_extension": ".py",
   "mimetype": "text/x-python",
   "name": "python",
   "nbconvert_exporter": "python",
   "pygments_lexer": "ipython3",
   "version": "3.9.12"
  }
 },
 "nbformat": 4,
 "nbformat_minor": 5
}
