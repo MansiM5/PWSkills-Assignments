{
 "cells": [
  {
   "cell_type": "markdown",
   "id": "3dfe7324",
   "metadata": {},
   "source": [
    "### Q1. What are the characteristics of the tuples? Is tuple immutable?\n",
    "\n",
    "Ans- \n",
    "* Tuples can store multiple items in a singlr variable.\n",
    "* Tuples are ordered.\n",
    "* Tuples can contain duplicate items.\n",
    "\n",
    "Yes, tuples are immutable."
   ]
  },
  {
   "cell_type": "markdown",
   "id": "2c6506ee",
   "metadata": {},
   "source": [
    "### Q2. What are the two tuple methods in python? Give an example of each method. Give a reason why tuples have only two in-built methods as compared to Lists.\n",
    "\n",
    "Ans- Two tuple methods are- count & index\n",
    "\n",
    "Example 1- \n",
    "\n",
    "'''If you need to find the occurence of certain element in a tuple, you can use count'''\n",
    "#### t=(1,1,2,3,4,1,1,5,6)\n",
    "#### print(t.count(1))\n",
    "\n",
    "Example 2-\n",
    "\n",
    "'''Suppose we want to know the index of element \"2\"(first occurence of any element) in above define variable \"t\", we can use index()'''\n",
    "#### print(t.index(2))\n",
    "\n",
    "#### ------Tuples have only two built-in methods because tuples are immutable."
   ]
  },
  {
   "cell_type": "markdown",
   "id": "2dea52a4",
   "metadata": {},
   "source": [
    "### Q3. Which collection datatypes in python do not allow duplicate items? Write a code using a set to remove duplicates from the given list.\n",
    "\n",
    "Ans- Set does not allow duplicate items. "
   ]
  },
  {
   "cell_type": "code",
   "execution_count": 27,
   "id": "442ab7a2",
   "metadata": {},
   "outputs": [
    {
     "data": {
      "text/plain": [
       "[1, 2, 3, 4]"
      ]
     },
     "execution_count": 27,
     "metadata": {},
     "output_type": "execute_result"
    }
   ],
   "source": [
    "List = [1, 1, 1, 2, 1, 3, 1, 4, 2, 1, 2, 2, 2, 3, 2, 4, 3, 1, 3, 2, 3, 3, 3, 4, 4, 1, 4, 2, 4, 3, 4, 4]\n",
    "list(set(List))"
   ]
  },
  {
   "cell_type": "markdown",
   "id": "01006b26",
   "metadata": {},
   "source": [
    "### Q4. Explain the difference between the union() and update() methods for a set. Give an example of each method.\n",
    "\n",
    "Ans- update() adds missing  elements to set on which it is called whereas union() creates a new set."
   ]
  },
  {
   "cell_type": "code",
   "execution_count": 43,
   "id": "8fb68f92",
   "metadata": {},
   "outputs": [
    {
     "name": "stdout",
     "output_type": "stream",
     "text": [
      "{'data analytics', 'big data', 'data science'}\n",
      "{'data analytics', 'big data', 'data science'}\n"
     ]
    }
   ],
   "source": [
    "main_course= {\"data science\", \"big data\"}\n",
    "your_course= {\"data analytics\", \"data science\"}\n",
    "course=main_course.union(your_course) #this adds all elements that were missing in main_course and were available in your_course\n",
    "print(course)\n",
    "main_course.update(your_course) #this creates a new set\n",
    "print(main_course)"
   ]
  },
  {
   "cell_type": "markdown",
   "id": "3be765d4",
   "metadata": {},
   "source": [
    "### Q5. What is a dictionary? Give an example. Also, state whether a dictionary is ordered or unordered.\n",
    "\n",
    "Ans- Dictionary is a data structure in python used to store data values as key and value pairs.\n",
    "\n",
    "Example- \n",
    "#### fruits ={'name': 'apple','color': 'red'}\n",
    "#### print(fruits)\n",
    "\n",
    "#### ----Dictionary are ordered."
   ]
  },
  {
   "cell_type": "markdown",
   "id": "955c267b",
   "metadata": {},
   "source": [
    "### Q6. Can we create a nested dictionary? If so, please give an example by creating a simple one-level nested dictionary.\n",
    "\n",
    "Ans- Yes we can create a nested dictionary.\n",
    "\n",
    "Example-"
   ]
  },
  {
   "cell_type": "code",
   "execution_count": 49,
   "id": "371f7860",
   "metadata": {},
   "outputs": [
    {
     "name": "stdout",
     "output_type": "stream",
     "text": [
      "{'name': {'local name': 'apple'}, 'color': 'red'}\n"
     ]
    }
   ],
   "source": [
    "fruit = {\"name\": {\"local name\": \"apple\"}, \"color\": \"red\"}\n",
    "print(fruit)"
   ]
  },
  {
   "cell_type": "markdown",
   "id": "42844c13",
   "metadata": {},
   "source": [
    "### Q7. Using setdefault() method, create key named topics in the given dictionary and also add the value of the key as this list ['Python', 'Machine Learning’, 'Deep Learning'] dict1 = {'language' : 'Python', 'course': 'Data Science Masters'}"
   ]
  },
  {
   "cell_type": "code",
   "execution_count": 61,
   "id": "f2c039ca",
   "metadata": {},
   "outputs": [
    {
     "name": "stdout",
     "output_type": "stream",
     "text": [
      "{'language': 'Python', 'course': 'Data Science Masters', 'topics': \"['Python', 'Machine Learning’, 'Deep Learning']\"}\n"
     ]
    }
   ],
   "source": [
    "dict1= {'language' : 'Python', 'course': 'Data Science Masters'}\n",
    "dict1.setdefault(\"topics\", \"['Python', 'Machine Learning’, 'Deep Learning']\")\n",
    "print(dict1)"
   ]
  },
  {
   "cell_type": "markdown",
   "id": "ccade49f",
   "metadata": {},
   "source": [
    "#### Q8. What are the three view objects in dictionaries? Use the three in-built methods in python to display these three view objects for the given dictionary. dict1 = {'Sport': 'Cricket' , 'Teams': ['India', 'Australia', 'England', 'South Africa', 'Sri Lanka', 'New Zealand']}\n",
    "\n",
    "Ans- Three view objects in dictionaries are: key, value & items"
   ]
  },
  {
   "cell_type": "code",
   "execution_count": 63,
   "id": "80662e08",
   "metadata": {},
   "outputs": [],
   "source": [
    "dict1 = {'Sport': 'Cricket' , 'Teams': ['India', 'Australia', 'England', 'South Africa', 'Sri Lanka', 'New Zealand']}"
   ]
  },
  {
   "cell_type": "code",
   "execution_count": 67,
   "id": "8b156cae",
   "metadata": {
    "scrolled": true
   },
   "outputs": [
    {
     "name": "stdout",
     "output_type": "stream",
     "text": [
      "Keys are: dict_keys(['Sport', 'Teams'])\n",
      "Values are: dict_values(['Cricket', ['India', 'Australia', 'England', 'South Africa', 'Sri Lanka', 'New Zealand']])\n",
      "Items are: dict_items([('Sport', 'Cricket'), ('Teams', ['India', 'Australia', 'England', 'South Africa', 'Sri Lanka', 'New Zealand'])])\n"
     ]
    }
   ],
   "source": [
    "print(\"Keys are:\" , dict1.keys())\n",
    "print(\"Values are:\", dict1.values())\n",
    "print(\"Items are:\", dict1.items())"
   ]
  },
  {
   "cell_type": "code",
   "execution_count": null,
   "id": "4c5bb0a1",
   "metadata": {},
   "outputs": [],
   "source": []
  }
 ],
 "metadata": {
  "kernelspec": {
   "display_name": "Python 3 (ipykernel)",
   "language": "python",
   "name": "python3"
  },
  "language_info": {
   "codemirror_mode": {
    "name": "ipython",
    "version": 3
   },
   "file_extension": ".py",
   "mimetype": "text/x-python",
   "name": "python",
   "nbconvert_exporter": "python",
   "pygments_lexer": "ipython3",
   "version": "3.9.12"
  }
 },
 "nbformat": 4,
 "nbformat_minor": 5
}
